{
  "nbformat": 4,
  "nbformat_minor": 0,
  "metadata": {
    "colab": {
      "name": "GAN.ipynb",
      "provenance": [],
      "collapsed_sections": [],
      "toc_visible": true
    },
    "kernelspec": {
      "name": "python3",
      "display_name": "Python 3"
    },
    "accelerator": "GPU"
  },
  "cells": [
    {
      "cell_type": "code",
      "metadata": {
        "id": "P-_FVqMn-ZEV",
        "colab_type": "code",
        "colab": {}
      },
      "source": [
        "# https://www.kaggle.com/aniruddhakalkar/gan-keras-celeba"
      ],
      "execution_count": 0,
      "outputs": []
    },
    {
      "cell_type": "markdown",
      "metadata": {
        "id": "Edhsgsv5pX8o",
        "colab_type": "text"
      },
      "source": [
        "https://www.kaggle.com/aniruddhakalkar/gan-keras-celeba"
      ]
    },
    {
      "cell_type": "code",
      "metadata": {
        "id": "WRW91p07ZsM7",
        "colab_type": "code",
        "colab": {}
      },
      "source": [
        "!unzip GANdata.zip"
      ],
      "execution_count": 0,
      "outputs": []
    },
    {
      "cell_type": "code",
      "metadata": {
        "id": "JBwJywd9VdTJ",
        "colab_type": "code",
        "colab": {}
      },
      "source": [
        "# !ls drive/    "
      ],
      "execution_count": 0,
      "outputs": []
    },
    {
      "cell_type": "code",
      "metadata": {
        "id": "7Ydba-ZWVsSH",
        "colab_type": "code",
        "colab": {}
      },
      "source": [
        "# from google.colab import drive\n",
        "# drive.mount('/content/drive')"
      ],
      "execution_count": 0,
      "outputs": []
    },
    {
      "cell_type": "code",
      "metadata": {
        "id": "DfM6hfvogK_O",
        "colab_type": "code",
        "outputId": "1cb0ae82-e591-4ccd-b382-60794404f98a",
        "colab": {
          "base_uri": "https://localhost:8080/",
          "height": 34
        }
      },
      "source": [
        "!mkdir ./GAN_Dataset\n",
        "!mv -t ./GAN_Dataset/ ./GAN\\ Dataset/*jpg"
      ],
      "execution_count": 0,
      "outputs": [
        {
          "output_type": "stream",
          "text": [
            "mkdir: cannot create directory ‘./GAN_Dataset’: File exists\n"
          ],
          "name": "stdout"
        }
      ]
    },
    {
      "cell_type": "code",
      "metadata": {
        "id": "rCBNZjQKUaGC",
        "colab_type": "code",
        "outputId": "6b133ecb-d3de-450c-c63f-acda4b3d276b",
        "colab": {
          "base_uri": "https://localhost:8080/",
          "height": 34
        }
      },
      "source": [
        "data_dir = './GAN_Dataset/'\n",
        "import os \n",
        "len(os.listdir(data_dir))"
      ],
      "execution_count": 0,
      "outputs": [
        {
          "output_type": "execute_result",
          "data": {
            "text/plain": [
              "1113"
            ]
          },
          "metadata": {
            "tags": []
          },
          "execution_count": 7
        }
      ]
    },
    {
      "cell_type": "code",
      "metadata": {
        "id": "we9IWGdzkJyX",
        "colab_type": "code",
        "outputId": "5d3d1e04-321e-48b4-a4a2-3a48c74afe7f",
        "colab": {
          "base_uri": "https://localhost:8080/",
          "height": 34
        }
      },
      "source": [
        "os.listdir(data_dir)[1]"
      ],
      "execution_count": 0,
      "outputs": [
        {
          "output_type": "execute_result",
          "data": {
            "text/plain": [
              "'img_1002.jpg'"
            ]
          },
          "metadata": {
            "tags": []
          },
          "execution_count": 8
        }
      ]
    },
    {
      "cell_type": "markdown",
      "metadata": {
        "id": "3o3iJPqKMTLZ",
        "colab_type": "text"
      },
      "source": [
        "# [dversarial-network-gan-using-keras](https://medium.com/datadriveninvestor/generative-adversarial-network-gan-using-keras-ce1c05cfdfd3)"
      ]
    },
    {
      "cell_type": "code",
      "metadata": {
        "id": "ThYr51-XkKkp",
        "colab_type": "code",
        "outputId": "c72201c1-7a98-46ea-8d9b-dc4c92ad9fd1",
        "colab": {
          "base_uri": "https://localhost:8080/",
          "height": 71
        }
      },
      "source": [
        "!pip install scipy==1.1.0\n",
        "import scipy\n",
        "import os\n",
        "from glob import glob\n",
        "import numpy as np\n",
        "import cv2\n",
        "import pandas as pd\n",
        "import matplotlib.pyplot as plt\n",
        "%matplotlib inline\n",
        "import keras\n",
        "from keras.layers import Dense, Dropout, Input\n",
        "from keras.models import Model,Sequential\n",
        "from keras.datasets import mnist\n",
        "from tqdm import tqdm\n",
        "from keras.layers.advanced_activations import LeakyReLU\n",
        "from keras.optimizers import Adam\n",
        "from PIL import Image"
      ],
      "execution_count": 0,
      "outputs": [
        {
          "output_type": "stream",
          "text": [
            "Requirement already satisfied: scipy==1.1.0 in /usr/local/lib/python3.6/dist-packages (1.1.0)\n",
            "Requirement already satisfied: numpy>=1.8.2 in /usr/local/lib/python3.6/dist-packages (from scipy==1.1.0) (1.17.4)\n"
          ],
          "name": "stdout"
        }
      ]
    },
    {
      "cell_type": "code",
      "metadata": {
        "id": "vY2yzwvbqcUU",
        "colab_type": "code",
        "colab": {}
      },
      "source": [
        "data_dir = './GAN_Dataset/'"
      ],
      "execution_count": 0,
      "outputs": []
    },
    {
      "cell_type": "code",
      "metadata": {
        "id": "6VFHTAFDMYl7",
        "colab_type": "code",
        "outputId": "111f3715-73a0-4c10-9d70-d866947d66fb",
        "colab": {
          "base_uri": "https://localhost:8080/",
          "height": 51
        }
      },
      "source": [
        "def get_image( image_path, width, height, mode):  \n",
        "    image = Image.open(image_path)\n",
        "    image = image.resize([width, height])\n",
        "    #print(\"img\",image)\n",
        "    return np.array(image.convert(mode))\n",
        "\n",
        "def get_batch( image_files, width, height, mode):\n",
        "    #print(image_files)\n",
        "    data_batch = np.array([get_image(sample_file, width, height, mode) for sample_file in image_files])\n",
        "    return data_batch\n",
        "\n",
        "def load_data():\n",
        "    X_train = get_batch(glob(os.path.join(data_dir, '*.jpg')), 100, 100, 'RGB')\n",
        "    print(X_train.shape)\n",
        "    X_train = (X_train.astype(np.float32) - 127.5) / 127.5\n",
        "    print(X_train.shape)\n",
        "    # convert shape of x_train from (1113, 100, 100,3) to (1113, 30000) \n",
        "    # 30000=(100,100,3) columns per row\n",
        "    x_train = X_train.reshape(1113, 30000)\n",
        "    return x_train\n",
        "\n",
        "X_train=load_data()\n",
        "# print(X_train.shape)"
      ],
      "execution_count": 0,
      "outputs": [
        {
          "output_type": "stream",
          "text": [
            "(1113, 100, 100, 3)\n",
            "(1113, 100, 100, 3)\n"
          ],
          "name": "stdout"
        }
      ]
    },
    {
      "cell_type": "code",
      "metadata": {
        "id": "h_kH0ktXGBUY",
        "colab_type": "code",
        "colab": {}
      },
      "source": [
        "# get_batch(glob.glob(os.path.join(data_dir, '*.jpg')), 100, 100, 'RGB')"
      ],
      "execution_count": 0,
      "outputs": []
    },
    {
      "cell_type": "code",
      "metadata": {
        "id": "mT7cdQGdMdm_",
        "colab_type": "code",
        "colab": {}
      },
      "source": [
        "def adam_optimizer():\n",
        "    return Adam(lr=0.0002, beta_1=0.5)"
      ],
      "execution_count": 0,
      "outputs": []
    },
    {
      "cell_type": "code",
      "metadata": {
        "id": "KaycGsegMl2j",
        "colab_type": "code",
        "outputId": "2f0dd9d1-9761-4749-8225-a1bc54f74e1a",
        "colab": {
          "base_uri": "https://localhost:8080/",
          "height": 632
        }
      },
      "source": [
        "def create_generator():\n",
        "    generator=Sequential()\n",
        "    # input_dim=4096 is 4096 vector\n",
        "    generator.add(Dense(units=256,input_dim=4096))\n",
        "    generator.add(LeakyReLU(0.2))\n",
        "    \n",
        "    generator.add(Dense(units=512))\n",
        "    generator.add(LeakyReLU(0.2))\n",
        "    \n",
        "    generator.add(Dense(units=1024))\n",
        "    generator.add(LeakyReLU(0.2))\n",
        "    # output unit (100,100,3)=30000\n",
        "    generator.add(Dense(units=30000, activation='tanh'))\n",
        "    \n",
        "    generator.compile(loss='binary_crossentropy', optimizer=adam_optimizer())\n",
        "    return generator\n",
        "g=create_generator()\n",
        "g.summary()"
      ],
      "execution_count": 0,
      "outputs": [
        {
          "output_type": "stream",
          "text": [
            "WARNING:tensorflow:From /usr/local/lib/python3.6/dist-packages/keras/backend/tensorflow_backend.py:66: The name tf.get_default_graph is deprecated. Please use tf.compat.v1.get_default_graph instead.\n",
            "\n",
            "WARNING:tensorflow:From /usr/local/lib/python3.6/dist-packages/keras/backend/tensorflow_backend.py:541: The name tf.placeholder is deprecated. Please use tf.compat.v1.placeholder instead.\n",
            "\n",
            "WARNING:tensorflow:From /usr/local/lib/python3.6/dist-packages/keras/backend/tensorflow_backend.py:4432: The name tf.random_uniform is deprecated. Please use tf.random.uniform instead.\n",
            "\n",
            "WARNING:tensorflow:From /usr/local/lib/python3.6/dist-packages/keras/optimizers.py:793: The name tf.train.Optimizer is deprecated. Please use tf.compat.v1.train.Optimizer instead.\n",
            "\n",
            "WARNING:tensorflow:From /usr/local/lib/python3.6/dist-packages/keras/backend/tensorflow_backend.py:3657: The name tf.log is deprecated. Please use tf.math.log instead.\n",
            "\n",
            "WARNING:tensorflow:From /usr/local/lib/python3.6/dist-packages/tensorflow_core/python/ops/nn_impl.py:183: where (from tensorflow.python.ops.array_ops) is deprecated and will be removed in a future version.\n",
            "Instructions for updating:\n",
            "Use tf.where in 2.0, which has the same broadcast rule as np.where\n",
            "Model: \"sequential_1\"\n",
            "_________________________________________________________________\n",
            "Layer (type)                 Output Shape              Param #   \n",
            "=================================================================\n",
            "dense_1 (Dense)              (None, 256)               1048832   \n",
            "_________________________________________________________________\n",
            "leaky_re_lu_1 (LeakyReLU)    (None, 256)               0         \n",
            "_________________________________________________________________\n",
            "dense_2 (Dense)              (None, 512)               131584    \n",
            "_________________________________________________________________\n",
            "leaky_re_lu_2 (LeakyReLU)    (None, 512)               0         \n",
            "_________________________________________________________________\n",
            "dense_3 (Dense)              (None, 1024)              525312    \n",
            "_________________________________________________________________\n",
            "leaky_re_lu_3 (LeakyReLU)    (None, 1024)              0         \n",
            "_________________________________________________________________\n",
            "dense_4 (Dense)              (None, 30000)             30750000  \n",
            "=================================================================\n",
            "Total params: 32,455,728\n",
            "Trainable params: 32,455,728\n",
            "Non-trainable params: 0\n",
            "_________________________________________________________________\n"
          ],
          "name": "stdout"
        }
      ]
    },
    {
      "cell_type": "code",
      "metadata": {
        "id": "c7Jzto72MpHG",
        "colab_type": "code",
        "outputId": "3529652e-971d-4555-a06f-e51236429fa2",
        "colab": {
          "base_uri": "https://localhost:8080/",
          "height": 564
        }
      },
      "source": [
        "def create_discriminator():\n",
        "    discriminator=Sequential()\n",
        "    discriminator.add(Dense(units=1024,input_dim=30000))\n",
        "    discriminator.add(LeakyReLU(0.2))\n",
        "    discriminator.add(Dropout(0.3))\n",
        "       \n",
        "    discriminator.add(Dense(units=512))\n",
        "    discriminator.add(LeakyReLU(0.2))\n",
        "    discriminator.add(Dropout(0.3))\n",
        "       \n",
        "    discriminator.add(Dense(units=256))\n",
        "    discriminator.add(LeakyReLU(0.2))\n",
        "    # Not sure about add onre more layer with units=128\n",
        "    \n",
        "    discriminator.add(Dense(units=1, activation='sigmoid'))\n",
        "    \n",
        "    discriminator.compile(loss='binary_crossentropy', optimizer=adam_optimizer())\n",
        "    return discriminator\n",
        "d =create_discriminator()\n",
        "d.summary()"
      ],
      "execution_count": 0,
      "outputs": [
        {
          "output_type": "stream",
          "text": [
            "WARNING:tensorflow:From /usr/local/lib/python3.6/dist-packages/keras/backend/tensorflow_backend.py:148: The name tf.placeholder_with_default is deprecated. Please use tf.compat.v1.placeholder_with_default instead.\n",
            "\n",
            "WARNING:tensorflow:From /usr/local/lib/python3.6/dist-packages/keras/backend/tensorflow_backend.py:3733: calling dropout (from tensorflow.python.ops.nn_ops) with keep_prob is deprecated and will be removed in a future version.\n",
            "Instructions for updating:\n",
            "Please use `rate` instead of `keep_prob`. Rate should be set to `rate = 1 - keep_prob`.\n",
            "Model: \"sequential_2\"\n",
            "_________________________________________________________________\n",
            "Layer (type)                 Output Shape              Param #   \n",
            "=================================================================\n",
            "dense_5 (Dense)              (None, 1024)              30721024  \n",
            "_________________________________________________________________\n",
            "leaky_re_lu_4 (LeakyReLU)    (None, 1024)              0         \n",
            "_________________________________________________________________\n",
            "dropout_1 (Dropout)          (None, 1024)              0         \n",
            "_________________________________________________________________\n",
            "dense_6 (Dense)              (None, 512)               524800    \n",
            "_________________________________________________________________\n",
            "leaky_re_lu_5 (LeakyReLU)    (None, 512)               0         \n",
            "_________________________________________________________________\n",
            "dropout_2 (Dropout)          (None, 512)               0         \n",
            "_________________________________________________________________\n",
            "dense_7 (Dense)              (None, 256)               131328    \n",
            "_________________________________________________________________\n",
            "leaky_re_lu_6 (LeakyReLU)    (None, 256)               0         \n",
            "_________________________________________________________________\n",
            "dense_8 (Dense)              (None, 1)                 257       \n",
            "=================================================================\n",
            "Total params: 31,377,409\n",
            "Trainable params: 31,377,409\n",
            "Non-trainable params: 0\n",
            "_________________________________________________________________\n"
          ],
          "name": "stdout"
        }
      ]
    },
    {
      "cell_type": "code",
      "metadata": {
        "id": "gEIZvA_IMsrl",
        "colab_type": "code",
        "outputId": "ca62bb21-576e-43fa-fd2d-45a9bd6e9c49",
        "colab": {
          "base_uri": "https://localhost:8080/",
          "height": 255
        }
      },
      "source": [
        "def create_gan(discriminator, generator):\n",
        "    discriminator.trainable=False\n",
        "    gan_input = Input(shape=(4096,))\n",
        "    x = generator(gan_input)\n",
        "    gan_output= discriminator(x)\n",
        "    gan= Model(inputs=gan_input, outputs=gan_output)\n",
        "    gan.compile(loss='binary_crossentropy', optimizer='adam')\n",
        "    return gan\n",
        "gan = create_gan(d,g)\n",
        "gan.summary()"
      ],
      "execution_count": 0,
      "outputs": [
        {
          "output_type": "stream",
          "text": [
            "Model: \"model_1\"\n",
            "_________________________________________________________________\n",
            "Layer (type)                 Output Shape              Param #   \n",
            "=================================================================\n",
            "input_1 (InputLayer)         (None, 4096)              0         \n",
            "_________________________________________________________________\n",
            "sequential_1 (Sequential)    (None, 30000)             32455728  \n",
            "_________________________________________________________________\n",
            "sequential_2 (Sequential)    (None, 1)                 31377409  \n",
            "=================================================================\n",
            "Total params: 63,833,137\n",
            "Trainable params: 32,455,728\n",
            "Non-trainable params: 31,377,409\n",
            "_________________________________________________________________\n"
          ],
          "name": "stdout"
        }
      ]
    },
    {
      "cell_type": "code",
      "metadata": {
        "id": "9BiK8SvmMwWZ",
        "colab_type": "code",
        "colab": {}
      },
      "source": [
        "def plot_generated_images(epoch, generator, examples=25, dim=(5,5), figsize=(10,10)):\n",
        "    noise= np.random.normal(loc=0, scale=1, size=[examples, 4096])\n",
        "    generated_images = generator.predict(noise)\n",
        "    generated_images = generated_images.reshape(25,100,100,3)\n",
        "    plt.figure(figsize=figsize)\n",
        "    for i in range(generated_images.shape[0]):\n",
        "        plt.subplot(dim[0], dim[1], i+1)\n",
        "        plt.imshow(generated_images[i], interpolation='nearest')\n",
        "        plt.axis('off')\n",
        "    plt.tight_layout()\n",
        "    plt.savefig('gan_generated_image %d.png' %epoch)"
      ],
      "execution_count": 0,
      "outputs": []
    },
    {
      "cell_type": "code",
      "metadata": {
        "id": "2VjvyV_uMzCH",
        "colab_type": "code",
        "outputId": "cf567478-fa22-402a-a079-404dc6573025",
        "colab": {
          "base_uri": "https://localhost:8080/",
          "height": 1000
        }
      },
      "source": [
        "def training(epochs=1, batch_size=128):\n",
        "    \n",
        "    #Loading the data\n",
        "    X_train = load_data()\n",
        "    batch_count = X_train.shape[0] / batch_size\n",
        "    \n",
        "    # Creating GAN\n",
        "    generator= create_generator()\n",
        "    discriminator= create_discriminator()\n",
        "    gan = create_gan(discriminator, generator)\n",
        "    \n",
        "    for e in range(1,epochs+1 ):\n",
        "        print(\"Epoch %d\" %e)\n",
        "        for _ in tqdm(range(batch_size)):\n",
        "        #generate  random noise as an input  to  initialize the  generator\n",
        "            noise= np.random.normal(0,1, [batch_size, 4096])\n",
        "            \n",
        "            # Generate fake CAR images from noised input\n",
        "            generated_images = generator.predict(noise)\n",
        "            \n",
        "            # Get a random set of  real images\n",
        "            image_batch =X_train[np.random.randint(low=0,high=X_train.shape[0],size=batch_size)]\n",
        "            \n",
        "            #Construct different batches of  real and fake data \n",
        "            X= np.concatenate([image_batch, generated_images])\n",
        "            \n",
        "            # Labels for generated and real data\n",
        "            y_dis=np.zeros(2*batch_size)\n",
        "            y_dis[:batch_size]=0.9\n",
        "            \n",
        "            #Pre train discriminator on  fake and real data  before starting the gan. \n",
        "            discriminator.trainable=True\n",
        "            discriminator.train_on_batch(X, y_dis)\n",
        "            \n",
        "            #Tricking the noised input of the Generator as real data\n",
        "            noise= np.random.normal(0,1, [batch_size, 4096])\n",
        "            y_gen = np.ones(batch_size)\n",
        "            \n",
        "            # During the training of gan, \n",
        "            # the weights of discriminator should be fixed. \n",
        "            #We can enforce that by setting the trainable flag\n",
        "            discriminator.trainable=False\n",
        "            \n",
        "            #training  the GAN by alternating the training of the Discriminator \n",
        "            #and training the chained GAN model with Discriminator’s weights freezed.\n",
        "            gan.train_on_batch(noise, y_gen)\n",
        "            \n",
        "        if e == 1 or e % 40 == 0:\n",
        "            gan.save(f\"model{e}.hdf5\")\n",
        "            plot_generated_images(e, generator)\n",
        "training(5000,256)"
      ],
      "execution_count": 0,
      "outputs": [
        {
          "output_type": "stream",
          "text": [
            "(1113, 100, 100, 3)\n",
            "(1113, 100, 100, 3)\n"
          ],
          "name": "stdout"
        },
        {
          "output_type": "stream",
          "text": [
            "\r  0%|          | 0/256 [00:00<?, ?it/s]"
          ],
          "name": "stderr"
        },
        {
          "output_type": "stream",
          "text": [
            "Epoch 1\n",
            "WARNING:tensorflow:From /usr/local/lib/python3.6/dist-packages/keras/backend/tensorflow_backend.py:3005: The name tf.Session is deprecated. Please use tf.compat.v1.Session instead.\n",
            "\n",
            "WARNING:tensorflow:From /usr/local/lib/python3.6/dist-packages/keras/backend/tensorflow_backend.py:190: The name tf.get_default_session is deprecated. Please use tf.compat.v1.get_default_session instead.\n",
            "\n",
            "WARNING:tensorflow:From /usr/local/lib/python3.6/dist-packages/keras/backend/tensorflow_backend.py:197: The name tf.ConfigProto is deprecated. Please use tf.compat.v1.ConfigProto instead.\n",
            "\n",
            "WARNING:tensorflow:From /usr/local/lib/python3.6/dist-packages/keras/backend/tensorflow_backend.py:207: The name tf.global_variables is deprecated. Please use tf.compat.v1.global_variables instead.\n",
            "\n",
            "WARNING:tensorflow:From /usr/local/lib/python3.6/dist-packages/keras/backend/tensorflow_backend.py:216: The name tf.is_variable_initialized is deprecated. Please use tf.compat.v1.is_variable_initialized instead.\n",
            "\n",
            "WARNING:tensorflow:From /usr/local/lib/python3.6/dist-packages/keras/backend/tensorflow_backend.py:223: The name tf.variables_initializer is deprecated. Please use tf.compat.v1.variables_initializer instead.\n",
            "\n",
            "WARNING:tensorflow:From /usr/local/lib/python3.6/dist-packages/keras/backend/tensorflow_backend.py:1033: The name tf.assign_add is deprecated. Please use tf.compat.v1.assign_add instead.\n",
            "\n",
            "WARNING:tensorflow:From /usr/local/lib/python3.6/dist-packages/keras/backend/tensorflow_backend.py:1020: The name tf.assign is deprecated. Please use tf.compat.v1.assign instead.\n",
            "\n"
          ],
          "name": "stdout"
        },
        {
          "output_type": "stream",
          "text": [
            "100%|██████████| 256/256 [01:35<00:00,  2.99it/s]\n",
            "Clipping input data to the valid range for imshow with RGB data ([0..1] for floats or [0..255] for integers).\n",
            "Clipping input data to the valid range for imshow with RGB data ([0..1] for floats or [0..255] for integers).\n",
            "Clipping input data to the valid range for imshow with RGB data ([0..1] for floats or [0..255] for integers).\n",
            "Clipping input data to the valid range for imshow with RGB data ([0..1] for floats or [0..255] for integers).\n",
            "Clipping input data to the valid range for imshow with RGB data ([0..1] for floats or [0..255] for integers).\n",
            "Clipping input data to the valid range for imshow with RGB data ([0..1] for floats or [0..255] for integers).\n",
            "Clipping input data to the valid range for imshow with RGB data ([0..1] for floats or [0..255] for integers).\n",
            "Clipping input data to the valid range for imshow with RGB data ([0..1] for floats or [0..255] for integers).\n",
            "Clipping input data to the valid range for imshow with RGB data ([0..1] for floats or [0..255] for integers).\n",
            "Clipping input data to the valid range for imshow with RGB data ([0..1] for floats or [0..255] for integers).\n",
            "Clipping input data to the valid range for imshow with RGB data ([0..1] for floats or [0..255] for integers).\n",
            "Clipping input data to the valid range for imshow with RGB data ([0..1] for floats or [0..255] for integers).\n",
            "Clipping input data to the valid range for imshow with RGB data ([0..1] for floats or [0..255] for integers).\n",
            "Clipping input data to the valid range for imshow with RGB data ([0..1] for floats or [0..255] for integers).\n",
            "Clipping input data to the valid range for imshow with RGB data ([0..1] for floats or [0..255] for integers).\n",
            "Clipping input data to the valid range for imshow with RGB data ([0..1] for floats or [0..255] for integers).\n",
            "Clipping input data to the valid range for imshow with RGB data ([0..1] for floats or [0..255] for integers).\n",
            "Clipping input data to the valid range for imshow with RGB data ([0..1] for floats or [0..255] for integers).\n",
            "Clipping input data to the valid range for imshow with RGB data ([0..1] for floats or [0..255] for integers).\n",
            "Clipping input data to the valid range for imshow with RGB data ([0..1] for floats or [0..255] for integers).\n",
            "Clipping input data to the valid range for imshow with RGB data ([0..1] for floats or [0..255] for integers).\n",
            "Clipping input data to the valid range for imshow with RGB data ([0..1] for floats or [0..255] for integers).\n",
            "Clipping input data to the valid range for imshow with RGB data ([0..1] for floats or [0..255] for integers).\n",
            "Clipping input data to the valid range for imshow with RGB data ([0..1] for floats or [0..255] for integers).\n",
            "Clipping input data to the valid range for imshow with RGB data ([0..1] for floats or [0..255] for integers).\n",
            "  0%|          | 0/256 [00:00<?, ?it/s]"
          ],
          "name": "stderr"
        },
        {
          "output_type": "stream",
          "text": [
            "Epoch 2\n"
          ],
          "name": "stdout"
        },
        {
          "output_type": "stream",
          "text": [
            "100%|██████████| 256/256 [01:27<00:00,  2.93it/s]\n",
            "  0%|          | 0/256 [00:00<?, ?it/s]"
          ],
          "name": "stderr"
        },
        {
          "output_type": "stream",
          "text": [
            "Epoch 3\n"
          ],
          "name": "stdout"
        },
        {
          "output_type": "stream",
          "text": [
            "100%|██████████| 256/256 [01:26<00:00,  2.93it/s]\n",
            "  0%|          | 0/256 [00:00<?, ?it/s]"
          ],
          "name": "stderr"
        },
        {
          "output_type": "stream",
          "text": [
            "Epoch 4\n"
          ],
          "name": "stdout"
        },
        {
          "output_type": "stream",
          "text": [
            "100%|██████████| 256/256 [01:26<00:00,  3.01it/s]\n",
            "  0%|          | 0/256 [00:00<?, ?it/s]"
          ],
          "name": "stderr"
        },
        {
          "output_type": "stream",
          "text": [
            "Epoch 5\n"
          ],
          "name": "stdout"
        },
        {
          "output_type": "stream",
          "text": [
            "100%|██████████| 256/256 [01:25<00:00,  2.99it/s]\n",
            "  0%|          | 0/256 [00:00<?, ?it/s]"
          ],
          "name": "stderr"
        },
        {
          "output_type": "stream",
          "text": [
            "Epoch 6\n"
          ],
          "name": "stdout"
        },
        {
          "output_type": "stream",
          "text": [
            "100%|██████████| 256/256 [01:25<00:00,  2.97it/s]\n",
            "  0%|          | 0/256 [00:00<?, ?it/s]"
          ],
          "name": "stderr"
        },
        {
          "output_type": "stream",
          "text": [
            "Epoch 7\n"
          ],
          "name": "stdout"
        },
        {
          "output_type": "stream",
          "text": [
            "100%|██████████| 256/256 [01:25<00:00,  3.01it/s]\n",
            "  0%|          | 0/256 [00:00<?, ?it/s]"
          ],
          "name": "stderr"
        },
        {
          "output_type": "stream",
          "text": [
            "Epoch 8\n"
          ],
          "name": "stdout"
        },
        {
          "output_type": "stream",
          "text": [
            "100%|██████████| 256/256 [01:25<00:00,  3.02it/s]\n",
            "  0%|          | 0/256 [00:00<?, ?it/s]"
          ],
          "name": "stderr"
        },
        {
          "output_type": "stream",
          "text": [
            "Epoch 9\n"
          ],
          "name": "stdout"
        },
        {
          "output_type": "stream",
          "text": [
            "100%|██████████| 256/256 [01:25<00:00,  3.03it/s]\n",
            "  0%|          | 0/256 [00:00<?, ?it/s]"
          ],
          "name": "stderr"
        },
        {
          "output_type": "stream",
          "text": [
            "Epoch 10\n"
          ],
          "name": "stdout"
        },
        {
          "output_type": "stream",
          "text": [
            "100%|██████████| 256/256 [01:25<00:00,  2.96it/s]\n",
            "  0%|          | 0/256 [00:00<?, ?it/s]"
          ],
          "name": "stderr"
        },
        {
          "output_type": "stream",
          "text": [
            "Epoch 11\n"
          ],
          "name": "stdout"
        },
        {
          "output_type": "stream",
          "text": [
            "100%|██████████| 256/256 [01:25<00:00,  2.99it/s]\n",
            "  0%|          | 0/256 [00:00<?, ?it/s]"
          ],
          "name": "stderr"
        },
        {
          "output_type": "stream",
          "text": [
            "Epoch 12\n"
          ],
          "name": "stdout"
        },
        {
          "output_type": "stream",
          "text": [
            "100%|██████████| 256/256 [01:25<00:00,  2.97it/s]\n",
            "  0%|          | 0/256 [00:00<?, ?it/s]"
          ],
          "name": "stderr"
        },
        {
          "output_type": "stream",
          "text": [
            "Epoch 13\n"
          ],
          "name": "stdout"
        },
        {
          "output_type": "stream",
          "text": [
            "100%|██████████| 256/256 [01:25<00:00,  3.01it/s]\n",
            "  0%|          | 0/256 [00:00<?, ?it/s]"
          ],
          "name": "stderr"
        },
        {
          "output_type": "stream",
          "text": [
            "Epoch 14\n"
          ],
          "name": "stdout"
        },
        {
          "output_type": "stream",
          "text": [
            "100%|██████████| 256/256 [01:25<00:00,  3.02it/s]\n",
            "  0%|          | 0/256 [00:00<?, ?it/s]"
          ],
          "name": "stderr"
        },
        {
          "output_type": "stream",
          "text": [
            "Epoch 15\n"
          ],
          "name": "stdout"
        },
        {
          "output_type": "stream",
          "text": [
            "100%|██████████| 256/256 [01:25<00:00,  3.03it/s]\n",
            "  0%|          | 0/256 [00:00<?, ?it/s]"
          ],
          "name": "stderr"
        },
        {
          "output_type": "stream",
          "text": [
            "Epoch 16\n"
          ],
          "name": "stdout"
        },
        {
          "output_type": "stream",
          "text": [
            "100%|██████████| 256/256 [01:25<00:00,  3.01it/s]\n",
            "  0%|          | 0/256 [00:00<?, ?it/s]"
          ],
          "name": "stderr"
        },
        {
          "output_type": "stream",
          "text": [
            "Epoch 17\n"
          ],
          "name": "stdout"
        },
        {
          "output_type": "stream",
          "text": [
            "100%|██████████| 256/256 [01:25<00:00,  2.96it/s]\n",
            "  0%|          | 0/256 [00:00<?, ?it/s]"
          ],
          "name": "stderr"
        },
        {
          "output_type": "stream",
          "text": [
            "Epoch 18\n"
          ],
          "name": "stdout"
        },
        {
          "output_type": "stream",
          "text": [
            "100%|██████████| 256/256 [01:25<00:00,  3.01it/s]\n",
            "  0%|          | 0/256 [00:00<?, ?it/s]"
          ],
          "name": "stderr"
        },
        {
          "output_type": "stream",
          "text": [
            "Epoch 19\n"
          ],
          "name": "stdout"
        },
        {
          "output_type": "stream",
          "text": [
            "100%|██████████| 256/256 [01:25<00:00,  3.02it/s]\n",
            "  0%|          | 0/256 [00:00<?, ?it/s]"
          ],
          "name": "stderr"
        },
        {
          "output_type": "stream",
          "text": [
            "Epoch 20\n"
          ],
          "name": "stdout"
        },
        {
          "output_type": "stream",
          "text": [
            "100%|██████████| 256/256 [01:25<00:00,  3.01it/s]\n",
            "  0%|          | 0/256 [00:00<?, ?it/s]"
          ],
          "name": "stderr"
        },
        {
          "output_type": "stream",
          "text": [
            "Epoch 21\n"
          ],
          "name": "stdout"
        },
        {
          "output_type": "stream",
          "text": [
            "100%|██████████| 256/256 [01:25<00:00,  3.03it/s]\n",
            "  0%|          | 0/256 [00:00<?, ?it/s]"
          ],
          "name": "stderr"
        },
        {
          "output_type": "stream",
          "text": [
            "Epoch 22\n"
          ],
          "name": "stdout"
        },
        {
          "output_type": "stream",
          "text": [
            "100%|██████████| 256/256 [01:25<00:00,  3.00it/s]\n",
            "  0%|          | 0/256 [00:00<?, ?it/s]"
          ],
          "name": "stderr"
        },
        {
          "output_type": "stream",
          "text": [
            "Epoch 23\n"
          ],
          "name": "stdout"
        },
        {
          "output_type": "stream",
          "text": [
            "100%|██████████| 256/256 [01:25<00:00,  2.95it/s]\n",
            "  0%|          | 0/256 [00:00<?, ?it/s]"
          ],
          "name": "stderr"
        },
        {
          "output_type": "stream",
          "text": [
            "Epoch 24\n"
          ],
          "name": "stdout"
        },
        {
          "output_type": "stream",
          "text": [
            "100%|██████████| 256/256 [01:25<00:00,  3.04it/s]\n",
            "  0%|          | 0/256 [00:00<?, ?it/s]"
          ],
          "name": "stderr"
        },
        {
          "output_type": "stream",
          "text": [
            "Epoch 25\n"
          ],
          "name": "stdout"
        },
        {
          "output_type": "stream",
          "text": [
            "100%|██████████| 256/256 [01:25<00:00,  2.99it/s]\n",
            "  0%|          | 0/256 [00:00<?, ?it/s]"
          ],
          "name": "stderr"
        },
        {
          "output_type": "stream",
          "text": [
            "Epoch 26\n"
          ],
          "name": "stdout"
        },
        {
          "output_type": "stream",
          "text": [
            "100%|██████████| 256/256 [01:25<00:00,  3.03it/s]\n",
            "  0%|          | 0/256 [00:00<?, ?it/s]"
          ],
          "name": "stderr"
        },
        {
          "output_type": "stream",
          "text": [
            "Epoch 27\n"
          ],
          "name": "stdout"
        },
        {
          "output_type": "stream",
          "text": [
            "100%|██████████| 256/256 [01:25<00:00,  3.04it/s]\n",
            "  0%|          | 0/256 [00:00<?, ?it/s]"
          ],
          "name": "stderr"
        },
        {
          "output_type": "stream",
          "text": [
            "Epoch 28\n"
          ],
          "name": "stdout"
        },
        {
          "output_type": "stream",
          "text": [
            "100%|██████████| 256/256 [01:24<00:00,  3.02it/s]\n",
            "  0%|          | 0/256 [00:00<?, ?it/s]"
          ],
          "name": "stderr"
        },
        {
          "output_type": "stream",
          "text": [
            "Epoch 29\n"
          ],
          "name": "stdout"
        },
        {
          "output_type": "stream",
          "text": [
            "100%|██████████| 256/256 [01:25<00:00,  3.04it/s]\n",
            "  0%|          | 0/256 [00:00<?, ?it/s]"
          ],
          "name": "stderr"
        },
        {
          "output_type": "stream",
          "text": [
            "Epoch 30\n"
          ],
          "name": "stdout"
        },
        {
          "output_type": "stream",
          "text": [
            "100%|██████████| 256/256 [01:24<00:00,  3.02it/s]\n",
            "  0%|          | 0/256 [00:00<?, ?it/s]"
          ],
          "name": "stderr"
        },
        {
          "output_type": "stream",
          "text": [
            "Epoch 31\n"
          ],
          "name": "stdout"
        },
        {
          "output_type": "stream",
          "text": [
            "100%|██████████| 256/256 [01:25<00:00,  3.04it/s]\n",
            "  0%|          | 0/256 [00:00<?, ?it/s]"
          ],
          "name": "stderr"
        },
        {
          "output_type": "stream",
          "text": [
            "Epoch 32\n"
          ],
          "name": "stdout"
        },
        {
          "output_type": "stream",
          "text": [
            "100%|██████████| 256/256 [01:25<00:00,  3.03it/s]\n",
            "  0%|          | 0/256 [00:00<?, ?it/s]"
          ],
          "name": "stderr"
        },
        {
          "output_type": "stream",
          "text": [
            "Epoch 33\n"
          ],
          "name": "stdout"
        },
        {
          "output_type": "stream",
          "text": [
            "100%|██████████| 256/256 [01:24<00:00,  3.00it/s]\n",
            "  0%|          | 0/256 [00:00<?, ?it/s]"
          ],
          "name": "stderr"
        },
        {
          "output_type": "stream",
          "text": [
            "Epoch 34\n"
          ],
          "name": "stdout"
        },
        {
          "output_type": "stream",
          "text": [
            "100%|██████████| 256/256 [01:25<00:00,  3.01it/s]\n",
            "  0%|          | 0/256 [00:00<?, ?it/s]"
          ],
          "name": "stderr"
        },
        {
          "output_type": "stream",
          "text": [
            "Epoch 35\n"
          ],
          "name": "stdout"
        },
        {
          "output_type": "stream",
          "text": [
            "100%|██████████| 256/256 [01:24<00:00,  2.99it/s]\n",
            "  0%|          | 0/256 [00:00<?, ?it/s]"
          ],
          "name": "stderr"
        },
        {
          "output_type": "stream",
          "text": [
            "Epoch 36\n"
          ],
          "name": "stdout"
        },
        {
          "output_type": "stream",
          "text": [
            "100%|██████████| 256/256 [01:24<00:00,  3.03it/s]\n",
            "  0%|          | 0/256 [00:00<?, ?it/s]"
          ],
          "name": "stderr"
        },
        {
          "output_type": "stream",
          "text": [
            "Epoch 37\n"
          ],
          "name": "stdout"
        },
        {
          "output_type": "stream",
          "text": [
            "100%|██████████| 256/256 [01:24<00:00,  3.03it/s]\n",
            "  0%|          | 0/256 [00:00<?, ?it/s]"
          ],
          "name": "stderr"
        },
        {
          "output_type": "stream",
          "text": [
            "Epoch 38\n"
          ],
          "name": "stdout"
        },
        {
          "output_type": "stream",
          "text": [
            "100%|██████████| 256/256 [01:24<00:00,  2.95it/s]\n",
            "  0%|          | 0/256 [00:00<?, ?it/s]"
          ],
          "name": "stderr"
        },
        {
          "output_type": "stream",
          "text": [
            "Epoch 39\n"
          ],
          "name": "stdout"
        },
        {
          "output_type": "stream",
          "text": [
            "100%|██████████| 256/256 [01:25<00:00,  3.04it/s]\n",
            "  0%|          | 0/256 [00:00<?, ?it/s]"
          ],
          "name": "stderr"
        },
        {
          "output_type": "stream",
          "text": [
            "Epoch 40\n"
          ],
          "name": "stdout"
        },
        {
          "output_type": "stream",
          "text": [
            "100%|██████████| 256/256 [01:24<00:00,  3.05it/s]\n",
            "Clipping input data to the valid range for imshow with RGB data ([0..1] for floats or [0..255] for integers).\n",
            "Clipping input data to the valid range for imshow with RGB data ([0..1] for floats or [0..255] for integers).\n",
            "Clipping input data to the valid range for imshow with RGB data ([0..1] for floats or [0..255] for integers).\n",
            "Clipping input data to the valid range for imshow with RGB data ([0..1] for floats or [0..255] for integers).\n",
            "Clipping input data to the valid range for imshow with RGB data ([0..1] for floats or [0..255] for integers).\n",
            "Clipping input data to the valid range for imshow with RGB data ([0..1] for floats or [0..255] for integers).\n",
            "Clipping input data to the valid range for imshow with RGB data ([0..1] for floats or [0..255] for integers).\n",
            "Clipping input data to the valid range for imshow with RGB data ([0..1] for floats or [0..255] for integers).\n",
            "Clipping input data to the valid range for imshow with RGB data ([0..1] for floats or [0..255] for integers).\n",
            "Clipping input data to the valid range for imshow with RGB data ([0..1] for floats or [0..255] for integers).\n",
            "Clipping input data to the valid range for imshow with RGB data ([0..1] for floats or [0..255] for integers).\n",
            "Clipping input data to the valid range for imshow with RGB data ([0..1] for floats or [0..255] for integers).\n",
            "Clipping input data to the valid range for imshow with RGB data ([0..1] for floats or [0..255] for integers).\n",
            "Clipping input data to the valid range for imshow with RGB data ([0..1] for floats or [0..255] for integers).\n",
            "Clipping input data to the valid range for imshow with RGB data ([0..1] for floats or [0..255] for integers).\n",
            "Clipping input data to the valid range for imshow with RGB data ([0..1] for floats or [0..255] for integers).\n",
            "Clipping input data to the valid range for imshow with RGB data ([0..1] for floats or [0..255] for integers).\n",
            "Clipping input data to the valid range for imshow with RGB data ([0..1] for floats or [0..255] for integers).\n",
            "Clipping input data to the valid range for imshow with RGB data ([0..1] for floats or [0..255] for integers).\n",
            "Clipping input data to the valid range for imshow with RGB data ([0..1] for floats or [0..255] for integers).\n",
            "Clipping input data to the valid range for imshow with RGB data ([0..1] for floats or [0..255] for integers).\n",
            "Clipping input data to the valid range for imshow with RGB data ([0..1] for floats or [0..255] for integers).\n",
            "Clipping input data to the valid range for imshow with RGB data ([0..1] for floats or [0..255] for integers).\n",
            "Clipping input data to the valid range for imshow with RGB data ([0..1] for floats or [0..255] for integers).\n",
            "Clipping input data to the valid range for imshow with RGB data ([0..1] for floats or [0..255] for integers).\n",
            "  0%|          | 0/256 [00:00<?, ?it/s]"
          ],
          "name": "stderr"
        },
        {
          "output_type": "stream",
          "text": [
            "Epoch 41\n"
          ],
          "name": "stdout"
        },
        {
          "output_type": "stream",
          "text": [
            "100%|██████████| 256/256 [01:24<00:00,  3.04it/s]\n",
            "  0%|          | 0/256 [00:00<?, ?it/s]"
          ],
          "name": "stderr"
        },
        {
          "output_type": "stream",
          "text": [
            "Epoch 42\n"
          ],
          "name": "stdout"
        },
        {
          "output_type": "stream",
          "text": [
            "100%|██████████| 256/256 [01:24<00:00,  3.05it/s]\n",
            "  0%|          | 0/256 [00:00<?, ?it/s]"
          ],
          "name": "stderr"
        },
        {
          "output_type": "stream",
          "text": [
            "Epoch 43\n"
          ],
          "name": "stdout"
        },
        {
          "output_type": "stream",
          "text": [
            "100%|██████████| 256/256 [01:24<00:00,  2.99it/s]\n",
            "  0%|          | 0/256 [00:00<?, ?it/s]"
          ],
          "name": "stderr"
        },
        {
          "output_type": "stream",
          "text": [
            "Epoch 44\n"
          ],
          "name": "stdout"
        },
        {
          "output_type": "stream",
          "text": [
            "100%|██████████| 256/256 [01:24<00:00,  3.04it/s]\n",
            "  0%|          | 0/256 [00:00<?, ?it/s]"
          ],
          "name": "stderr"
        },
        {
          "output_type": "stream",
          "text": [
            "Epoch 45\n"
          ],
          "name": "stdout"
        },
        {
          "output_type": "stream",
          "text": [
            "100%|██████████| 256/256 [01:24<00:00,  3.05it/s]\n",
            "  0%|          | 0/256 [00:00<?, ?it/s]"
          ],
          "name": "stderr"
        },
        {
          "output_type": "stream",
          "text": [
            "Epoch 46\n"
          ],
          "name": "stdout"
        },
        {
          "output_type": "stream",
          "text": [
            "100%|██████████| 256/256 [01:24<00:00,  3.06it/s]\n",
            "  0%|          | 0/256 [00:00<?, ?it/s]"
          ],
          "name": "stderr"
        },
        {
          "output_type": "stream",
          "text": [
            "Epoch 47\n"
          ],
          "name": "stdout"
        },
        {
          "output_type": "stream",
          "text": [
            "100%|██████████| 256/256 [01:24<00:00,  3.06it/s]\n",
            "  0%|          | 0/256 [00:00<?, ?it/s]"
          ],
          "name": "stderr"
        },
        {
          "output_type": "stream",
          "text": [
            "Epoch 48\n"
          ],
          "name": "stdout"
        },
        {
          "output_type": "stream",
          "text": [
            "100%|██████████| 256/256 [01:23<00:00,  3.07it/s]\n",
            "  0%|          | 0/256 [00:00<?, ?it/s]"
          ],
          "name": "stderr"
        },
        {
          "output_type": "stream",
          "text": [
            "Epoch 49\n"
          ],
          "name": "stdout"
        },
        {
          "output_type": "stream",
          "text": [
            "100%|██████████| 256/256 [01:24<00:00,  3.03it/s]\n",
            "  0%|          | 0/256 [00:00<?, ?it/s]"
          ],
          "name": "stderr"
        },
        {
          "output_type": "stream",
          "text": [
            "Epoch 50\n"
          ],
          "name": "stdout"
        },
        {
          "output_type": "stream",
          "text": [
            "100%|██████████| 256/256 [01:23<00:00,  3.06it/s]\n",
            "  0%|          | 0/256 [00:00<?, ?it/s]"
          ],
          "name": "stderr"
        },
        {
          "output_type": "stream",
          "text": [
            "Epoch 51\n"
          ],
          "name": "stdout"
        },
        {
          "output_type": "stream",
          "text": [
            "100%|██████████| 256/256 [01:24<00:00,  3.04it/s]\n",
            "  0%|          | 0/256 [00:00<?, ?it/s]"
          ],
          "name": "stderr"
        },
        {
          "output_type": "stream",
          "text": [
            "Epoch 52\n"
          ],
          "name": "stdout"
        },
        {
          "output_type": "stream",
          "text": [
            "100%|██████████| 256/256 [01:24<00:00,  3.06it/s]\n",
            "  0%|          | 0/256 [00:00<?, ?it/s]"
          ],
          "name": "stderr"
        },
        {
          "output_type": "stream",
          "text": [
            "Epoch 53\n"
          ],
          "name": "stdout"
        },
        {
          "output_type": "stream",
          "text": [
            "100%|██████████| 256/256 [01:24<00:00,  3.05it/s]\n",
            "  0%|          | 0/256 [00:00<?, ?it/s]"
          ],
          "name": "stderr"
        },
        {
          "output_type": "stream",
          "text": [
            "Epoch 54\n"
          ],
          "name": "stdout"
        },
        {
          "output_type": "stream",
          "text": [
            "100%|██████████| 256/256 [01:24<00:00,  3.07it/s]\n",
            "  0%|          | 0/256 [00:00<?, ?it/s]"
          ],
          "name": "stderr"
        },
        {
          "output_type": "stream",
          "text": [
            "Epoch 55\n"
          ],
          "name": "stdout"
        },
        {
          "output_type": "stream",
          "text": [
            "100%|██████████| 256/256 [01:23<00:00,  3.07it/s]\n",
            "  0%|          | 0/256 [00:00<?, ?it/s]"
          ],
          "name": "stderr"
        },
        {
          "output_type": "stream",
          "text": [
            "Epoch 56\n"
          ],
          "name": "stdout"
        },
        {
          "output_type": "stream",
          "text": [
            "100%|██████████| 256/256 [01:24<00:00,  3.01it/s]\n",
            "  0%|          | 0/256 [00:00<?, ?it/s]"
          ],
          "name": "stderr"
        },
        {
          "output_type": "stream",
          "text": [
            "Epoch 57\n"
          ],
          "name": "stdout"
        },
        {
          "output_type": "stream",
          "text": [
            "100%|██████████| 256/256 [01:24<00:00,  3.08it/s]\n",
            "  0%|          | 0/256 [00:00<?, ?it/s]"
          ],
          "name": "stderr"
        },
        {
          "output_type": "stream",
          "text": [
            "Epoch 58\n"
          ],
          "name": "stdout"
        },
        {
          "output_type": "stream",
          "text": [
            "100%|██████████| 256/256 [01:24<00:00,  3.03it/s]\n",
            "  0%|          | 0/256 [00:00<?, ?it/s]"
          ],
          "name": "stderr"
        },
        {
          "output_type": "stream",
          "text": [
            "Epoch 59\n"
          ],
          "name": "stdout"
        },
        {
          "output_type": "stream",
          "text": [
            "100%|██████████| 256/256 [01:24<00:00,  3.04it/s]\n",
            "  0%|          | 0/256 [00:00<?, ?it/s]"
          ],
          "name": "stderr"
        },
        {
          "output_type": "stream",
          "text": [
            "Epoch 60\n"
          ],
          "name": "stdout"
        },
        {
          "output_type": "stream",
          "text": [
            "100%|██████████| 256/256 [01:24<00:00,  3.06it/s]\n",
            "  0%|          | 0/256 [00:00<?, ?it/s]"
          ],
          "name": "stderr"
        },
        {
          "output_type": "stream",
          "text": [
            "Epoch 61\n"
          ],
          "name": "stdout"
        },
        {
          "output_type": "stream",
          "text": [
            "100%|██████████| 256/256 [01:25<00:00,  3.06it/s]\n",
            "  0%|          | 0/256 [00:00<?, ?it/s]"
          ],
          "name": "stderr"
        },
        {
          "output_type": "stream",
          "text": [
            "Epoch 62\n"
          ],
          "name": "stdout"
        },
        {
          "output_type": "stream",
          "text": [
            "100%|██████████| 256/256 [01:24<00:00,  3.05it/s]\n",
            "  0%|          | 0/256 [00:00<?, ?it/s]"
          ],
          "name": "stderr"
        },
        {
          "output_type": "stream",
          "text": [
            "Epoch 63\n"
          ],
          "name": "stdout"
        },
        {
          "output_type": "stream",
          "text": [
            "100%|██████████| 256/256 [01:24<00:00,  3.04it/s]\n",
            "  0%|          | 0/256 [00:00<?, ?it/s]"
          ],
          "name": "stderr"
        },
        {
          "output_type": "stream",
          "text": [
            "Epoch 64\n"
          ],
          "name": "stdout"
        },
        {
          "output_type": "stream",
          "text": [
            "100%|██████████| 256/256 [01:24<00:00,  2.99it/s]\n",
            "  0%|          | 0/256 [00:00<?, ?it/s]"
          ],
          "name": "stderr"
        },
        {
          "output_type": "stream",
          "text": [
            "Epoch 65\n"
          ],
          "name": "stdout"
        },
        {
          "output_type": "stream",
          "text": [
            "100%|██████████| 256/256 [01:24<00:00,  3.06it/s]\n",
            "  0%|          | 0/256 [00:00<?, ?it/s]"
          ],
          "name": "stderr"
        },
        {
          "output_type": "stream",
          "text": [
            "Epoch 66\n"
          ],
          "name": "stdout"
        },
        {
          "output_type": "stream",
          "text": [
            "100%|██████████| 256/256 [01:24<00:00,  3.08it/s]\n",
            "  0%|          | 0/256 [00:00<?, ?it/s]"
          ],
          "name": "stderr"
        },
        {
          "output_type": "stream",
          "text": [
            "Epoch 67\n"
          ],
          "name": "stdout"
        },
        {
          "output_type": "stream",
          "text": [
            "100%|██████████| 256/256 [01:24<00:00,  3.03it/s]\n",
            "  0%|          | 0/256 [00:00<?, ?it/s]"
          ],
          "name": "stderr"
        },
        {
          "output_type": "stream",
          "text": [
            "Epoch 68\n"
          ],
          "name": "stdout"
        },
        {
          "output_type": "stream",
          "text": [
            "100%|██████████| 256/256 [01:24<00:00,  3.04it/s]\n",
            "  0%|          | 0/256 [00:00<?, ?it/s]"
          ],
          "name": "stderr"
        },
        {
          "output_type": "stream",
          "text": [
            "Epoch 69\n"
          ],
          "name": "stdout"
        },
        {
          "output_type": "stream",
          "text": [
            "100%|██████████| 256/256 [01:24<00:00,  2.97it/s]\n",
            "  0%|          | 0/256 [00:00<?, ?it/s]"
          ],
          "name": "stderr"
        },
        {
          "output_type": "stream",
          "text": [
            "Epoch 70\n"
          ],
          "name": "stdout"
        },
        {
          "output_type": "stream",
          "text": [
            "100%|██████████| 256/256 [01:24<00:00,  3.02it/s]\n",
            "  0%|          | 0/256 [00:00<?, ?it/s]"
          ],
          "name": "stderr"
        },
        {
          "output_type": "stream",
          "text": [
            "Epoch 71\n"
          ],
          "name": "stdout"
        },
        {
          "output_type": "stream",
          "text": [
            "100%|██████████| 256/256 [01:24<00:00,  3.05it/s]\n",
            "  0%|          | 0/256 [00:00<?, ?it/s]"
          ],
          "name": "stderr"
        },
        {
          "output_type": "stream",
          "text": [
            "Epoch 72\n"
          ],
          "name": "stdout"
        },
        {
          "output_type": "stream",
          "text": [
            "100%|██████████| 256/256 [01:24<00:00,  2.98it/s]\n",
            "  0%|          | 0/256 [00:00<?, ?it/s]"
          ],
          "name": "stderr"
        },
        {
          "output_type": "stream",
          "text": [
            "Epoch 73\n"
          ],
          "name": "stdout"
        },
        {
          "output_type": "stream",
          "text": [
            "100%|██████████| 256/256 [01:24<00:00,  3.05it/s]\n",
            "  0%|          | 0/256 [00:00<?, ?it/s]"
          ],
          "name": "stderr"
        },
        {
          "output_type": "stream",
          "text": [
            "Epoch 74\n"
          ],
          "name": "stdout"
        },
        {
          "output_type": "stream",
          "text": [
            "100%|██████████| 256/256 [01:24<00:00,  3.01it/s]\n",
            "  0%|          | 0/256 [00:00<?, ?it/s]"
          ],
          "name": "stderr"
        },
        {
          "output_type": "stream",
          "text": [
            "Epoch 75\n"
          ],
          "name": "stdout"
        },
        {
          "output_type": "stream",
          "text": [
            "100%|██████████| 256/256 [01:24<00:00,  3.03it/s]\n",
            "  0%|          | 0/256 [00:00<?, ?it/s]"
          ],
          "name": "stderr"
        },
        {
          "output_type": "stream",
          "text": [
            "Epoch 76\n"
          ],
          "name": "stdout"
        },
        {
          "output_type": "stream",
          "text": [
            "100%|██████████| 256/256 [01:24<00:00,  3.05it/s]\n",
            "  0%|          | 0/256 [00:00<?, ?it/s]"
          ],
          "name": "stderr"
        },
        {
          "output_type": "stream",
          "text": [
            "Epoch 77\n"
          ],
          "name": "stdout"
        },
        {
          "output_type": "stream",
          "text": [
            "100%|██████████| 256/256 [01:24<00:00,  3.05it/s]\n",
            "  0%|          | 0/256 [00:00<?, ?it/s]"
          ],
          "name": "stderr"
        },
        {
          "output_type": "stream",
          "text": [
            "Epoch 78\n"
          ],
          "name": "stdout"
        },
        {
          "output_type": "stream",
          "text": [
            "100%|██████████| 256/256 [01:24<00:00,  2.96it/s]\n",
            "  0%|          | 0/256 [00:00<?, ?it/s]"
          ],
          "name": "stderr"
        },
        {
          "output_type": "stream",
          "text": [
            "Epoch 79\n"
          ],
          "name": "stdout"
        },
        {
          "output_type": "stream",
          "text": [
            "100%|██████████| 256/256 [01:24<00:00,  2.97it/s]\n",
            "  0%|          | 0/256 [00:00<?, ?it/s]"
          ],
          "name": "stderr"
        },
        {
          "output_type": "stream",
          "text": [
            "Epoch 80\n"
          ],
          "name": "stdout"
        },
        {
          "output_type": "stream",
          "text": [
            "100%|██████████| 256/256 [01:25<00:00,  3.01it/s]\n",
            "Clipping input data to the valid range for imshow with RGB data ([0..1] for floats or [0..255] for integers).\n",
            "Clipping input data to the valid range for imshow with RGB data ([0..1] for floats or [0..255] for integers).\n",
            "Clipping input data to the valid range for imshow with RGB data ([0..1] for floats or [0..255] for integers).\n",
            "Clipping input data to the valid range for imshow with RGB data ([0..1] for floats or [0..255] for integers).\n",
            "Clipping input data to the valid range for imshow with RGB data ([0..1] for floats or [0..255] for integers).\n",
            "Clipping input data to the valid range for imshow with RGB data ([0..1] for floats or [0..255] for integers).\n",
            "Clipping input data to the valid range for imshow with RGB data ([0..1] for floats or [0..255] for integers).\n",
            "Clipping input data to the valid range for imshow with RGB data ([0..1] for floats or [0..255] for integers).\n",
            "Clipping input data to the valid range for imshow with RGB data ([0..1] for floats or [0..255] for integers).\n",
            "Clipping input data to the valid range for imshow with RGB data ([0..1] for floats or [0..255] for integers).\n",
            "Clipping input data to the valid range for imshow with RGB data ([0..1] for floats or [0..255] for integers).\n",
            "Clipping input data to the valid range for imshow with RGB data ([0..1] for floats or [0..255] for integers).\n",
            "Clipping input data to the valid range for imshow with RGB data ([0..1] for floats or [0..255] for integers).\n",
            "Clipping input data to the valid range for imshow with RGB data ([0..1] for floats or [0..255] for integers).\n",
            "Clipping input data to the valid range for imshow with RGB data ([0..1] for floats or [0..255] for integers).\n",
            "Clipping input data to the valid range for imshow with RGB data ([0..1] for floats or [0..255] for integers).\n",
            "Clipping input data to the valid range for imshow with RGB data ([0..1] for floats or [0..255] for integers).\n",
            "Clipping input data to the valid range for imshow with RGB data ([0..1] for floats or [0..255] for integers).\n",
            "Clipping input data to the valid range for imshow with RGB data ([0..1] for floats or [0..255] for integers).\n",
            "Clipping input data to the valid range for imshow with RGB data ([0..1] for floats or [0..255] for integers).\n",
            "Clipping input data to the valid range for imshow with RGB data ([0..1] for floats or [0..255] for integers).\n",
            "Clipping input data to the valid range for imshow with RGB data ([0..1] for floats or [0..255] for integers).\n",
            "Clipping input data to the valid range for imshow with RGB data ([0..1] for floats or [0..255] for integers).\n",
            "Clipping input data to the valid range for imshow with RGB data ([0..1] for floats or [0..255] for integers).\n",
            "Clipping input data to the valid range for imshow with RGB data ([0..1] for floats or [0..255] for integers).\n",
            "  0%|          | 0/256 [00:00<?, ?it/s]"
          ],
          "name": "stderr"
        },
        {
          "output_type": "stream",
          "text": [
            "Epoch 81\n"
          ],
          "name": "stdout"
        },
        {
          "output_type": "stream",
          "text": [
            "100%|██████████| 256/256 [01:24<00:00,  2.98it/s]\n",
            "  0%|          | 0/256 [00:00<?, ?it/s]"
          ],
          "name": "stderr"
        },
        {
          "output_type": "stream",
          "text": [
            "Epoch 82\n"
          ],
          "name": "stdout"
        },
        {
          "output_type": "stream",
          "text": [
            "100%|██████████| 256/256 [01:25<00:00,  3.03it/s]\n",
            "  0%|          | 0/256 [00:00<?, ?it/s]"
          ],
          "name": "stderr"
        },
        {
          "output_type": "stream",
          "text": [
            "Epoch 83\n"
          ],
          "name": "stdout"
        },
        {
          "output_type": "stream",
          "text": [
            "100%|██████████| 256/256 [01:24<00:00,  3.05it/s]\n",
            "  0%|          | 0/256 [00:00<?, ?it/s]"
          ],
          "name": "stderr"
        },
        {
          "output_type": "stream",
          "text": [
            "Epoch 84\n"
          ],
          "name": "stdout"
        },
        {
          "output_type": "stream",
          "text": [
            "100%|██████████| 256/256 [01:24<00:00,  2.95it/s]\n",
            "  0%|          | 0/256 [00:00<?, ?it/s]"
          ],
          "name": "stderr"
        },
        {
          "output_type": "stream",
          "text": [
            "Epoch 85\n"
          ],
          "name": "stdout"
        },
        {
          "output_type": "stream",
          "text": [
            "100%|██████████| 256/256 [01:24<00:00,  3.04it/s]\n",
            "  0%|          | 0/256 [00:00<?, ?it/s]"
          ],
          "name": "stderr"
        },
        {
          "output_type": "stream",
          "text": [
            "Epoch 86\n"
          ],
          "name": "stdout"
        },
        {
          "output_type": "stream",
          "text": [
            "100%|██████████| 256/256 [01:24<00:00,  3.04it/s]\n",
            "  0%|          | 0/256 [00:00<?, ?it/s]"
          ],
          "name": "stderr"
        },
        {
          "output_type": "stream",
          "text": [
            "Epoch 87\n"
          ],
          "name": "stdout"
        },
        {
          "output_type": "stream",
          "text": [
            "100%|██████████| 256/256 [01:24<00:00,  3.05it/s]\n",
            "  0%|          | 0/256 [00:00<?, ?it/s]"
          ],
          "name": "stderr"
        },
        {
          "output_type": "stream",
          "text": [
            "Epoch 88\n"
          ],
          "name": "stdout"
        },
        {
          "output_type": "stream",
          "text": [
            "100%|██████████| 256/256 [01:24<00:00,  3.04it/s]\n",
            "  0%|          | 0/256 [00:00<?, ?it/s]"
          ],
          "name": "stderr"
        },
        {
          "output_type": "stream",
          "text": [
            "Epoch 89\n"
          ],
          "name": "stdout"
        },
        {
          "output_type": "stream",
          "text": [
            "100%|██████████| 256/256 [01:24<00:00,  2.97it/s]\n",
            "  0%|          | 0/256 [00:00<?, ?it/s]"
          ],
          "name": "stderr"
        },
        {
          "output_type": "stream",
          "text": [
            "Epoch 90\n"
          ],
          "name": "stdout"
        },
        {
          "output_type": "stream",
          "text": [
            "100%|██████████| 256/256 [01:24<00:00,  2.91it/s]\n",
            "  0%|          | 0/256 [00:00<?, ?it/s]"
          ],
          "name": "stderr"
        },
        {
          "output_type": "stream",
          "text": [
            "Epoch 91\n"
          ],
          "name": "stdout"
        },
        {
          "output_type": "stream",
          "text": [
            "100%|██████████| 256/256 [01:24<00:00,  3.07it/s]\n",
            "  0%|          | 0/256 [00:00<?, ?it/s]"
          ],
          "name": "stderr"
        },
        {
          "output_type": "stream",
          "text": [
            "Epoch 92\n"
          ],
          "name": "stdout"
        },
        {
          "output_type": "stream",
          "text": [
            "100%|██████████| 256/256 [01:24<00:00,  3.07it/s]\n",
            "  0%|          | 0/256 [00:00<?, ?it/s]"
          ],
          "name": "stderr"
        },
        {
          "output_type": "stream",
          "text": [
            "Epoch 93\n"
          ],
          "name": "stdout"
        },
        {
          "output_type": "stream",
          "text": [
            "100%|██████████| 256/256 [01:23<00:00,  3.03it/s]\n",
            "  0%|          | 0/256 [00:00<?, ?it/s]"
          ],
          "name": "stderr"
        },
        {
          "output_type": "stream",
          "text": [
            "Epoch 94\n"
          ],
          "name": "stdout"
        },
        {
          "output_type": "stream",
          "text": [
            "100%|██████████| 256/256 [01:23<00:00,  3.04it/s]\n",
            "  0%|          | 0/256 [00:00<?, ?it/s]"
          ],
          "name": "stderr"
        },
        {
          "output_type": "stream",
          "text": [
            "Epoch 95\n"
          ],
          "name": "stdout"
        },
        {
          "output_type": "stream",
          "text": [
            "100%|██████████| 256/256 [01:23<00:00,  3.06it/s]\n",
            "  0%|          | 0/256 [00:00<?, ?it/s]"
          ],
          "name": "stderr"
        },
        {
          "output_type": "stream",
          "text": [
            "Epoch 96\n"
          ],
          "name": "stdout"
        },
        {
          "output_type": "stream",
          "text": [
            "100%|██████████| 256/256 [01:23<00:00,  3.01it/s]\n",
            "  0%|          | 0/256 [00:00<?, ?it/s]"
          ],
          "name": "stderr"
        },
        {
          "output_type": "stream",
          "text": [
            "Epoch 97\n"
          ],
          "name": "stdout"
        },
        {
          "output_type": "stream",
          "text": [
            "100%|██████████| 256/256 [01:24<00:00,  3.09it/s]\n",
            "  0%|          | 0/256 [00:00<?, ?it/s]"
          ],
          "name": "stderr"
        },
        {
          "output_type": "stream",
          "text": [
            "Epoch 98\n"
          ],
          "name": "stdout"
        },
        {
          "output_type": "stream",
          "text": [
            "100%|██████████| 256/256 [01:23<00:00,  3.05it/s]\n",
            "  0%|          | 0/256 [00:00<?, ?it/s]"
          ],
          "name": "stderr"
        },
        {
          "output_type": "stream",
          "text": [
            "Epoch 99\n"
          ],
          "name": "stdout"
        },
        {
          "output_type": "stream",
          "text": [
            "100%|██████████| 256/256 [01:23<00:00,  3.04it/s]\n",
            "  0%|          | 0/256 [00:00<?, ?it/s]"
          ],
          "name": "stderr"
        },
        {
          "output_type": "stream",
          "text": [
            "Epoch 100\n"
          ],
          "name": "stdout"
        },
        {
          "output_type": "stream",
          "text": [
            "100%|██████████| 256/256 [01:24<00:00,  3.02it/s]\n",
            "  0%|          | 0/256 [00:00<?, ?it/s]"
          ],
          "name": "stderr"
        },
        {
          "output_type": "stream",
          "text": [
            "Epoch 101\n"
          ],
          "name": "stdout"
        },
        {
          "output_type": "stream",
          "text": [
            "100%|██████████| 256/256 [01:23<00:00,  3.04it/s]\n",
            "  0%|          | 0/256 [00:00<?, ?it/s]"
          ],
          "name": "stderr"
        },
        {
          "output_type": "stream",
          "text": [
            "Epoch 102\n"
          ],
          "name": "stdout"
        },
        {
          "output_type": "stream",
          "text": [
            "100%|██████████| 256/256 [01:24<00:00,  3.05it/s]\n",
            "  0%|          | 0/256 [00:00<?, ?it/s]"
          ],
          "name": "stderr"
        },
        {
          "output_type": "stream",
          "text": [
            "Epoch 103\n"
          ],
          "name": "stdout"
        },
        {
          "output_type": "stream",
          "text": [
            "100%|██████████| 256/256 [01:23<00:00,  3.04it/s]\n",
            "  0%|          | 0/256 [00:00<?, ?it/s]"
          ],
          "name": "stderr"
        },
        {
          "output_type": "stream",
          "text": [
            "Epoch 104\n"
          ],
          "name": "stdout"
        },
        {
          "output_type": "stream",
          "text": [
            "100%|██████████| 256/256 [01:24<00:00,  3.05it/s]\n",
            "  0%|          | 0/256 [00:00<?, ?it/s]"
          ],
          "name": "stderr"
        },
        {
          "output_type": "stream",
          "text": [
            "Epoch 105\n"
          ],
          "name": "stdout"
        },
        {
          "output_type": "stream",
          "text": [
            "100%|██████████| 256/256 [01:24<00:00,  3.01it/s]\n",
            "  0%|          | 0/256 [00:00<?, ?it/s]"
          ],
          "name": "stderr"
        },
        {
          "output_type": "stream",
          "text": [
            "Epoch 106\n"
          ],
          "name": "stdout"
        },
        {
          "output_type": "stream",
          "text": [
            "100%|██████████| 256/256 [01:23<00:00,  3.06it/s]\n",
            "  0%|          | 0/256 [00:00<?, ?it/s]"
          ],
          "name": "stderr"
        },
        {
          "output_type": "stream",
          "text": [
            "Epoch 107\n"
          ],
          "name": "stdout"
        },
        {
          "output_type": "stream",
          "text": [
            "100%|██████████| 256/256 [01:23<00:00,  3.05it/s]\n",
            "  0%|          | 0/256 [00:00<?, ?it/s]"
          ],
          "name": "stderr"
        },
        {
          "output_type": "stream",
          "text": [
            "Epoch 108\n"
          ],
          "name": "stdout"
        },
        {
          "output_type": "stream",
          "text": [
            "100%|██████████| 256/256 [01:24<00:00,  3.09it/s]\n",
            "  0%|          | 0/256 [00:00<?, ?it/s]"
          ],
          "name": "stderr"
        },
        {
          "output_type": "stream",
          "text": [
            "Epoch 109\n"
          ],
          "name": "stdout"
        },
        {
          "output_type": "stream",
          "text": [
            "100%|██████████| 256/256 [01:23<00:00,  3.00it/s]\n",
            "  0%|          | 0/256 [00:00<?, ?it/s]"
          ],
          "name": "stderr"
        },
        {
          "output_type": "stream",
          "text": [
            "Epoch 110\n"
          ],
          "name": "stdout"
        },
        {
          "output_type": "stream",
          "text": [
            "100%|██████████| 256/256 [01:24<00:00,  3.07it/s]\n",
            "  0%|          | 0/256 [00:00<?, ?it/s]"
          ],
          "name": "stderr"
        },
        {
          "output_type": "stream",
          "text": [
            "Epoch 111\n"
          ],
          "name": "stdout"
        },
        {
          "output_type": "stream",
          "text": [
            "100%|██████████| 256/256 [01:24<00:00,  3.06it/s]\n",
            "  0%|          | 0/256 [00:00<?, ?it/s]"
          ],
          "name": "stderr"
        },
        {
          "output_type": "stream",
          "text": [
            "Epoch 112\n"
          ],
          "name": "stdout"
        },
        {
          "output_type": "stream",
          "text": [
            "100%|██████████| 256/256 [01:24<00:00,  3.06it/s]\n",
            "  0%|          | 0/256 [00:00<?, ?it/s]"
          ],
          "name": "stderr"
        },
        {
          "output_type": "stream",
          "text": [
            "Epoch 113\n"
          ],
          "name": "stdout"
        },
        {
          "output_type": "stream",
          "text": [
            "100%|██████████| 256/256 [01:24<00:00,  3.08it/s]\n",
            "  0%|          | 0/256 [00:00<?, ?it/s]"
          ],
          "name": "stderr"
        },
        {
          "output_type": "stream",
          "text": [
            "Epoch 114\n"
          ],
          "name": "stdout"
        },
        {
          "output_type": "stream",
          "text": [
            "100%|██████████| 256/256 [01:24<00:00,  3.05it/s]\n",
            "  0%|          | 0/256 [00:00<?, ?it/s]"
          ],
          "name": "stderr"
        },
        {
          "output_type": "stream",
          "text": [
            "Epoch 115\n"
          ],
          "name": "stdout"
        },
        {
          "output_type": "stream",
          "text": [
            "100%|██████████| 256/256 [01:24<00:00,  3.06it/s]\n",
            "  0%|          | 0/256 [00:00<?, ?it/s]"
          ],
          "name": "stderr"
        },
        {
          "output_type": "stream",
          "text": [
            "Epoch 116\n"
          ],
          "name": "stdout"
        },
        {
          "output_type": "stream",
          "text": [
            "100%|██████████| 256/256 [01:24<00:00,  3.07it/s]\n",
            "  0%|          | 0/256 [00:00<?, ?it/s]"
          ],
          "name": "stderr"
        },
        {
          "output_type": "stream",
          "text": [
            "Epoch 117\n"
          ],
          "name": "stdout"
        },
        {
          "output_type": "stream",
          "text": [
            "100%|██████████| 256/256 [01:24<00:00,  3.06it/s]\n",
            "  0%|          | 0/256 [00:00<?, ?it/s]"
          ],
          "name": "stderr"
        },
        {
          "output_type": "stream",
          "text": [
            "Epoch 118\n"
          ],
          "name": "stdout"
        },
        {
          "output_type": "stream",
          "text": [
            "100%|██████████| 256/256 [01:24<00:00,  3.07it/s]\n",
            "  0%|          | 0/256 [00:00<?, ?it/s]"
          ],
          "name": "stderr"
        },
        {
          "output_type": "stream",
          "text": [
            "Epoch 119\n"
          ],
          "name": "stdout"
        },
        {
          "output_type": "stream",
          "text": [
            "100%|██████████| 256/256 [01:24<00:00,  3.06it/s]\n",
            "  0%|          | 0/256 [00:00<?, ?it/s]"
          ],
          "name": "stderr"
        },
        {
          "output_type": "stream",
          "text": [
            "Epoch 120\n"
          ],
          "name": "stdout"
        },
        {
          "output_type": "stream",
          "text": [
            "100%|██████████| 256/256 [01:24<00:00,  3.05it/s]\n",
            "Clipping input data to the valid range for imshow with RGB data ([0..1] for floats or [0..255] for integers).\n",
            "Clipping input data to the valid range for imshow with RGB data ([0..1] for floats or [0..255] for integers).\n",
            "Clipping input data to the valid range for imshow with RGB data ([0..1] for floats or [0..255] for integers).\n",
            "Clipping input data to the valid range for imshow with RGB data ([0..1] for floats or [0..255] for integers).\n",
            "Clipping input data to the valid range for imshow with RGB data ([0..1] for floats or [0..255] for integers).\n",
            "Clipping input data to the valid range for imshow with RGB data ([0..1] for floats or [0..255] for integers).\n",
            "Clipping input data to the valid range for imshow with RGB data ([0..1] for floats or [0..255] for integers).\n",
            "Clipping input data to the valid range for imshow with RGB data ([0..1] for floats or [0..255] for integers).\n",
            "Clipping input data to the valid range for imshow with RGB data ([0..1] for floats or [0..255] for integers).\n",
            "Clipping input data to the valid range for imshow with RGB data ([0..1] for floats or [0..255] for integers).\n",
            "Clipping input data to the valid range for imshow with RGB data ([0..1] for floats or [0..255] for integers).\n",
            "Clipping input data to the valid range for imshow with RGB data ([0..1] for floats or [0..255] for integers).\n",
            "Clipping input data to the valid range for imshow with RGB data ([0..1] for floats or [0..255] for integers).\n",
            "Clipping input data to the valid range for imshow with RGB data ([0..1] for floats or [0..255] for integers).\n",
            "Clipping input data to the valid range for imshow with RGB data ([0..1] for floats or [0..255] for integers).\n",
            "Clipping input data to the valid range for imshow with RGB data ([0..1] for floats or [0..255] for integers).\n",
            "Clipping input data to the valid range for imshow with RGB data ([0..1] for floats or [0..255] for integers).\n",
            "Clipping input data to the valid range for imshow with RGB data ([0..1] for floats or [0..255] for integers).\n",
            "Clipping input data to the valid range for imshow with RGB data ([0..1] for floats or [0..255] for integers).\n",
            "Clipping input data to the valid range for imshow with RGB data ([0..1] for floats or [0..255] for integers).\n",
            "Clipping input data to the valid range for imshow with RGB data ([0..1] for floats or [0..255] for integers).\n",
            "Clipping input data to the valid range for imshow with RGB data ([0..1] for floats or [0..255] for integers).\n",
            "Clipping input data to the valid range for imshow with RGB data ([0..1] for floats or [0..255] for integers).\n",
            "Clipping input data to the valid range for imshow with RGB data ([0..1] for floats or [0..255] for integers).\n",
            "Clipping input data to the valid range for imshow with RGB data ([0..1] for floats or [0..255] for integers).\n",
            "  0%|          | 0/256 [00:00<?, ?it/s]"
          ],
          "name": "stderr"
        },
        {
          "output_type": "stream",
          "text": [
            "Epoch 121\n"
          ],
          "name": "stdout"
        },
        {
          "output_type": "stream",
          "text": [
            "100%|██████████| 256/256 [01:25<00:00,  2.98it/s]\n",
            "  0%|          | 0/256 [00:00<?, ?it/s]"
          ],
          "name": "stderr"
        },
        {
          "output_type": "stream",
          "text": [
            "Epoch 122\n"
          ],
          "name": "stdout"
        },
        {
          "output_type": "stream",
          "text": [
            "100%|██████████| 256/256 [01:24<00:00,  3.01it/s]\n",
            "  0%|          | 0/256 [00:00<?, ?it/s]"
          ],
          "name": "stderr"
        },
        {
          "output_type": "stream",
          "text": [
            "Epoch 123\n"
          ],
          "name": "stdout"
        },
        {
          "output_type": "stream",
          "text": [
            "100%|██████████| 256/256 [01:25<00:00,  3.03it/s]\n",
            "  0%|          | 0/256 [00:00<?, ?it/s]"
          ],
          "name": "stderr"
        },
        {
          "output_type": "stream",
          "text": [
            "Epoch 124\n"
          ],
          "name": "stdout"
        },
        {
          "output_type": "stream",
          "text": [
            "100%|██████████| 256/256 [01:25<00:00,  3.01it/s]\n",
            "  0%|          | 0/256 [00:00<?, ?it/s]"
          ],
          "name": "stderr"
        },
        {
          "output_type": "stream",
          "text": [
            "Epoch 125\n"
          ],
          "name": "stdout"
        },
        {
          "output_type": "stream",
          "text": [
            "100%|██████████| 256/256 [01:25<00:00,  2.99it/s]\n",
            "  0%|          | 0/256 [00:00<?, ?it/s]"
          ],
          "name": "stderr"
        },
        {
          "output_type": "stream",
          "text": [
            "Epoch 126\n"
          ],
          "name": "stdout"
        },
        {
          "output_type": "stream",
          "text": [
            "100%|██████████| 256/256 [01:25<00:00,  2.86it/s]\n",
            "  0%|          | 0/256 [00:00<?, ?it/s]"
          ],
          "name": "stderr"
        },
        {
          "output_type": "stream",
          "text": [
            "Epoch 127\n"
          ],
          "name": "stdout"
        },
        {
          "output_type": "stream",
          "text": [
            "100%|██████████| 256/256 [01:25<00:00,  3.02it/s]\n",
            "  0%|          | 0/256 [00:00<?, ?it/s]"
          ],
          "name": "stderr"
        },
        {
          "output_type": "stream",
          "text": [
            "Epoch 128\n"
          ],
          "name": "stdout"
        },
        {
          "output_type": "stream",
          "text": [
            "100%|██████████| 256/256 [01:25<00:00,  3.03it/s]\n",
            "  0%|          | 0/256 [00:00<?, ?it/s]"
          ],
          "name": "stderr"
        },
        {
          "output_type": "stream",
          "text": [
            "Epoch 129\n"
          ],
          "name": "stdout"
        },
        {
          "output_type": "stream",
          "text": [
            "100%|██████████| 256/256 [01:25<00:00,  2.99it/s]\n",
            "  0%|          | 0/256 [00:00<?, ?it/s]"
          ],
          "name": "stderr"
        },
        {
          "output_type": "stream",
          "text": [
            "Epoch 130\n"
          ],
          "name": "stdout"
        },
        {
          "output_type": "stream",
          "text": [
            "100%|██████████| 256/256 [01:25<00:00,  3.01it/s]\n",
            "  0%|          | 0/256 [00:00<?, ?it/s]"
          ],
          "name": "stderr"
        },
        {
          "output_type": "stream",
          "text": [
            "Epoch 131\n"
          ],
          "name": "stdout"
        },
        {
          "output_type": "stream",
          "text": [
            "100%|██████████| 256/256 [01:25<00:00,  2.97it/s]\n",
            "  0%|          | 0/256 [00:00<?, ?it/s]"
          ],
          "name": "stderr"
        },
        {
          "output_type": "stream",
          "text": [
            "Epoch 132\n"
          ],
          "name": "stdout"
        },
        {
          "output_type": "stream",
          "text": [
            "100%|██████████| 256/256 [01:25<00:00,  3.01it/s]\n",
            "  0%|          | 0/256 [00:00<?, ?it/s]"
          ],
          "name": "stderr"
        },
        {
          "output_type": "stream",
          "text": [
            "Epoch 133\n"
          ],
          "name": "stdout"
        },
        {
          "output_type": "stream",
          "text": [
            "100%|██████████| 256/256 [01:25<00:00,  2.99it/s]\n",
            "  0%|          | 0/256 [00:00<?, ?it/s]"
          ],
          "name": "stderr"
        },
        {
          "output_type": "stream",
          "text": [
            "Epoch 134\n"
          ],
          "name": "stdout"
        },
        {
          "output_type": "stream",
          "text": [
            "100%|██████████| 256/256 [01:25<00:00,  2.94it/s]\n",
            "  0%|          | 0/256 [00:00<?, ?it/s]"
          ],
          "name": "stderr"
        },
        {
          "output_type": "stream",
          "text": [
            "Epoch 135\n"
          ],
          "name": "stdout"
        },
        {
          "output_type": "stream",
          "text": [
            "100%|██████████| 256/256 [01:25<00:00,  3.04it/s]\n",
            "  0%|          | 0/256 [00:00<?, ?it/s]"
          ],
          "name": "stderr"
        },
        {
          "output_type": "stream",
          "text": [
            "Epoch 136\n"
          ],
          "name": "stdout"
        },
        {
          "output_type": "stream",
          "text": [
            "100%|██████████| 256/256 [01:24<00:00,  3.00it/s]\n",
            "  0%|          | 0/256 [00:00<?, ?it/s]"
          ],
          "name": "stderr"
        },
        {
          "output_type": "stream",
          "text": [
            "Epoch 137\n"
          ],
          "name": "stdout"
        },
        {
          "output_type": "stream",
          "text": [
            "100%|██████████| 256/256 [01:24<00:00,  3.03it/s]\n",
            "  0%|          | 0/256 [00:00<?, ?it/s]"
          ],
          "name": "stderr"
        },
        {
          "output_type": "stream",
          "text": [
            "Epoch 138\n"
          ],
          "name": "stdout"
        },
        {
          "output_type": "stream",
          "text": [
            "100%|██████████| 256/256 [01:25<00:00,  2.95it/s]\n",
            "  0%|          | 0/256 [00:00<?, ?it/s]"
          ],
          "name": "stderr"
        },
        {
          "output_type": "stream",
          "text": [
            "Epoch 139\n"
          ],
          "name": "stdout"
        },
        {
          "output_type": "stream",
          "text": [
            "100%|██████████| 256/256 [01:25<00:00,  3.00it/s]\n",
            "  0%|          | 0/256 [00:00<?, ?it/s]"
          ],
          "name": "stderr"
        },
        {
          "output_type": "stream",
          "text": [
            "Epoch 140\n"
          ],
          "name": "stdout"
        },
        {
          "output_type": "stream",
          "text": [
            "100%|██████████| 256/256 [01:25<00:00,  3.02it/s]\n",
            "  0%|          | 0/256 [00:00<?, ?it/s]"
          ],
          "name": "stderr"
        },
        {
          "output_type": "stream",
          "text": [
            "Epoch 141\n"
          ],
          "name": "stdout"
        },
        {
          "output_type": "stream",
          "text": [
            "100%|██████████| 256/256 [01:25<00:00,  3.06it/s]\n",
            "  0%|          | 0/256 [00:00<?, ?it/s]"
          ],
          "name": "stderr"
        },
        {
          "output_type": "stream",
          "text": [
            "Epoch 142\n"
          ],
          "name": "stdout"
        },
        {
          "output_type": "stream",
          "text": [
            "100%|██████████| 256/256 [01:25<00:00,  3.00it/s]\n",
            "  0%|          | 0/256 [00:00<?, ?it/s]"
          ],
          "name": "stderr"
        },
        {
          "output_type": "stream",
          "text": [
            "Epoch 143\n"
          ],
          "name": "stdout"
        },
        {
          "output_type": "stream",
          "text": [
            "100%|██████████| 256/256 [01:24<00:00,  3.02it/s]\n",
            "  0%|          | 0/256 [00:00<?, ?it/s]"
          ],
          "name": "stderr"
        },
        {
          "output_type": "stream",
          "text": [
            "Epoch 144\n"
          ],
          "name": "stdout"
        },
        {
          "output_type": "stream",
          "text": [
            "100%|██████████| 256/256 [01:24<00:00,  3.05it/s]\n",
            "  0%|          | 0/256 [00:00<?, ?it/s]"
          ],
          "name": "stderr"
        },
        {
          "output_type": "stream",
          "text": [
            "Epoch 145\n"
          ],
          "name": "stdout"
        },
        {
          "output_type": "stream",
          "text": [
            "100%|██████████| 256/256 [01:24<00:00,  3.04it/s]\n",
            "  0%|          | 0/256 [00:00<?, ?it/s]"
          ],
          "name": "stderr"
        },
        {
          "output_type": "stream",
          "text": [
            "Epoch 146\n"
          ],
          "name": "stdout"
        },
        {
          "output_type": "stream",
          "text": [
            "100%|██████████| 256/256 [01:25<00:00,  3.02it/s]\n",
            "  0%|          | 0/256 [00:00<?, ?it/s]"
          ],
          "name": "stderr"
        },
        {
          "output_type": "stream",
          "text": [
            "Epoch 147\n"
          ],
          "name": "stdout"
        },
        {
          "output_type": "stream",
          "text": [
            "100%|██████████| 256/256 [01:24<00:00,  2.98it/s]\n",
            "  0%|          | 0/256 [00:00<?, ?it/s]"
          ],
          "name": "stderr"
        },
        {
          "output_type": "stream",
          "text": [
            "Epoch 148\n"
          ],
          "name": "stdout"
        },
        {
          "output_type": "stream",
          "text": [
            "100%|██████████| 256/256 [01:25<00:00,  3.00it/s]\n",
            "  0%|          | 0/256 [00:00<?, ?it/s]"
          ],
          "name": "stderr"
        },
        {
          "output_type": "stream",
          "text": [
            "Epoch 149\n"
          ],
          "name": "stdout"
        },
        {
          "output_type": "stream",
          "text": [
            "100%|██████████| 256/256 [01:24<00:00,  3.03it/s]\n",
            "  0%|          | 0/256 [00:00<?, ?it/s]"
          ],
          "name": "stderr"
        },
        {
          "output_type": "stream",
          "text": [
            "Epoch 150\n"
          ],
          "name": "stdout"
        },
        {
          "output_type": "stream",
          "text": [
            "100%|██████████| 256/256 [01:25<00:00,  2.96it/s]\n",
            "  0%|          | 0/256 [00:00<?, ?it/s]"
          ],
          "name": "stderr"
        },
        {
          "output_type": "stream",
          "text": [
            "Epoch 151\n"
          ],
          "name": "stdout"
        },
        {
          "output_type": "stream",
          "text": [
            "100%|██████████| 256/256 [01:24<00:00,  2.99it/s]\n",
            "  0%|          | 0/256 [00:00<?, ?it/s]"
          ],
          "name": "stderr"
        },
        {
          "output_type": "stream",
          "text": [
            "Epoch 152\n"
          ],
          "name": "stdout"
        },
        {
          "output_type": "stream",
          "text": [
            "100%|██████████| 256/256 [01:25<00:00,  2.98it/s]\n",
            "  0%|          | 0/256 [00:00<?, ?it/s]"
          ],
          "name": "stderr"
        },
        {
          "output_type": "stream",
          "text": [
            "Epoch 153\n"
          ],
          "name": "stdout"
        },
        {
          "output_type": "stream",
          "text": [
            "100%|██████████| 256/256 [01:25<00:00,  2.96it/s]\n",
            "  0%|          | 0/256 [00:00<?, ?it/s]"
          ],
          "name": "stderr"
        },
        {
          "output_type": "stream",
          "text": [
            "Epoch 154\n"
          ],
          "name": "stdout"
        },
        {
          "output_type": "stream",
          "text": [
            "100%|██████████| 256/256 [01:24<00:00,  3.06it/s]\n",
            "  0%|          | 0/256 [00:00<?, ?it/s]"
          ],
          "name": "stderr"
        },
        {
          "output_type": "stream",
          "text": [
            "Epoch 155\n"
          ],
          "name": "stdout"
        },
        {
          "output_type": "stream",
          "text": [
            "100%|██████████| 256/256 [01:24<00:00,  3.00it/s]\n",
            "  0%|          | 0/256 [00:00<?, ?it/s]"
          ],
          "name": "stderr"
        },
        {
          "output_type": "stream",
          "text": [
            "Epoch 156\n"
          ],
          "name": "stdout"
        },
        {
          "output_type": "stream",
          "text": [
            "100%|██████████| 256/256 [01:25<00:00,  2.95it/s]\n",
            "  0%|          | 0/256 [00:00<?, ?it/s]"
          ],
          "name": "stderr"
        },
        {
          "output_type": "stream",
          "text": [
            "Epoch 157\n"
          ],
          "name": "stdout"
        },
        {
          "output_type": "stream",
          "text": [
            "100%|██████████| 256/256 [01:25<00:00,  2.98it/s]\n",
            "  0%|          | 0/256 [00:00<?, ?it/s]"
          ],
          "name": "stderr"
        },
        {
          "output_type": "stream",
          "text": [
            "Epoch 158\n"
          ],
          "name": "stdout"
        },
        {
          "output_type": "stream",
          "text": [
            "100%|██████████| 256/256 [01:25<00:00,  2.99it/s]\n",
            "  0%|          | 0/256 [00:00<?, ?it/s]"
          ],
          "name": "stderr"
        },
        {
          "output_type": "stream",
          "text": [
            "Epoch 159\n"
          ],
          "name": "stdout"
        },
        {
          "output_type": "stream",
          "text": [
            "100%|██████████| 256/256 [01:25<00:00,  3.02it/s]\n",
            "  0%|          | 0/256 [00:00<?, ?it/s]"
          ],
          "name": "stderr"
        },
        {
          "output_type": "stream",
          "text": [
            "Epoch 160\n"
          ],
          "name": "stdout"
        },
        {
          "output_type": "stream",
          "text": [
            "100%|██████████| 256/256 [01:25<00:00,  3.01it/s]\n",
            "Clipping input data to the valid range for imshow with RGB data ([0..1] for floats or [0..255] for integers).\n",
            "Clipping input data to the valid range for imshow with RGB data ([0..1] for floats or [0..255] for integers).\n",
            "Clipping input data to the valid range for imshow with RGB data ([0..1] for floats or [0..255] for integers).\n",
            "Clipping input data to the valid range for imshow with RGB data ([0..1] for floats or [0..255] for integers).\n",
            "Clipping input data to the valid range for imshow with RGB data ([0..1] for floats or [0..255] for integers).\n",
            "Clipping input data to the valid range for imshow with RGB data ([0..1] for floats or [0..255] for integers).\n",
            "Clipping input data to the valid range for imshow with RGB data ([0..1] for floats or [0..255] for integers).\n",
            "Clipping input data to the valid range for imshow with RGB data ([0..1] for floats or [0..255] for integers).\n",
            "Clipping input data to the valid range for imshow with RGB data ([0..1] for floats or [0..255] for integers).\n",
            "Clipping input data to the valid range for imshow with RGB data ([0..1] for floats or [0..255] for integers).\n",
            "Clipping input data to the valid range for imshow with RGB data ([0..1] for floats or [0..255] for integers).\n",
            "Clipping input data to the valid range for imshow with RGB data ([0..1] for floats or [0..255] for integers).\n",
            "Clipping input data to the valid range for imshow with RGB data ([0..1] for floats or [0..255] for integers).\n",
            "Clipping input data to the valid range for imshow with RGB data ([0..1] for floats or [0..255] for integers).\n",
            "Clipping input data to the valid range for imshow with RGB data ([0..1] for floats or [0..255] for integers).\n",
            "Clipping input data to the valid range for imshow with RGB data ([0..1] for floats or [0..255] for integers).\n",
            "Clipping input data to the valid range for imshow with RGB data ([0..1] for floats or [0..255] for integers).\n",
            "Clipping input data to the valid range for imshow with RGB data ([0..1] for floats or [0..255] for integers).\n",
            "Clipping input data to the valid range for imshow with RGB data ([0..1] for floats or [0..255] for integers).\n",
            "Clipping input data to the valid range for imshow with RGB data ([0..1] for floats or [0..255] for integers).\n",
            "Clipping input data to the valid range for imshow with RGB data ([0..1] for floats or [0..255] for integers).\n",
            "Clipping input data to the valid range for imshow with RGB data ([0..1] for floats or [0..255] for integers).\n",
            "Clipping input data to the valid range for imshow with RGB data ([0..1] for floats or [0..255] for integers).\n",
            "Clipping input data to the valid range for imshow with RGB data ([0..1] for floats or [0..255] for integers).\n",
            "Clipping input data to the valid range for imshow with RGB data ([0..1] for floats or [0..255] for integers).\n",
            "  0%|          | 0/256 [00:00<?, ?it/s]"
          ],
          "name": "stderr"
        },
        {
          "output_type": "stream",
          "text": [
            "Epoch 161\n"
          ],
          "name": "stdout"
        },
        {
          "output_type": "stream",
          "text": [
            "100%|██████████| 256/256 [01:26<00:00,  2.97it/s]\n",
            "  0%|          | 0/256 [00:00<?, ?it/s]"
          ],
          "name": "stderr"
        },
        {
          "output_type": "stream",
          "text": [
            "Epoch 162\n"
          ],
          "name": "stdout"
        },
        {
          "output_type": "stream",
          "text": [
            "100%|██████████| 256/256 [01:26<00:00,  2.99it/s]\n",
            "  0%|          | 0/256 [00:00<?, ?it/s]"
          ],
          "name": "stderr"
        },
        {
          "output_type": "stream",
          "text": [
            "Epoch 163\n"
          ],
          "name": "stdout"
        },
        {
          "output_type": "stream",
          "text": [
            "100%|██████████| 256/256 [01:26<00:00,  3.00it/s]\n",
            "  0%|          | 0/256 [00:00<?, ?it/s]"
          ],
          "name": "stderr"
        },
        {
          "output_type": "stream",
          "text": [
            "Epoch 164\n"
          ],
          "name": "stdout"
        },
        {
          "output_type": "stream",
          "text": [
            "100%|██████████| 256/256 [01:25<00:00,  2.97it/s]\n",
            "  0%|          | 0/256 [00:00<?, ?it/s]"
          ],
          "name": "stderr"
        },
        {
          "output_type": "stream",
          "text": [
            "Epoch 165\n"
          ],
          "name": "stdout"
        },
        {
          "output_type": "stream",
          "text": [
            "100%|██████████| 256/256 [01:25<00:00,  3.01it/s]\n",
            "  0%|          | 0/256 [00:00<?, ?it/s]"
          ],
          "name": "stderr"
        },
        {
          "output_type": "stream",
          "text": [
            "Epoch 166\n"
          ],
          "name": "stdout"
        },
        {
          "output_type": "stream",
          "text": [
            "100%|██████████| 256/256 [01:24<00:00,  3.04it/s]\n",
            "  0%|          | 0/256 [00:00<?, ?it/s]"
          ],
          "name": "stderr"
        },
        {
          "output_type": "stream",
          "text": [
            "Epoch 167\n"
          ],
          "name": "stdout"
        },
        {
          "output_type": "stream",
          "text": [
            "100%|██████████| 256/256 [01:24<00:00,  2.99it/s]\n",
            "  0%|          | 0/256 [00:00<?, ?it/s]"
          ],
          "name": "stderr"
        },
        {
          "output_type": "stream",
          "text": [
            "Epoch 168\n"
          ],
          "name": "stdout"
        },
        {
          "output_type": "stream",
          "text": [
            "100%|██████████| 256/256 [01:25<00:00,  2.99it/s]\n",
            "  0%|          | 0/256 [00:00<?, ?it/s]"
          ],
          "name": "stderr"
        },
        {
          "output_type": "stream",
          "text": [
            "Epoch 169\n"
          ],
          "name": "stdout"
        },
        {
          "output_type": "stream",
          "text": [
            "100%|██████████| 256/256 [01:24<00:00,  2.94it/s]\n",
            "  0%|          | 0/256 [00:00<?, ?it/s]"
          ],
          "name": "stderr"
        },
        {
          "output_type": "stream",
          "text": [
            "Epoch 170\n"
          ],
          "name": "stdout"
        },
        {
          "output_type": "stream",
          "text": [
            "100%|██████████| 256/256 [01:25<00:00,  3.03it/s]\n",
            "  0%|          | 0/256 [00:00<?, ?it/s]"
          ],
          "name": "stderr"
        },
        {
          "output_type": "stream",
          "text": [
            "Epoch 171\n"
          ],
          "name": "stdout"
        },
        {
          "output_type": "stream",
          "text": [
            "100%|██████████| 256/256 [01:25<00:00,  3.01it/s]\n",
            "  0%|          | 0/256 [00:00<?, ?it/s]"
          ],
          "name": "stderr"
        },
        {
          "output_type": "stream",
          "text": [
            "Epoch 172\n"
          ],
          "name": "stdout"
        },
        {
          "output_type": "stream",
          "text": [
            "100%|██████████| 256/256 [01:25<00:00,  3.03it/s]\n",
            "  0%|          | 0/256 [00:00<?, ?it/s]"
          ],
          "name": "stderr"
        },
        {
          "output_type": "stream",
          "text": [
            "Epoch 173\n"
          ],
          "name": "stdout"
        },
        {
          "output_type": "stream",
          "text": [
            "100%|██████████| 256/256 [01:25<00:00,  2.98it/s]\n",
            "  0%|          | 0/256 [00:00<?, ?it/s]"
          ],
          "name": "stderr"
        },
        {
          "output_type": "stream",
          "text": [
            "Epoch 174\n"
          ],
          "name": "stdout"
        },
        {
          "output_type": "stream",
          "text": [
            "100%|██████████| 256/256 [01:25<00:00,  3.02it/s]\n",
            "  0%|          | 0/256 [00:00<?, ?it/s]"
          ],
          "name": "stderr"
        },
        {
          "output_type": "stream",
          "text": [
            "Epoch 175\n"
          ],
          "name": "stdout"
        },
        {
          "output_type": "stream",
          "text": [
            "100%|██████████| 256/256 [01:25<00:00,  2.99it/s]\n",
            "  0%|          | 0/256 [00:00<?, ?it/s]"
          ],
          "name": "stderr"
        },
        {
          "output_type": "stream",
          "text": [
            "Epoch 176\n"
          ],
          "name": "stdout"
        },
        {
          "output_type": "stream",
          "text": [
            "100%|██████████| 256/256 [01:24<00:00,  3.03it/s]\n",
            "  0%|          | 0/256 [00:00<?, ?it/s]"
          ],
          "name": "stderr"
        },
        {
          "output_type": "stream",
          "text": [
            "Epoch 177\n"
          ],
          "name": "stdout"
        },
        {
          "output_type": "stream",
          "text": [
            "100%|██████████| 256/256 [01:24<00:00,  3.08it/s]\n",
            "  0%|          | 0/256 [00:00<?, ?it/s]"
          ],
          "name": "stderr"
        },
        {
          "output_type": "stream",
          "text": [
            "Epoch 178\n"
          ],
          "name": "stdout"
        },
        {
          "output_type": "stream",
          "text": [
            "100%|██████████| 256/256 [01:24<00:00,  3.05it/s]\n",
            "  0%|          | 0/256 [00:00<?, ?it/s]"
          ],
          "name": "stderr"
        },
        {
          "output_type": "stream",
          "text": [
            "Epoch 179\n"
          ],
          "name": "stdout"
        },
        {
          "output_type": "stream",
          "text": [
            "100%|██████████| 256/256 [01:24<00:00,  3.04it/s]\n",
            "  0%|          | 0/256 [00:00<?, ?it/s]"
          ],
          "name": "stderr"
        },
        {
          "output_type": "stream",
          "text": [
            "Epoch 180\n"
          ],
          "name": "stdout"
        },
        {
          "output_type": "stream",
          "text": [
            "100%|██████████| 256/256 [01:24<00:00,  3.02it/s]\n",
            "  0%|          | 0/256 [00:00<?, ?it/s]"
          ],
          "name": "stderr"
        },
        {
          "output_type": "stream",
          "text": [
            "Epoch 181\n"
          ],
          "name": "stdout"
        },
        {
          "output_type": "stream",
          "text": [
            "100%|██████████| 256/256 [01:24<00:00,  2.98it/s]\n",
            "  0%|          | 0/256 [00:00<?, ?it/s]"
          ],
          "name": "stderr"
        },
        {
          "output_type": "stream",
          "text": [
            "Epoch 182\n"
          ],
          "name": "stdout"
        },
        {
          "output_type": "stream",
          "text": [
            "100%|██████████| 256/256 [01:25<00:00,  2.99it/s]\n",
            "  0%|          | 0/256 [00:00<?, ?it/s]"
          ],
          "name": "stderr"
        },
        {
          "output_type": "stream",
          "text": [
            "Epoch 183\n"
          ],
          "name": "stdout"
        },
        {
          "output_type": "stream",
          "text": [
            "100%|██████████| 256/256 [01:24<00:00,  3.04it/s]\n",
            "  0%|          | 0/256 [00:00<?, ?it/s]"
          ],
          "name": "stderr"
        },
        {
          "output_type": "stream",
          "text": [
            "Epoch 184\n"
          ],
          "name": "stdout"
        },
        {
          "output_type": "stream",
          "text": [
            "100%|██████████| 256/256 [01:24<00:00,  3.02it/s]\n",
            "  0%|          | 0/256 [00:00<?, ?it/s]"
          ],
          "name": "stderr"
        },
        {
          "output_type": "stream",
          "text": [
            "Epoch 185\n"
          ],
          "name": "stdout"
        },
        {
          "output_type": "stream",
          "text": [
            "100%|██████████| 256/256 [01:24<00:00,  3.03it/s]\n",
            "  0%|          | 0/256 [00:00<?, ?it/s]"
          ],
          "name": "stderr"
        },
        {
          "output_type": "stream",
          "text": [
            "Epoch 186\n"
          ],
          "name": "stdout"
        },
        {
          "output_type": "stream",
          "text": [
            "100%|██████████| 256/256 [01:24<00:00,  3.01it/s]\n",
            "  0%|          | 0/256 [00:00<?, ?it/s]"
          ],
          "name": "stderr"
        },
        {
          "output_type": "stream",
          "text": [
            "Epoch 187\n"
          ],
          "name": "stdout"
        },
        {
          "output_type": "stream",
          "text": [
            "100%|██████████| 256/256 [01:25<00:00,  3.03it/s]\n",
            "  0%|          | 0/256 [00:00<?, ?it/s]"
          ],
          "name": "stderr"
        },
        {
          "output_type": "stream",
          "text": [
            "Epoch 188\n"
          ],
          "name": "stdout"
        },
        {
          "output_type": "stream",
          "text": [
            "100%|██████████| 256/256 [01:25<00:00,  3.04it/s]\n",
            "  0%|          | 0/256 [00:00<?, ?it/s]"
          ],
          "name": "stderr"
        },
        {
          "output_type": "stream",
          "text": [
            "Epoch 189\n"
          ],
          "name": "stdout"
        },
        {
          "output_type": "stream",
          "text": [
            "100%|██████████| 256/256 [01:24<00:00,  3.06it/s]\n",
            "  0%|          | 0/256 [00:00<?, ?it/s]"
          ],
          "name": "stderr"
        },
        {
          "output_type": "stream",
          "text": [
            "Epoch 190\n"
          ],
          "name": "stdout"
        },
        {
          "output_type": "stream",
          "text": [
            "100%|██████████| 256/256 [01:24<00:00,  3.02it/s]\n",
            "  0%|          | 0/256 [00:00<?, ?it/s]"
          ],
          "name": "stderr"
        },
        {
          "output_type": "stream",
          "text": [
            "Epoch 191\n"
          ],
          "name": "stdout"
        },
        {
          "output_type": "stream",
          "text": [
            "100%|██████████| 256/256 [01:24<00:00,  3.06it/s]\n",
            "  0%|          | 0/256 [00:00<?, ?it/s]"
          ],
          "name": "stderr"
        },
        {
          "output_type": "stream",
          "text": [
            "Epoch 192\n"
          ],
          "name": "stdout"
        },
        {
          "output_type": "stream",
          "text": [
            "100%|██████████| 256/256 [01:24<00:00,  3.02it/s]\n",
            "  0%|          | 0/256 [00:00<?, ?it/s]"
          ],
          "name": "stderr"
        },
        {
          "output_type": "stream",
          "text": [
            "Epoch 193\n"
          ],
          "name": "stdout"
        },
        {
          "output_type": "stream",
          "text": [
            "100%|██████████| 256/256 [01:25<00:00,  3.03it/s]\n",
            "  0%|          | 0/256 [00:00<?, ?it/s]"
          ],
          "name": "stderr"
        },
        {
          "output_type": "stream",
          "text": [
            "Epoch 194\n"
          ],
          "name": "stdout"
        },
        {
          "output_type": "stream",
          "text": [
            "100%|██████████| 256/256 [01:24<00:00,  3.05it/s]\n",
            "  0%|          | 0/256 [00:00<?, ?it/s]"
          ],
          "name": "stderr"
        },
        {
          "output_type": "stream",
          "text": [
            "Epoch 195\n"
          ],
          "name": "stdout"
        },
        {
          "output_type": "stream",
          "text": [
            "100%|██████████| 256/256 [01:24<00:00,  2.99it/s]\n",
            "  0%|          | 0/256 [00:00<?, ?it/s]"
          ],
          "name": "stderr"
        },
        {
          "output_type": "stream",
          "text": [
            "Epoch 196\n"
          ],
          "name": "stdout"
        },
        {
          "output_type": "stream",
          "text": [
            "100%|██████████| 256/256 [01:25<00:00,  2.98it/s]\n",
            "  0%|          | 0/256 [00:00<?, ?it/s]"
          ],
          "name": "stderr"
        },
        {
          "output_type": "stream",
          "text": [
            "Epoch 197\n"
          ],
          "name": "stdout"
        },
        {
          "output_type": "stream",
          "text": [
            "100%|██████████| 256/256 [01:24<00:00,  3.06it/s]\n",
            "  0%|          | 0/256 [00:00<?, ?it/s]"
          ],
          "name": "stderr"
        },
        {
          "output_type": "stream",
          "text": [
            "Epoch 198\n"
          ],
          "name": "stdout"
        },
        {
          "output_type": "stream",
          "text": [
            "100%|██████████| 256/256 [01:24<00:00,  3.03it/s]\n",
            "  0%|          | 0/256 [00:00<?, ?it/s]"
          ],
          "name": "stderr"
        },
        {
          "output_type": "stream",
          "text": [
            "Epoch 199\n"
          ],
          "name": "stdout"
        },
        {
          "output_type": "stream",
          "text": [
            "100%|██████████| 256/256 [01:24<00:00,  3.06it/s]\n",
            "  0%|          | 0/256 [00:00<?, ?it/s]"
          ],
          "name": "stderr"
        },
        {
          "output_type": "stream",
          "text": [
            "Epoch 200\n"
          ],
          "name": "stdout"
        },
        {
          "output_type": "stream",
          "text": [
            "100%|██████████| 256/256 [01:24<00:00,  3.03it/s]\n",
            "Clipping input data to the valid range for imshow with RGB data ([0..1] for floats or [0..255] for integers).\n",
            "Clipping input data to the valid range for imshow with RGB data ([0..1] for floats or [0..255] for integers).\n",
            "Clipping input data to the valid range for imshow with RGB data ([0..1] for floats or [0..255] for integers).\n",
            "Clipping input data to the valid range for imshow with RGB data ([0..1] for floats or [0..255] for integers).\n",
            "Clipping input data to the valid range for imshow with RGB data ([0..1] for floats or [0..255] for integers).\n",
            "Clipping input data to the valid range for imshow with RGB data ([0..1] for floats or [0..255] for integers).\n",
            "Clipping input data to the valid range for imshow with RGB data ([0..1] for floats or [0..255] for integers).\n",
            "Clipping input data to the valid range for imshow with RGB data ([0..1] for floats or [0..255] for integers).\n",
            "Clipping input data to the valid range for imshow with RGB data ([0..1] for floats or [0..255] for integers).\n",
            "Clipping input data to the valid range for imshow with RGB data ([0..1] for floats or [0..255] for integers).\n",
            "Clipping input data to the valid range for imshow with RGB data ([0..1] for floats or [0..255] for integers).\n",
            "Clipping input data to the valid range for imshow with RGB data ([0..1] for floats or [0..255] for integers).\n",
            "Clipping input data to the valid range for imshow with RGB data ([0..1] for floats or [0..255] for integers).\n",
            "Clipping input data to the valid range for imshow with RGB data ([0..1] for floats or [0..255] for integers).\n",
            "Clipping input data to the valid range for imshow with RGB data ([0..1] for floats or [0..255] for integers).\n",
            "Clipping input data to the valid range for imshow with RGB data ([0..1] for floats or [0..255] for integers).\n",
            "Clipping input data to the valid range for imshow with RGB data ([0..1] for floats or [0..255] for integers).\n",
            "Clipping input data to the valid range for imshow with RGB data ([0..1] for floats or [0..255] for integers).\n",
            "Clipping input data to the valid range for imshow with RGB data ([0..1] for floats or [0..255] for integers).\n",
            "Clipping input data to the valid range for imshow with RGB data ([0..1] for floats or [0..255] for integers).\n",
            "Clipping input data to the valid range for imshow with RGB data ([0..1] for floats or [0..255] for integers).\n",
            "Clipping input data to the valid range for imshow with RGB data ([0..1] for floats or [0..255] for integers).\n",
            "Clipping input data to the valid range for imshow with RGB data ([0..1] for floats or [0..255] for integers).\n",
            "Clipping input data to the valid range for imshow with RGB data ([0..1] for floats or [0..255] for integers).\n",
            "Clipping input data to the valid range for imshow with RGB data ([0..1] for floats or [0..255] for integers).\n",
            "  0%|          | 0/256 [00:00<?, ?it/s]"
          ],
          "name": "stderr"
        },
        {
          "output_type": "stream",
          "text": [
            "Epoch 201\n"
          ],
          "name": "stdout"
        },
        {
          "output_type": "stream",
          "text": [
            "100%|██████████| 256/256 [01:24<00:00,  3.02it/s]\n",
            "  0%|          | 0/256 [00:00<?, ?it/s]"
          ],
          "name": "stderr"
        },
        {
          "output_type": "stream",
          "text": [
            "Epoch 202\n"
          ],
          "name": "stdout"
        },
        {
          "output_type": "stream",
          "text": [
            "100%|██████████| 256/256 [01:23<00:00,  3.07it/s]\n",
            "  0%|          | 0/256 [00:00<?, ?it/s]"
          ],
          "name": "stderr"
        },
        {
          "output_type": "stream",
          "text": [
            "Epoch 203\n"
          ],
          "name": "stdout"
        },
        {
          "output_type": "stream",
          "text": [
            "100%|██████████| 256/256 [01:23<00:00,  3.06it/s]\n",
            "  0%|          | 0/256 [00:00<?, ?it/s]"
          ],
          "name": "stderr"
        },
        {
          "output_type": "stream",
          "text": [
            "Epoch 204\n"
          ],
          "name": "stdout"
        },
        {
          "output_type": "stream",
          "text": [
            "100%|██████████| 256/256 [01:23<00:00,  3.01it/s]\n",
            "  0%|          | 0/256 [00:00<?, ?it/s]"
          ],
          "name": "stderr"
        },
        {
          "output_type": "stream",
          "text": [
            "Epoch 205\n"
          ],
          "name": "stdout"
        },
        {
          "output_type": "stream",
          "text": [
            "100%|██████████| 256/256 [01:23<00:00,  3.06it/s]\n",
            "  0%|          | 0/256 [00:00<?, ?it/s]"
          ],
          "name": "stderr"
        },
        {
          "output_type": "stream",
          "text": [
            "Epoch 206\n"
          ],
          "name": "stdout"
        },
        {
          "output_type": "stream",
          "text": [
            "100%|██████████| 256/256 [01:23<00:00,  3.07it/s]\n",
            "  0%|          | 0/256 [00:00<?, ?it/s]"
          ],
          "name": "stderr"
        },
        {
          "output_type": "stream",
          "text": [
            "Epoch 207\n"
          ],
          "name": "stdout"
        },
        {
          "output_type": "stream",
          "text": [
            "100%|██████████| 256/256 [01:23<00:00,  3.06it/s]\n",
            "  0%|          | 0/256 [00:00<?, ?it/s]"
          ],
          "name": "stderr"
        },
        {
          "output_type": "stream",
          "text": [
            "Epoch 208\n"
          ],
          "name": "stdout"
        },
        {
          "output_type": "stream",
          "text": [
            "100%|██████████| 256/256 [01:23<00:00,  3.07it/s]\n",
            "  0%|          | 0/256 [00:00<?, ?it/s]"
          ],
          "name": "stderr"
        },
        {
          "output_type": "stream",
          "text": [
            "Epoch 209\n"
          ],
          "name": "stdout"
        },
        {
          "output_type": "stream",
          "text": [
            "100%|██████████| 256/256 [01:23<00:00,  3.05it/s]\n",
            "  0%|          | 0/256 [00:00<?, ?it/s]"
          ],
          "name": "stderr"
        },
        {
          "output_type": "stream",
          "text": [
            "Epoch 210\n"
          ],
          "name": "stdout"
        },
        {
          "output_type": "stream",
          "text": [
            "100%|██████████| 256/256 [01:24<00:00,  3.06it/s]\n",
            "  0%|          | 0/256 [00:00<?, ?it/s]"
          ],
          "name": "stderr"
        },
        {
          "output_type": "stream",
          "text": [
            "Epoch 211\n"
          ],
          "name": "stdout"
        },
        {
          "output_type": "stream",
          "text": [
            "100%|██████████| 256/256 [01:23<00:00,  3.05it/s]\n",
            "  0%|          | 0/256 [00:00<?, ?it/s]"
          ],
          "name": "stderr"
        },
        {
          "output_type": "stream",
          "text": [
            "Epoch 212\n"
          ],
          "name": "stdout"
        },
        {
          "output_type": "stream",
          "text": [
            "100%|██████████| 256/256 [01:24<00:00,  3.07it/s]\n",
            "  0%|          | 0/256 [00:00<?, ?it/s]"
          ],
          "name": "stderr"
        },
        {
          "output_type": "stream",
          "text": [
            "Epoch 213\n"
          ],
          "name": "stdout"
        },
        {
          "output_type": "stream",
          "text": [
            "100%|██████████| 256/256 [01:23<00:00,  3.02it/s]\n",
            "  0%|          | 0/256 [00:00<?, ?it/s]"
          ],
          "name": "stderr"
        },
        {
          "output_type": "stream",
          "text": [
            "Epoch 214\n"
          ],
          "name": "stdout"
        },
        {
          "output_type": "stream",
          "text": [
            "100%|██████████| 256/256 [01:23<00:00,  3.04it/s]\n",
            "  0%|          | 0/256 [00:00<?, ?it/s]"
          ],
          "name": "stderr"
        },
        {
          "output_type": "stream",
          "text": [
            "Epoch 215\n"
          ],
          "name": "stdout"
        },
        {
          "output_type": "stream",
          "text": [
            "100%|██████████| 256/256 [01:23<00:00,  3.06it/s]\n",
            "  0%|          | 0/256 [00:00<?, ?it/s]"
          ],
          "name": "stderr"
        },
        {
          "output_type": "stream",
          "text": [
            "Epoch 216\n"
          ],
          "name": "stdout"
        },
        {
          "output_type": "stream",
          "text": [
            "100%|██████████| 256/256 [01:23<00:00,  3.08it/s]\n",
            "  0%|          | 0/256 [00:00<?, ?it/s]"
          ],
          "name": "stderr"
        },
        {
          "output_type": "stream",
          "text": [
            "Epoch 217\n"
          ],
          "name": "stdout"
        },
        {
          "output_type": "stream",
          "text": [
            "100%|██████████| 256/256 [01:23<00:00,  3.06it/s]\n",
            "  0%|          | 0/256 [00:00<?, ?it/s]"
          ],
          "name": "stderr"
        },
        {
          "output_type": "stream",
          "text": [
            "Epoch 218\n"
          ],
          "name": "stdout"
        },
        {
          "output_type": "stream",
          "text": [
            "100%|██████████| 256/256 [01:23<00:00,  3.03it/s]\n",
            "  0%|          | 0/256 [00:00<?, ?it/s]"
          ],
          "name": "stderr"
        },
        {
          "output_type": "stream",
          "text": [
            "Epoch 219\n"
          ],
          "name": "stdout"
        },
        {
          "output_type": "stream",
          "text": [
            "100%|██████████| 256/256 [01:23<00:00,  3.05it/s]\n",
            "  0%|          | 0/256 [00:00<?, ?it/s]"
          ],
          "name": "stderr"
        },
        {
          "output_type": "stream",
          "text": [
            "Epoch 220\n"
          ],
          "name": "stdout"
        },
        {
          "output_type": "stream",
          "text": [
            "100%|██████████| 256/256 [01:23<00:00,  3.08it/s]\n",
            "  0%|          | 0/256 [00:00<?, ?it/s]"
          ],
          "name": "stderr"
        },
        {
          "output_type": "stream",
          "text": [
            "Epoch 221\n"
          ],
          "name": "stdout"
        },
        {
          "output_type": "stream",
          "text": [
            "100%|██████████| 256/256 [01:24<00:00,  3.01it/s]\n",
            "  0%|          | 0/256 [00:00<?, ?it/s]"
          ],
          "name": "stderr"
        },
        {
          "output_type": "stream",
          "text": [
            "Epoch 222\n"
          ],
          "name": "stdout"
        },
        {
          "output_type": "stream",
          "text": [
            "100%|██████████| 256/256 [01:23<00:00,  3.06it/s]\n",
            "  0%|          | 0/256 [00:00<?, ?it/s]"
          ],
          "name": "stderr"
        },
        {
          "output_type": "stream",
          "text": [
            "Epoch 223\n"
          ],
          "name": "stdout"
        },
        {
          "output_type": "stream",
          "text": [
            "100%|██████████| 256/256 [01:23<00:00,  2.93it/s]\n",
            "  0%|          | 0/256 [00:00<?, ?it/s]"
          ],
          "name": "stderr"
        },
        {
          "output_type": "stream",
          "text": [
            "Epoch 224\n"
          ],
          "name": "stdout"
        },
        {
          "output_type": "stream",
          "text": [
            "100%|██████████| 256/256 [01:23<00:00,  3.01it/s]\n",
            "  0%|          | 0/256 [00:00<?, ?it/s]"
          ],
          "name": "stderr"
        },
        {
          "output_type": "stream",
          "text": [
            "Epoch 225\n"
          ],
          "name": "stdout"
        },
        {
          "output_type": "stream",
          "text": [
            "100%|██████████| 256/256 [01:24<00:00,  2.96it/s]\n",
            "  0%|          | 0/256 [00:00<?, ?it/s]"
          ],
          "name": "stderr"
        },
        {
          "output_type": "stream",
          "text": [
            "Epoch 226\n"
          ],
          "name": "stdout"
        },
        {
          "output_type": "stream",
          "text": [
            "100%|██████████| 256/256 [01:24<00:00,  3.05it/s]\n",
            "  0%|          | 0/256 [00:00<?, ?it/s]"
          ],
          "name": "stderr"
        },
        {
          "output_type": "stream",
          "text": [
            "Epoch 227\n"
          ],
          "name": "stdout"
        },
        {
          "output_type": "stream",
          "text": [
            "100%|██████████| 256/256 [01:24<00:00,  3.04it/s]\n",
            "  0%|          | 0/256 [00:00<?, ?it/s]"
          ],
          "name": "stderr"
        },
        {
          "output_type": "stream",
          "text": [
            "Epoch 228\n"
          ],
          "name": "stdout"
        },
        {
          "output_type": "stream",
          "text": [
            "100%|██████████| 256/256 [01:24<00:00,  3.06it/s]\n",
            "  0%|          | 0/256 [00:00<?, ?it/s]"
          ],
          "name": "stderr"
        },
        {
          "output_type": "stream",
          "text": [
            "Epoch 229\n"
          ],
          "name": "stdout"
        },
        {
          "output_type": "stream",
          "text": [
            "100%|██████████| 256/256 [01:23<00:00,  3.10it/s]\n",
            "  0%|          | 0/256 [00:00<?, ?it/s]"
          ],
          "name": "stderr"
        },
        {
          "output_type": "stream",
          "text": [
            "Epoch 230\n"
          ],
          "name": "stdout"
        },
        {
          "output_type": "stream",
          "text": [
            "100%|██████████| 256/256 [01:23<00:00,  3.04it/s]\n",
            "  0%|          | 0/256 [00:00<?, ?it/s]"
          ],
          "name": "stderr"
        },
        {
          "output_type": "stream",
          "text": [
            "Epoch 231\n"
          ],
          "name": "stdout"
        },
        {
          "output_type": "stream",
          "text": [
            "100%|██████████| 256/256 [01:24<00:00,  3.03it/s]\n",
            "  0%|          | 0/256 [00:00<?, ?it/s]"
          ],
          "name": "stderr"
        },
        {
          "output_type": "stream",
          "text": [
            "Epoch 232\n"
          ],
          "name": "stdout"
        },
        {
          "output_type": "stream",
          "text": [
            "100%|██████████| 256/256 [01:24<00:00,  3.05it/s]\n",
            "  0%|          | 0/256 [00:00<?, ?it/s]"
          ],
          "name": "stderr"
        },
        {
          "output_type": "stream",
          "text": [
            "Epoch 233\n"
          ],
          "name": "stdout"
        },
        {
          "output_type": "stream",
          "text": [
            "100%|██████████| 256/256 [01:24<00:00,  3.01it/s]\n",
            "  0%|          | 0/256 [00:00<?, ?it/s]"
          ],
          "name": "stderr"
        },
        {
          "output_type": "stream",
          "text": [
            "Epoch 234\n"
          ],
          "name": "stdout"
        },
        {
          "output_type": "stream",
          "text": [
            "100%|██████████| 256/256 [01:24<00:00,  2.99it/s]\n",
            "  0%|          | 0/256 [00:00<?, ?it/s]"
          ],
          "name": "stderr"
        },
        {
          "output_type": "stream",
          "text": [
            "Epoch 235\n"
          ],
          "name": "stdout"
        },
        {
          "output_type": "stream",
          "text": [
            "100%|██████████| 256/256 [01:24<00:00,  3.03it/s]\n",
            "  0%|          | 0/256 [00:00<?, ?it/s]"
          ],
          "name": "stderr"
        },
        {
          "output_type": "stream",
          "text": [
            "Epoch 236\n"
          ],
          "name": "stdout"
        },
        {
          "output_type": "stream",
          "text": [
            "100%|██████████| 256/256 [01:24<00:00,  3.03it/s]\n",
            "  0%|          | 0/256 [00:00<?, ?it/s]"
          ],
          "name": "stderr"
        },
        {
          "output_type": "stream",
          "text": [
            "Epoch 237\n"
          ],
          "name": "stdout"
        },
        {
          "output_type": "stream",
          "text": [
            "100%|██████████| 256/256 [01:25<00:00,  3.00it/s]\n",
            "  0%|          | 0/256 [00:00<?, ?it/s]"
          ],
          "name": "stderr"
        },
        {
          "output_type": "stream",
          "text": [
            "Epoch 238\n"
          ],
          "name": "stdout"
        },
        {
          "output_type": "stream",
          "text": [
            "100%|██████████| 256/256 [01:25<00:00,  3.01it/s]\n",
            "  0%|          | 0/256 [00:00<?, ?it/s]"
          ],
          "name": "stderr"
        },
        {
          "output_type": "stream",
          "text": [
            "Epoch 239\n"
          ],
          "name": "stdout"
        },
        {
          "output_type": "stream",
          "text": [
            "100%|██████████| 256/256 [01:24<00:00,  3.06it/s]\n",
            "  0%|          | 0/256 [00:00<?, ?it/s]"
          ],
          "name": "stderr"
        },
        {
          "output_type": "stream",
          "text": [
            "Epoch 240\n"
          ],
          "name": "stdout"
        },
        {
          "output_type": "stream",
          "text": [
            "100%|██████████| 256/256 [01:24<00:00,  3.04it/s]\n",
            "Clipping input data to the valid range for imshow with RGB data ([0..1] for floats or [0..255] for integers).\n",
            "Clipping input data to the valid range for imshow with RGB data ([0..1] for floats or [0..255] for integers).\n",
            "Clipping input data to the valid range for imshow with RGB data ([0..1] for floats or [0..255] for integers).\n",
            "Clipping input data to the valid range for imshow with RGB data ([0..1] for floats or [0..255] for integers).\n",
            "Clipping input data to the valid range for imshow with RGB data ([0..1] for floats or [0..255] for integers).\n",
            "Clipping input data to the valid range for imshow with RGB data ([0..1] for floats or [0..255] for integers).\n",
            "Clipping input data to the valid range for imshow with RGB data ([0..1] for floats or [0..255] for integers).\n",
            "Clipping input data to the valid range for imshow with RGB data ([0..1] for floats or [0..255] for integers).\n",
            "Clipping input data to the valid range for imshow with RGB data ([0..1] for floats or [0..255] for integers).\n",
            "Clipping input data to the valid range for imshow with RGB data ([0..1] for floats or [0..255] for integers).\n",
            "Clipping input data to the valid range for imshow with RGB data ([0..1] for floats or [0..255] for integers).\n",
            "Clipping input data to the valid range for imshow with RGB data ([0..1] for floats or [0..255] for integers).\n",
            "Clipping input data to the valid range for imshow with RGB data ([0..1] for floats or [0..255] for integers).\n",
            "Clipping input data to the valid range for imshow with RGB data ([0..1] for floats or [0..255] for integers).\n",
            "Clipping input data to the valid range for imshow with RGB data ([0..1] for floats or [0..255] for integers).\n",
            "Clipping input data to the valid range for imshow with RGB data ([0..1] for floats or [0..255] for integers).\n",
            "Clipping input data to the valid range for imshow with RGB data ([0..1] for floats or [0..255] for integers).\n",
            "Clipping input data to the valid range for imshow with RGB data ([0..1] for floats or [0..255] for integers).\n",
            "Clipping input data to the valid range for imshow with RGB data ([0..1] for floats or [0..255] for integers).\n",
            "Clipping input data to the valid range for imshow with RGB data ([0..1] for floats or [0..255] for integers).\n",
            "Clipping input data to the valid range for imshow with RGB data ([0..1] for floats or [0..255] for integers).\n",
            "Clipping input data to the valid range for imshow with RGB data ([0..1] for floats or [0..255] for integers).\n",
            "Clipping input data to the valid range for imshow with RGB data ([0..1] for floats or [0..255] for integers).\n",
            "Clipping input data to the valid range for imshow with RGB data ([0..1] for floats or [0..255] for integers).\n",
            "Clipping input data to the valid range for imshow with RGB data ([0..1] for floats or [0..255] for integers).\n",
            "  0%|          | 0/256 [00:00<?, ?it/s]"
          ],
          "name": "stderr"
        },
        {
          "output_type": "stream",
          "text": [
            "Epoch 241\n"
          ],
          "name": "stdout"
        },
        {
          "output_type": "stream",
          "text": [
            "100%|██████████| 256/256 [01:25<00:00,  2.95it/s]\n",
            "  0%|          | 0/256 [00:00<?, ?it/s]"
          ],
          "name": "stderr"
        },
        {
          "output_type": "stream",
          "text": [
            "Epoch 242\n"
          ],
          "name": "stdout"
        },
        {
          "output_type": "stream",
          "text": [
            "100%|██████████| 256/256 [01:24<00:00,  3.03it/s]\n",
            "  0%|          | 0/256 [00:00<?, ?it/s]"
          ],
          "name": "stderr"
        },
        {
          "output_type": "stream",
          "text": [
            "Epoch 243\n"
          ],
          "name": "stdout"
        },
        {
          "output_type": "stream",
          "text": [
            "100%|██████████| 256/256 [01:24<00:00,  3.05it/s]\n",
            "  0%|          | 0/256 [00:00<?, ?it/s]"
          ],
          "name": "stderr"
        },
        {
          "output_type": "stream",
          "text": [
            "Epoch 244\n"
          ],
          "name": "stdout"
        },
        {
          "output_type": "stream",
          "text": [
            "100%|██████████| 256/256 [01:24<00:00,  3.07it/s]\n",
            "  0%|          | 0/256 [00:00<?, ?it/s]"
          ],
          "name": "stderr"
        },
        {
          "output_type": "stream",
          "text": [
            "Epoch 245\n"
          ],
          "name": "stdout"
        },
        {
          "output_type": "stream",
          "text": [
            "100%|██████████| 256/256 [01:24<00:00,  2.97it/s]\n",
            "  0%|          | 0/256 [00:00<?, ?it/s]"
          ],
          "name": "stderr"
        },
        {
          "output_type": "stream",
          "text": [
            "Epoch 246\n"
          ],
          "name": "stdout"
        },
        {
          "output_type": "stream",
          "text": [
            "100%|██████████| 256/256 [01:24<00:00,  3.06it/s]\n",
            "  0%|          | 0/256 [00:00<?, ?it/s]"
          ],
          "name": "stderr"
        },
        {
          "output_type": "stream",
          "text": [
            "Epoch 247\n"
          ],
          "name": "stdout"
        },
        {
          "output_type": "stream",
          "text": [
            "100%|██████████| 256/256 [01:24<00:00,  3.07it/s]\n",
            "  0%|          | 0/256 [00:00<?, ?it/s]"
          ],
          "name": "stderr"
        },
        {
          "output_type": "stream",
          "text": [
            "Epoch 248\n"
          ],
          "name": "stdout"
        },
        {
          "output_type": "stream",
          "text": [
            "100%|██████████| 256/256 [01:24<00:00,  3.04it/s]\n",
            "  0%|          | 0/256 [00:00<?, ?it/s]"
          ],
          "name": "stderr"
        },
        {
          "output_type": "stream",
          "text": [
            "Epoch 249\n"
          ],
          "name": "stdout"
        },
        {
          "output_type": "stream",
          "text": [
            "100%|██████████| 256/256 [01:24<00:00,  3.06it/s]\n",
            "  0%|          | 0/256 [00:00<?, ?it/s]"
          ],
          "name": "stderr"
        },
        {
          "output_type": "stream",
          "text": [
            "Epoch 250\n"
          ],
          "name": "stdout"
        },
        {
          "output_type": "stream",
          "text": [
            "100%|██████████| 256/256 [01:24<00:00,  2.99it/s]\n",
            "  0%|          | 0/256 [00:00<?, ?it/s]"
          ],
          "name": "stderr"
        },
        {
          "output_type": "stream",
          "text": [
            "Epoch 251\n"
          ],
          "name": "stdout"
        },
        {
          "output_type": "stream",
          "text": [
            "100%|██████████| 256/256 [01:24<00:00,  3.05it/s]\n",
            "  0%|          | 0/256 [00:00<?, ?it/s]"
          ],
          "name": "stderr"
        },
        {
          "output_type": "stream",
          "text": [
            "Epoch 252\n"
          ],
          "name": "stdout"
        },
        {
          "output_type": "stream",
          "text": [
            "100%|██████████| 256/256 [01:24<00:00,  3.03it/s]\n",
            "  0%|          | 0/256 [00:00<?, ?it/s]"
          ],
          "name": "stderr"
        },
        {
          "output_type": "stream",
          "text": [
            "Epoch 253\n"
          ],
          "name": "stdout"
        },
        {
          "output_type": "stream",
          "text": [
            "100%|██████████| 256/256 [01:24<00:00,  3.06it/s]\n",
            "  0%|          | 0/256 [00:00<?, ?it/s]"
          ],
          "name": "stderr"
        },
        {
          "output_type": "stream",
          "text": [
            "Epoch 254\n"
          ],
          "name": "stdout"
        },
        {
          "output_type": "stream",
          "text": [
            "100%|██████████| 256/256 [01:24<00:00,  2.96it/s]\n",
            "  0%|          | 0/256 [00:00<?, ?it/s]"
          ],
          "name": "stderr"
        },
        {
          "output_type": "stream",
          "text": [
            "Epoch 255\n"
          ],
          "name": "stdout"
        },
        {
          "output_type": "stream",
          "text": [
            "100%|██████████| 256/256 [01:24<00:00,  3.04it/s]\n",
            "  0%|          | 0/256 [00:00<?, ?it/s]"
          ],
          "name": "stderr"
        },
        {
          "output_type": "stream",
          "text": [
            "Epoch 256\n"
          ],
          "name": "stdout"
        },
        {
          "output_type": "stream",
          "text": [
            "100%|██████████| 256/256 [01:25<00:00,  3.07it/s]\n",
            "  0%|          | 0/256 [00:00<?, ?it/s]"
          ],
          "name": "stderr"
        },
        {
          "output_type": "stream",
          "text": [
            "Epoch 257\n"
          ],
          "name": "stdout"
        },
        {
          "output_type": "stream",
          "text": [
            "100%|██████████| 256/256 [01:24<00:00,  3.00it/s]\n",
            "  0%|          | 0/256 [00:00<?, ?it/s]"
          ],
          "name": "stderr"
        },
        {
          "output_type": "stream",
          "text": [
            "Epoch 258\n"
          ],
          "name": "stdout"
        },
        {
          "output_type": "stream",
          "text": [
            "100%|██████████| 256/256 [01:25<00:00,  2.97it/s]\n",
            "  0%|          | 0/256 [00:00<?, ?it/s]"
          ],
          "name": "stderr"
        },
        {
          "output_type": "stream",
          "text": [
            "Epoch 259\n"
          ],
          "name": "stdout"
        },
        {
          "output_type": "stream",
          "text": [
            "100%|██████████| 256/256 [01:24<00:00,  3.08it/s]\n",
            "  0%|          | 0/256 [00:00<?, ?it/s]"
          ],
          "name": "stderr"
        },
        {
          "output_type": "stream",
          "text": [
            "Epoch 260\n"
          ],
          "name": "stdout"
        },
        {
          "output_type": "stream",
          "text": [
            "100%|██████████| 256/256 [01:23<00:00,  3.02it/s]\n",
            "  0%|          | 0/256 [00:00<?, ?it/s]"
          ],
          "name": "stderr"
        },
        {
          "output_type": "stream",
          "text": [
            "Epoch 261\n"
          ],
          "name": "stdout"
        },
        {
          "output_type": "stream",
          "text": [
            "100%|██████████| 256/256 [01:24<00:00,  3.07it/s]\n",
            "  0%|          | 0/256 [00:00<?, ?it/s]"
          ],
          "name": "stderr"
        },
        {
          "output_type": "stream",
          "text": [
            "Epoch 262\n"
          ],
          "name": "stdout"
        },
        {
          "output_type": "stream",
          "text": [
            "100%|██████████| 256/256 [01:23<00:00,  3.00it/s]\n",
            "  0%|          | 0/256 [00:00<?, ?it/s]"
          ],
          "name": "stderr"
        },
        {
          "output_type": "stream",
          "text": [
            "Epoch 263\n"
          ],
          "name": "stdout"
        },
        {
          "output_type": "stream",
          "text": [
            "100%|██████████| 256/256 [01:23<00:00,  3.09it/s]\n",
            "  0%|          | 0/256 [00:00<?, ?it/s]"
          ],
          "name": "stderr"
        },
        {
          "output_type": "stream",
          "text": [
            "Epoch 264\n"
          ],
          "name": "stdout"
        },
        {
          "output_type": "stream",
          "text": [
            "100%|██████████| 256/256 [01:23<00:00,  3.09it/s]\n",
            "  0%|          | 0/256 [00:00<?, ?it/s]"
          ],
          "name": "stderr"
        },
        {
          "output_type": "stream",
          "text": [
            "Epoch 265\n"
          ],
          "name": "stdout"
        },
        {
          "output_type": "stream",
          "text": [
            "100%|██████████| 256/256 [01:23<00:00,  3.08it/s]\n",
            "  0%|          | 0/256 [00:00<?, ?it/s]"
          ],
          "name": "stderr"
        },
        {
          "output_type": "stream",
          "text": [
            "Epoch 266\n"
          ],
          "name": "stdout"
        },
        {
          "output_type": "stream",
          "text": [
            "100%|██████████| 256/256 [01:23<00:00,  3.07it/s]\n",
            "  0%|          | 0/256 [00:00<?, ?it/s]"
          ],
          "name": "stderr"
        },
        {
          "output_type": "stream",
          "text": [
            "Epoch 267\n"
          ],
          "name": "stdout"
        },
        {
          "output_type": "stream",
          "text": [
            "100%|██████████| 256/256 [01:23<00:00,  3.09it/s]\n",
            "  0%|          | 0/256 [00:00<?, ?it/s]"
          ],
          "name": "stderr"
        },
        {
          "output_type": "stream",
          "text": [
            "Epoch 268\n"
          ],
          "name": "stdout"
        },
        {
          "output_type": "stream",
          "text": [
            "100%|██████████| 256/256 [01:23<00:00,  3.08it/s]\n",
            "  0%|          | 0/256 [00:00<?, ?it/s]"
          ],
          "name": "stderr"
        },
        {
          "output_type": "stream",
          "text": [
            "Epoch 269\n"
          ],
          "name": "stdout"
        },
        {
          "output_type": "stream",
          "text": [
            "100%|██████████| 256/256 [01:23<00:00,  3.10it/s]\n",
            "  0%|          | 0/256 [00:00<?, ?it/s]"
          ],
          "name": "stderr"
        },
        {
          "output_type": "stream",
          "text": [
            "Epoch 270\n"
          ],
          "name": "stdout"
        },
        {
          "output_type": "stream",
          "text": [
            "100%|██████████| 256/256 [01:23<00:00,  3.07it/s]\n",
            "  0%|          | 0/256 [00:00<?, ?it/s]"
          ],
          "name": "stderr"
        },
        {
          "output_type": "stream",
          "text": [
            "Epoch 271\n"
          ],
          "name": "stdout"
        },
        {
          "output_type": "stream",
          "text": [
            "100%|██████████| 256/256 [01:22<00:00,  3.07it/s]\n",
            "  0%|          | 0/256 [00:00<?, ?it/s]"
          ],
          "name": "stderr"
        },
        {
          "output_type": "stream",
          "text": [
            "Epoch 272\n"
          ],
          "name": "stdout"
        },
        {
          "output_type": "stream",
          "text": [
            "100%|██████████| 256/256 [01:23<00:00,  3.09it/s]\n",
            "  0%|          | 0/256 [00:00<?, ?it/s]"
          ],
          "name": "stderr"
        },
        {
          "output_type": "stream",
          "text": [
            "Epoch 273\n"
          ],
          "name": "stdout"
        },
        {
          "output_type": "stream",
          "text": [
            "100%|██████████| 256/256 [01:23<00:00,  3.06it/s]\n",
            "  0%|          | 0/256 [00:00<?, ?it/s]"
          ],
          "name": "stderr"
        },
        {
          "output_type": "stream",
          "text": [
            "Epoch 274\n"
          ],
          "name": "stdout"
        },
        {
          "output_type": "stream",
          "text": [
            "100%|██████████| 256/256 [01:23<00:00,  3.05it/s]\n",
            "  0%|          | 0/256 [00:00<?, ?it/s]"
          ],
          "name": "stderr"
        },
        {
          "output_type": "stream",
          "text": [
            "Epoch 275\n"
          ],
          "name": "stdout"
        },
        {
          "output_type": "stream",
          "text": [
            "100%|██████████| 256/256 [01:23<00:00,  3.04it/s]\n",
            "  0%|          | 0/256 [00:00<?, ?it/s]"
          ],
          "name": "stderr"
        },
        {
          "output_type": "stream",
          "text": [
            "Epoch 276\n"
          ],
          "name": "stdout"
        },
        {
          "output_type": "stream",
          "text": [
            "100%|██████████| 256/256 [01:23<00:00,  3.09it/s]\n",
            "  0%|          | 0/256 [00:00<?, ?it/s]"
          ],
          "name": "stderr"
        },
        {
          "output_type": "stream",
          "text": [
            "Epoch 277\n"
          ],
          "name": "stdout"
        },
        {
          "output_type": "stream",
          "text": [
            "100%|██████████| 256/256 [01:23<00:00,  3.06it/s]\n",
            "  0%|          | 0/256 [00:00<?, ?it/s]"
          ],
          "name": "stderr"
        },
        {
          "output_type": "stream",
          "text": [
            "Epoch 278\n"
          ],
          "name": "stdout"
        },
        {
          "output_type": "stream",
          "text": [
            "100%|██████████| 256/256 [01:23<00:00,  3.06it/s]\n",
            "  0%|          | 0/256 [00:00<?, ?it/s]"
          ],
          "name": "stderr"
        },
        {
          "output_type": "stream",
          "text": [
            "Epoch 279\n"
          ],
          "name": "stdout"
        },
        {
          "output_type": "stream",
          "text": [
            "100%|██████████| 256/256 [01:23<00:00,  3.10it/s]\n",
            "  0%|          | 0/256 [00:00<?, ?it/s]"
          ],
          "name": "stderr"
        },
        {
          "output_type": "stream",
          "text": [
            "Epoch 280\n"
          ],
          "name": "stdout"
        },
        {
          "output_type": "stream",
          "text": [
            "100%|██████████| 256/256 [01:23<00:00,  3.08it/s]\n",
            "Clipping input data to the valid range for imshow with RGB data ([0..1] for floats or [0..255] for integers).\n",
            "Clipping input data to the valid range for imshow with RGB data ([0..1] for floats or [0..255] for integers).\n",
            "Clipping input data to the valid range for imshow with RGB data ([0..1] for floats or [0..255] for integers).\n",
            "Clipping input data to the valid range for imshow with RGB data ([0..1] for floats or [0..255] for integers).\n",
            "Clipping input data to the valid range for imshow with RGB data ([0..1] for floats or [0..255] for integers).\n",
            "Clipping input data to the valid range for imshow with RGB data ([0..1] for floats or [0..255] for integers).\n",
            "Clipping input data to the valid range for imshow with RGB data ([0..1] for floats or [0..255] for integers).\n",
            "Clipping input data to the valid range for imshow with RGB data ([0..1] for floats or [0..255] for integers).\n",
            "Clipping input data to the valid range for imshow with RGB data ([0..1] for floats or [0..255] for integers).\n",
            "Clipping input data to the valid range for imshow with RGB data ([0..1] for floats or [0..255] for integers).\n",
            "Clipping input data to the valid range for imshow with RGB data ([0..1] for floats or [0..255] for integers).\n",
            "Clipping input data to the valid range for imshow with RGB data ([0..1] for floats or [0..255] for integers).\n",
            "Clipping input data to the valid range for imshow with RGB data ([0..1] for floats or [0..255] for integers).\n",
            "Clipping input data to the valid range for imshow with RGB data ([0..1] for floats or [0..255] for integers).\n",
            "Clipping input data to the valid range for imshow with RGB data ([0..1] for floats or [0..255] for integers).\n",
            "Clipping input data to the valid range for imshow with RGB data ([0..1] for floats or [0..255] for integers).\n",
            "Clipping input data to the valid range for imshow with RGB data ([0..1] for floats or [0..255] for integers).\n",
            "Clipping input data to the valid range for imshow with RGB data ([0..1] for floats or [0..255] for integers).\n",
            "Clipping input data to the valid range for imshow with RGB data ([0..1] for floats or [0..255] for integers).\n",
            "Clipping input data to the valid range for imshow with RGB data ([0..1] for floats or [0..255] for integers).\n",
            "Clipping input data to the valid range for imshow with RGB data ([0..1] for floats or [0..255] for integers).\n",
            "Clipping input data to the valid range for imshow with RGB data ([0..1] for floats or [0..255] for integers).\n",
            "Clipping input data to the valid range for imshow with RGB data ([0..1] for floats or [0..255] for integers).\n",
            "Clipping input data to the valid range for imshow with RGB data ([0..1] for floats or [0..255] for integers).\n",
            "Clipping input data to the valid range for imshow with RGB data ([0..1] for floats or [0..255] for integers).\n",
            "  0%|          | 0/256 [00:00<?, ?it/s]"
          ],
          "name": "stderr"
        },
        {
          "output_type": "stream",
          "text": [
            "Epoch 281\n"
          ],
          "name": "stdout"
        },
        {
          "output_type": "stream",
          "text": [
            "100%|██████████| 256/256 [01:24<00:00,  3.04it/s]\n",
            "  0%|          | 0/256 [00:00<?, ?it/s]"
          ],
          "name": "stderr"
        },
        {
          "output_type": "stream",
          "text": [
            "Epoch 282\n"
          ],
          "name": "stdout"
        },
        {
          "output_type": "stream",
          "text": [
            "100%|██████████| 256/256 [01:24<00:00,  3.04it/s]\n",
            "  0%|          | 0/256 [00:00<?, ?it/s]"
          ],
          "name": "stderr"
        },
        {
          "output_type": "stream",
          "text": [
            "Epoch 283\n"
          ],
          "name": "stdout"
        },
        {
          "output_type": "stream",
          "text": [
            "100%|██████████| 256/256 [01:24<00:00,  2.99it/s]\n",
            "  0%|          | 0/256 [00:00<?, ?it/s]"
          ],
          "name": "stderr"
        },
        {
          "output_type": "stream",
          "text": [
            "Epoch 284\n"
          ],
          "name": "stdout"
        },
        {
          "output_type": "stream",
          "text": [
            "100%|██████████| 256/256 [01:24<00:00,  3.01it/s]\n",
            "  0%|          | 0/256 [00:00<?, ?it/s]"
          ],
          "name": "stderr"
        },
        {
          "output_type": "stream",
          "text": [
            "Epoch 285\n"
          ],
          "name": "stdout"
        },
        {
          "output_type": "stream",
          "text": [
            "100%|██████████| 256/256 [01:24<00:00,  3.07it/s]\n",
            "  0%|          | 0/256 [00:00<?, ?it/s]"
          ],
          "name": "stderr"
        },
        {
          "output_type": "stream",
          "text": [
            "Epoch 286\n"
          ],
          "name": "stdout"
        },
        {
          "output_type": "stream",
          "text": [
            "100%|██████████| 256/256 [01:23<00:00,  3.08it/s]\n",
            "  0%|          | 0/256 [00:00<?, ?it/s]"
          ],
          "name": "stderr"
        },
        {
          "output_type": "stream",
          "text": [
            "Epoch 287\n"
          ],
          "name": "stdout"
        },
        {
          "output_type": "stream",
          "text": [
            "100%|██████████| 256/256 [01:23<00:00,  3.08it/s]\n",
            "  0%|          | 0/256 [00:00<?, ?it/s]"
          ],
          "name": "stderr"
        },
        {
          "output_type": "stream",
          "text": [
            "Epoch 288\n"
          ],
          "name": "stdout"
        },
        {
          "output_type": "stream",
          "text": [
            "100%|██████████| 256/256 [01:24<00:00,  2.99it/s]\n",
            "  0%|          | 0/256 [00:00<?, ?it/s]"
          ],
          "name": "stderr"
        },
        {
          "output_type": "stream",
          "text": [
            "Epoch 289\n"
          ],
          "name": "stdout"
        },
        {
          "output_type": "stream",
          "text": [
            "100%|██████████| 256/256 [01:25<00:00,  3.00it/s]\n",
            "  0%|          | 0/256 [00:00<?, ?it/s]"
          ],
          "name": "stderr"
        },
        {
          "output_type": "stream",
          "text": [
            "Epoch 290\n"
          ],
          "name": "stdout"
        },
        {
          "output_type": "stream",
          "text": [
            "100%|██████████| 256/256 [01:25<00:00,  2.96it/s]\n",
            "  0%|          | 0/256 [00:00<?, ?it/s]"
          ],
          "name": "stderr"
        },
        {
          "output_type": "stream",
          "text": [
            "Epoch 291\n"
          ],
          "name": "stdout"
        },
        {
          "output_type": "stream",
          "text": [
            "100%|██████████| 256/256 [01:25<00:00,  2.97it/s]\n",
            "  0%|          | 0/256 [00:00<?, ?it/s]"
          ],
          "name": "stderr"
        },
        {
          "output_type": "stream",
          "text": [
            "Epoch 292\n"
          ],
          "name": "stdout"
        },
        {
          "output_type": "stream",
          "text": [
            "100%|██████████| 256/256 [01:25<00:00,  2.96it/s]\n",
            "  0%|          | 0/256 [00:00<?, ?it/s]"
          ],
          "name": "stderr"
        },
        {
          "output_type": "stream",
          "text": [
            "Epoch 293\n"
          ],
          "name": "stdout"
        },
        {
          "output_type": "stream",
          "text": [
            "100%|██████████| 256/256 [01:25<00:00,  2.96it/s]\n",
            "  0%|          | 0/256 [00:00<?, ?it/s]"
          ],
          "name": "stderr"
        },
        {
          "output_type": "stream",
          "text": [
            "Epoch 294\n"
          ],
          "name": "stdout"
        },
        {
          "output_type": "stream",
          "text": [
            "100%|██████████| 256/256 [01:26<00:00,  2.95it/s]\n",
            "  0%|          | 0/256 [00:00<?, ?it/s]"
          ],
          "name": "stderr"
        },
        {
          "output_type": "stream",
          "text": [
            "Epoch 295\n"
          ],
          "name": "stdout"
        },
        {
          "output_type": "stream",
          "text": [
            "100%|██████████| 256/256 [01:25<00:00,  2.99it/s]\n",
            "  0%|          | 0/256 [00:00<?, ?it/s]"
          ],
          "name": "stderr"
        },
        {
          "output_type": "stream",
          "text": [
            "Epoch 296\n"
          ],
          "name": "stdout"
        },
        {
          "output_type": "stream",
          "text": [
            "100%|██████████| 256/256 [01:25<00:00,  3.00it/s]\n",
            "  0%|          | 0/256 [00:00<?, ?it/s]"
          ],
          "name": "stderr"
        },
        {
          "output_type": "stream",
          "text": [
            "Epoch 297\n"
          ],
          "name": "stdout"
        },
        {
          "output_type": "stream",
          "text": [
            "100%|██████████| 256/256 [01:25<00:00,  2.98it/s]\n",
            "  0%|          | 0/256 [00:00<?, ?it/s]"
          ],
          "name": "stderr"
        },
        {
          "output_type": "stream",
          "text": [
            "Epoch 298\n"
          ],
          "name": "stdout"
        },
        {
          "output_type": "stream",
          "text": [
            "100%|██████████| 256/256 [01:25<00:00,  2.98it/s]\n",
            "  0%|          | 0/256 [00:00<?, ?it/s]"
          ],
          "name": "stderr"
        },
        {
          "output_type": "stream",
          "text": [
            "Epoch 299\n"
          ],
          "name": "stdout"
        },
        {
          "output_type": "stream",
          "text": [
            "100%|██████████| 256/256 [01:25<00:00,  2.99it/s]\n",
            "  0%|          | 0/256 [00:00<?, ?it/s]"
          ],
          "name": "stderr"
        },
        {
          "output_type": "stream",
          "text": [
            "Epoch 300\n"
          ],
          "name": "stdout"
        },
        {
          "output_type": "stream",
          "text": [
            "100%|██████████| 256/256 [01:25<00:00,  3.01it/s]\n",
            "  0%|          | 0/256 [00:00<?, ?it/s]"
          ],
          "name": "stderr"
        },
        {
          "output_type": "stream",
          "text": [
            "Epoch 301\n"
          ],
          "name": "stdout"
        },
        {
          "output_type": "stream",
          "text": [
            "100%|██████████| 256/256 [01:25<00:00,  2.98it/s]\n",
            "  0%|          | 0/256 [00:00<?, ?it/s]"
          ],
          "name": "stderr"
        },
        {
          "output_type": "stream",
          "text": [
            "Epoch 302\n"
          ],
          "name": "stdout"
        },
        {
          "output_type": "stream",
          "text": [
            "100%|██████████| 256/256 [01:25<00:00,  2.93it/s]\n",
            "  0%|          | 0/256 [00:00<?, ?it/s]"
          ],
          "name": "stderr"
        },
        {
          "output_type": "stream",
          "text": [
            "Epoch 303\n"
          ],
          "name": "stdout"
        },
        {
          "output_type": "stream",
          "text": [
            "100%|██████████| 256/256 [01:25<00:00,  3.00it/s]\n",
            "  0%|          | 0/256 [00:00<?, ?it/s]"
          ],
          "name": "stderr"
        },
        {
          "output_type": "stream",
          "text": [
            "Epoch 304\n"
          ],
          "name": "stdout"
        },
        {
          "output_type": "stream",
          "text": [
            "100%|██████████| 256/256 [01:25<00:00,  3.01it/s]\n",
            "  0%|          | 0/256 [00:00<?, ?it/s]"
          ],
          "name": "stderr"
        },
        {
          "output_type": "stream",
          "text": [
            "Epoch 305\n"
          ],
          "name": "stdout"
        },
        {
          "output_type": "stream",
          "text": [
            "100%|██████████| 256/256 [01:25<00:00,  2.96it/s]\n",
            "  0%|          | 0/256 [00:00<?, ?it/s]"
          ],
          "name": "stderr"
        },
        {
          "output_type": "stream",
          "text": [
            "Epoch 306\n"
          ],
          "name": "stdout"
        },
        {
          "output_type": "stream",
          "text": [
            "100%|██████████| 256/256 [01:25<00:00,  3.01it/s]\n",
            "  0%|          | 0/256 [00:00<?, ?it/s]"
          ],
          "name": "stderr"
        },
        {
          "output_type": "stream",
          "text": [
            "Epoch 307\n"
          ],
          "name": "stdout"
        },
        {
          "output_type": "stream",
          "text": [
            "100%|██████████| 256/256 [01:25<00:00,  3.02it/s]\n",
            "  0%|          | 0/256 [00:00<?, ?it/s]"
          ],
          "name": "stderr"
        },
        {
          "output_type": "stream",
          "text": [
            "Epoch 308\n"
          ],
          "name": "stdout"
        },
        {
          "output_type": "stream",
          "text": [
            "100%|██████████| 256/256 [01:25<00:00,  3.03it/s]\n",
            "  0%|          | 0/256 [00:00<?, ?it/s]"
          ],
          "name": "stderr"
        },
        {
          "output_type": "stream",
          "text": [
            "Epoch 309\n"
          ],
          "name": "stdout"
        },
        {
          "output_type": "stream",
          "text": [
            "100%|██████████| 256/256 [01:25<00:00,  2.99it/s]\n",
            "  0%|          | 0/256 [00:00<?, ?it/s]"
          ],
          "name": "stderr"
        },
        {
          "output_type": "stream",
          "text": [
            "Epoch 310\n"
          ],
          "name": "stdout"
        },
        {
          "output_type": "stream",
          "text": [
            "100%|██████████| 256/256 [01:25<00:00,  3.01it/s]\n",
            "  0%|          | 0/256 [00:00<?, ?it/s]"
          ],
          "name": "stderr"
        },
        {
          "output_type": "stream",
          "text": [
            "Epoch 311\n"
          ],
          "name": "stdout"
        },
        {
          "output_type": "stream",
          "text": [
            "100%|██████████| 256/256 [01:25<00:00,  2.97it/s]\n",
            "  0%|          | 0/256 [00:00<?, ?it/s]"
          ],
          "name": "stderr"
        },
        {
          "output_type": "stream",
          "text": [
            "Epoch 312\n"
          ],
          "name": "stdout"
        },
        {
          "output_type": "stream",
          "text": [
            "100%|██████████| 256/256 [01:25<00:00,  2.99it/s]\n",
            "  0%|          | 0/256 [00:00<?, ?it/s]"
          ],
          "name": "stderr"
        },
        {
          "output_type": "stream",
          "text": [
            "Epoch 313\n"
          ],
          "name": "stdout"
        },
        {
          "output_type": "stream",
          "text": [
            "100%|██████████| 256/256 [01:25<00:00,  2.97it/s]\n",
            "  0%|          | 0/256 [00:00<?, ?it/s]"
          ],
          "name": "stderr"
        },
        {
          "output_type": "stream",
          "text": [
            "Epoch 314\n"
          ],
          "name": "stdout"
        },
        {
          "output_type": "stream",
          "text": [
            "100%|██████████| 256/256 [01:25<00:00,  2.97it/s]\n",
            "  0%|          | 0/256 [00:00<?, ?it/s]"
          ],
          "name": "stderr"
        },
        {
          "output_type": "stream",
          "text": [
            "Epoch 315\n"
          ],
          "name": "stdout"
        },
        {
          "output_type": "stream",
          "text": [
            "100%|██████████| 256/256 [01:25<00:00,  3.03it/s]\n",
            "  0%|          | 0/256 [00:00<?, ?it/s]"
          ],
          "name": "stderr"
        },
        {
          "output_type": "stream",
          "text": [
            "Epoch 316\n"
          ],
          "name": "stdout"
        },
        {
          "output_type": "stream",
          "text": [
            "100%|██████████| 256/256 [01:25<00:00,  2.95it/s]\n",
            "  0%|          | 0/256 [00:00<?, ?it/s]"
          ],
          "name": "stderr"
        },
        {
          "output_type": "stream",
          "text": [
            "Epoch 317\n"
          ],
          "name": "stdout"
        },
        {
          "output_type": "stream",
          "text": [
            "100%|██████████| 256/256 [01:25<00:00,  2.99it/s]\n",
            "  0%|          | 0/256 [00:00<?, ?it/s]"
          ],
          "name": "stderr"
        },
        {
          "output_type": "stream",
          "text": [
            "Epoch 318\n"
          ],
          "name": "stdout"
        },
        {
          "output_type": "stream",
          "text": [
            "100%|██████████| 256/256 [01:25<00:00,  2.94it/s]\n",
            "  0%|          | 0/256 [00:00<?, ?it/s]"
          ],
          "name": "stderr"
        },
        {
          "output_type": "stream",
          "text": [
            "Epoch 319\n"
          ],
          "name": "stdout"
        },
        {
          "output_type": "stream",
          "text": [
            "100%|██████████| 256/256 [01:25<00:00,  3.02it/s]\n",
            "  0%|          | 0/256 [00:00<?, ?it/s]"
          ],
          "name": "stderr"
        },
        {
          "output_type": "stream",
          "text": [
            "Epoch 320\n"
          ],
          "name": "stdout"
        },
        {
          "output_type": "stream",
          "text": [
            "100%|██████████| 256/256 [01:25<00:00,  2.96it/s]\n",
            "Clipping input data to the valid range for imshow with RGB data ([0..1] for floats or [0..255] for integers).\n",
            "Clipping input data to the valid range for imshow with RGB data ([0..1] for floats or [0..255] for integers).\n",
            "Clipping input data to the valid range for imshow with RGB data ([0..1] for floats or [0..255] for integers).\n",
            "Clipping input data to the valid range for imshow with RGB data ([0..1] for floats or [0..255] for integers).\n",
            "Clipping input data to the valid range for imshow with RGB data ([0..1] for floats or [0..255] for integers).\n",
            "Clipping input data to the valid range for imshow with RGB data ([0..1] for floats or [0..255] for integers).\n",
            "Clipping input data to the valid range for imshow with RGB data ([0..1] for floats or [0..255] for integers).\n",
            "Clipping input data to the valid range for imshow with RGB data ([0..1] for floats or [0..255] for integers).\n",
            "Clipping input data to the valid range for imshow with RGB data ([0..1] for floats or [0..255] for integers).\n",
            "Clipping input data to the valid range for imshow with RGB data ([0..1] for floats or [0..255] for integers).\n",
            "Clipping input data to the valid range for imshow with RGB data ([0..1] for floats or [0..255] for integers).\n",
            "Clipping input data to the valid range for imshow with RGB data ([0..1] for floats or [0..255] for integers).\n",
            "Clipping input data to the valid range for imshow with RGB data ([0..1] for floats or [0..255] for integers).\n",
            "Clipping input data to the valid range for imshow with RGB data ([0..1] for floats or [0..255] for integers).\n",
            "Clipping input data to the valid range for imshow with RGB data ([0..1] for floats or [0..255] for integers).\n",
            "Clipping input data to the valid range for imshow with RGB data ([0..1] for floats or [0..255] for integers).\n",
            "Clipping input data to the valid range for imshow with RGB data ([0..1] for floats or [0..255] for integers).\n",
            "Clipping input data to the valid range for imshow with RGB data ([0..1] for floats or [0..255] for integers).\n",
            "Clipping input data to the valid range for imshow with RGB data ([0..1] for floats or [0..255] for integers).\n",
            "Clipping input data to the valid range for imshow with RGB data ([0..1] for floats or [0..255] for integers).\n",
            "Clipping input data to the valid range for imshow with RGB data ([0..1] for floats or [0..255] for integers).\n",
            "Clipping input data to the valid range for imshow with RGB data ([0..1] for floats or [0..255] for integers).\n",
            "Clipping input data to the valid range for imshow with RGB data ([0..1] for floats or [0..255] for integers).\n",
            "Clipping input data to the valid range for imshow with RGB data ([0..1] for floats or [0..255] for integers).\n",
            "Clipping input data to the valid range for imshow with RGB data ([0..1] for floats or [0..255] for integers).\n",
            "  0%|          | 0/256 [00:00<?, ?it/s]"
          ],
          "name": "stderr"
        },
        {
          "output_type": "stream",
          "text": [
            "Epoch 321\n"
          ],
          "name": "stdout"
        },
        {
          "output_type": "stream",
          "text": [
            "100%|██████████| 256/256 [01:25<00:00,  3.01it/s]\n",
            "  0%|          | 0/256 [00:00<?, ?it/s]"
          ],
          "name": "stderr"
        },
        {
          "output_type": "stream",
          "text": [
            "Epoch 322\n"
          ],
          "name": "stdout"
        },
        {
          "output_type": "stream",
          "text": [
            "100%|██████████| 256/256 [01:25<00:00,  3.01it/s]\n",
            "  0%|          | 0/256 [00:00<?, ?it/s]"
          ],
          "name": "stderr"
        },
        {
          "output_type": "stream",
          "text": [
            "Epoch 323\n"
          ],
          "name": "stdout"
        },
        {
          "output_type": "stream",
          "text": [
            "100%|██████████| 256/256 [01:25<00:00,  3.01it/s]\n",
            "  0%|          | 0/256 [00:00<?, ?it/s]"
          ],
          "name": "stderr"
        },
        {
          "output_type": "stream",
          "text": [
            "Epoch 324\n"
          ],
          "name": "stdout"
        },
        {
          "output_type": "stream",
          "text": [
            "100%|██████████| 256/256 [01:25<00:00,  2.97it/s]\n",
            "  0%|          | 0/256 [00:00<?, ?it/s]"
          ],
          "name": "stderr"
        },
        {
          "output_type": "stream",
          "text": [
            "Epoch 325\n"
          ],
          "name": "stdout"
        },
        {
          "output_type": "stream",
          "text": [
            "100%|██████████| 256/256 [01:25<00:00,  2.96it/s]\n",
            "  0%|          | 0/256 [00:00<?, ?it/s]"
          ],
          "name": "stderr"
        },
        {
          "output_type": "stream",
          "text": [
            "Epoch 326\n"
          ],
          "name": "stdout"
        },
        {
          "output_type": "stream",
          "text": [
            "100%|██████████| 256/256 [01:25<00:00,  3.01it/s]\n",
            "  0%|          | 0/256 [00:00<?, ?it/s]"
          ],
          "name": "stderr"
        },
        {
          "output_type": "stream",
          "text": [
            "Epoch 327\n"
          ],
          "name": "stdout"
        },
        {
          "output_type": "stream",
          "text": [
            "100%|██████████| 256/256 [01:24<00:00,  3.01it/s]\n",
            "  0%|          | 0/256 [00:00<?, ?it/s]"
          ],
          "name": "stderr"
        },
        {
          "output_type": "stream",
          "text": [
            "Epoch 328\n"
          ],
          "name": "stdout"
        },
        {
          "output_type": "stream",
          "text": [
            "100%|██████████| 256/256 [01:25<00:00,  2.96it/s]\n",
            "  0%|          | 0/256 [00:00<?, ?it/s]"
          ],
          "name": "stderr"
        },
        {
          "output_type": "stream",
          "text": [
            "Epoch 329\n"
          ],
          "name": "stdout"
        },
        {
          "output_type": "stream",
          "text": [
            "100%|██████████| 256/256 [01:25<00:00,  3.02it/s]\n",
            "  0%|          | 0/256 [00:00<?, ?it/s]"
          ],
          "name": "stderr"
        },
        {
          "output_type": "stream",
          "text": [
            "Epoch 330\n"
          ],
          "name": "stdout"
        },
        {
          "output_type": "stream",
          "text": [
            "100%|██████████| 256/256 [01:25<00:00,  3.01it/s]\n",
            "  0%|          | 0/256 [00:00<?, ?it/s]"
          ],
          "name": "stderr"
        },
        {
          "output_type": "stream",
          "text": [
            "Epoch 331\n"
          ],
          "name": "stdout"
        },
        {
          "output_type": "stream",
          "text": [
            "100%|██████████| 256/256 [01:25<00:00,  2.96it/s]\n",
            "  0%|          | 0/256 [00:00<?, ?it/s]"
          ],
          "name": "stderr"
        },
        {
          "output_type": "stream",
          "text": [
            "Epoch 332\n"
          ],
          "name": "stdout"
        },
        {
          "output_type": "stream",
          "text": [
            "100%|██████████| 256/256 [01:24<00:00,  3.03it/s]\n",
            "  0%|          | 0/256 [00:00<?, ?it/s]"
          ],
          "name": "stderr"
        },
        {
          "output_type": "stream",
          "text": [
            "Epoch 333\n"
          ],
          "name": "stdout"
        },
        {
          "output_type": "stream",
          "text": [
            "100%|██████████| 256/256 [01:25<00:00,  3.04it/s]\n",
            "  0%|          | 0/256 [00:00<?, ?it/s]"
          ],
          "name": "stderr"
        },
        {
          "output_type": "stream",
          "text": [
            "Epoch 334\n"
          ],
          "name": "stdout"
        },
        {
          "output_type": "stream",
          "text": [
            "100%|██████████| 256/256 [01:24<00:00,  3.02it/s]\n",
            "  0%|          | 0/256 [00:00<?, ?it/s]"
          ],
          "name": "stderr"
        },
        {
          "output_type": "stream",
          "text": [
            "Epoch 335\n"
          ],
          "name": "stdout"
        },
        {
          "output_type": "stream",
          "text": [
            "100%|██████████| 256/256 [01:25<00:00,  3.02it/s]\n",
            "  0%|          | 0/256 [00:00<?, ?it/s]"
          ],
          "name": "stderr"
        },
        {
          "output_type": "stream",
          "text": [
            "Epoch 336\n"
          ],
          "name": "stdout"
        },
        {
          "output_type": "stream",
          "text": [
            "100%|██████████| 256/256 [01:25<00:00,  2.97it/s]\n",
            "  0%|          | 0/256 [00:00<?, ?it/s]"
          ],
          "name": "stderr"
        },
        {
          "output_type": "stream",
          "text": [
            "Epoch 337\n"
          ],
          "name": "stdout"
        },
        {
          "output_type": "stream",
          "text": [
            "100%|██████████| 256/256 [01:24<00:00,  3.04it/s]\n",
            "  0%|          | 0/256 [00:00<?, ?it/s]"
          ],
          "name": "stderr"
        },
        {
          "output_type": "stream",
          "text": [
            "Epoch 338\n"
          ],
          "name": "stdout"
        },
        {
          "output_type": "stream",
          "text": [
            "100%|██████████| 256/256 [01:25<00:00,  3.04it/s]\n",
            "  0%|          | 0/256 [00:00<?, ?it/s]"
          ],
          "name": "stderr"
        },
        {
          "output_type": "stream",
          "text": [
            "Epoch 339\n"
          ],
          "name": "stdout"
        },
        {
          "output_type": "stream",
          "text": [
            "100%|██████████| 256/256 [01:25<00:00,  3.01it/s]\n",
            "  0%|          | 0/256 [00:00<?, ?it/s]"
          ],
          "name": "stderr"
        },
        {
          "output_type": "stream",
          "text": [
            "Epoch 340\n"
          ],
          "name": "stdout"
        },
        {
          "output_type": "stream",
          "text": [
            "100%|██████████| 256/256 [01:25<00:00,  3.03it/s]\n",
            "  0%|          | 0/256 [00:00<?, ?it/s]"
          ],
          "name": "stderr"
        },
        {
          "output_type": "stream",
          "text": [
            "Epoch 341\n"
          ],
          "name": "stdout"
        },
        {
          "output_type": "stream",
          "text": [
            "100%|██████████| 256/256 [01:25<00:00,  3.02it/s]\n",
            "  0%|          | 0/256 [00:00<?, ?it/s]"
          ],
          "name": "stderr"
        },
        {
          "output_type": "stream",
          "text": [
            "Epoch 342\n"
          ],
          "name": "stdout"
        },
        {
          "output_type": "stream",
          "text": [
            "100%|██████████| 256/256 [01:25<00:00,  3.01it/s]\n",
            "  0%|          | 0/256 [00:00<?, ?it/s]"
          ],
          "name": "stderr"
        },
        {
          "output_type": "stream",
          "text": [
            "Epoch 343\n"
          ],
          "name": "stdout"
        },
        {
          "output_type": "stream",
          "text": [
            "100%|██████████| 256/256 [01:25<00:00,  3.00it/s]\n",
            "  0%|          | 0/256 [00:00<?, ?it/s]"
          ],
          "name": "stderr"
        },
        {
          "output_type": "stream",
          "text": [
            "Epoch 344\n"
          ],
          "name": "stdout"
        },
        {
          "output_type": "stream",
          "text": [
            "100%|██████████| 256/256 [01:24<00:00,  2.99it/s]\n",
            "  0%|          | 0/256 [00:00<?, ?it/s]"
          ],
          "name": "stderr"
        },
        {
          "output_type": "stream",
          "text": [
            "Epoch 345\n"
          ],
          "name": "stdout"
        },
        {
          "output_type": "stream",
          "text": [
            "100%|██████████| 256/256 [01:25<00:00,  3.02it/s]\n",
            "  0%|          | 0/256 [00:00<?, ?it/s]"
          ],
          "name": "stderr"
        },
        {
          "output_type": "stream",
          "text": [
            "Epoch 346\n"
          ],
          "name": "stdout"
        },
        {
          "output_type": "stream",
          "text": [
            "100%|██████████| 256/256 [01:25<00:00,  3.00it/s]\n",
            "  0%|          | 0/256 [00:00<?, ?it/s]"
          ],
          "name": "stderr"
        },
        {
          "output_type": "stream",
          "text": [
            "Epoch 347\n"
          ],
          "name": "stdout"
        },
        {
          "output_type": "stream",
          "text": [
            "100%|██████████| 256/256 [01:24<00:00,  3.02it/s]\n",
            "  0%|          | 0/256 [00:00<?, ?it/s]"
          ],
          "name": "stderr"
        },
        {
          "output_type": "stream",
          "text": [
            "Epoch 348\n"
          ],
          "name": "stdout"
        },
        {
          "output_type": "stream",
          "text": [
            "100%|██████████| 256/256 [01:24<00:00,  2.99it/s]\n",
            "  0%|          | 0/256 [00:00<?, ?it/s]"
          ],
          "name": "stderr"
        },
        {
          "output_type": "stream",
          "text": [
            "Epoch 349\n"
          ],
          "name": "stdout"
        },
        {
          "output_type": "stream",
          "text": [
            "100%|██████████| 256/256 [01:24<00:00,  2.96it/s]\n",
            "  0%|          | 0/256 [00:00<?, ?it/s]"
          ],
          "name": "stderr"
        },
        {
          "output_type": "stream",
          "text": [
            "Epoch 350\n"
          ],
          "name": "stdout"
        },
        {
          "output_type": "stream",
          "text": [
            "100%|██████████| 256/256 [01:25<00:00,  3.01it/s]\n",
            "  0%|          | 0/256 [00:00<?, ?it/s]"
          ],
          "name": "stderr"
        },
        {
          "output_type": "stream",
          "text": [
            "Epoch 351\n"
          ],
          "name": "stdout"
        },
        {
          "output_type": "stream",
          "text": [
            "100%|██████████| 256/256 [01:24<00:00,  3.04it/s]\n",
            "  0%|          | 0/256 [00:00<?, ?it/s]"
          ],
          "name": "stderr"
        },
        {
          "output_type": "stream",
          "text": [
            "Epoch 352\n"
          ],
          "name": "stdout"
        },
        {
          "output_type": "stream",
          "text": [
            "100%|██████████| 256/256 [01:24<00:00,  3.00it/s]\n",
            "  0%|          | 0/256 [00:00<?, ?it/s]"
          ],
          "name": "stderr"
        },
        {
          "output_type": "stream",
          "text": [
            "Epoch 353\n"
          ],
          "name": "stdout"
        },
        {
          "output_type": "stream",
          "text": [
            "100%|██████████| 256/256 [01:25<00:00,  3.04it/s]\n",
            "  0%|          | 0/256 [00:00<?, ?it/s]"
          ],
          "name": "stderr"
        },
        {
          "output_type": "stream",
          "text": [
            "Epoch 354\n"
          ],
          "name": "stdout"
        },
        {
          "output_type": "stream",
          "text": [
            "100%|██████████| 256/256 [01:25<00:00,  3.00it/s]\n",
            "  0%|          | 0/256 [00:00<?, ?it/s]"
          ],
          "name": "stderr"
        },
        {
          "output_type": "stream",
          "text": [
            "Epoch 355\n"
          ],
          "name": "stdout"
        },
        {
          "output_type": "stream",
          "text": [
            "100%|██████████| 256/256 [01:24<00:00,  3.03it/s]\n",
            "  0%|          | 0/256 [00:00<?, ?it/s]"
          ],
          "name": "stderr"
        },
        {
          "output_type": "stream",
          "text": [
            "Epoch 356\n"
          ],
          "name": "stdout"
        },
        {
          "output_type": "stream",
          "text": [
            "100%|██████████| 256/256 [01:24<00:00,  3.02it/s]\n",
            "  0%|          | 0/256 [00:00<?, ?it/s]"
          ],
          "name": "stderr"
        },
        {
          "output_type": "stream",
          "text": [
            "Epoch 357\n"
          ],
          "name": "stdout"
        },
        {
          "output_type": "stream",
          "text": [
            "100%|██████████| 256/256 [01:25<00:00,  2.98it/s]\n",
            "  0%|          | 0/256 [00:00<?, ?it/s]"
          ],
          "name": "stderr"
        },
        {
          "output_type": "stream",
          "text": [
            "Epoch 358\n"
          ],
          "name": "stdout"
        },
        {
          "output_type": "stream",
          "text": [
            "100%|██████████| 256/256 [01:24<00:00,  3.03it/s]\n",
            "  0%|          | 0/256 [00:00<?, ?it/s]"
          ],
          "name": "stderr"
        },
        {
          "output_type": "stream",
          "text": [
            "Epoch 359\n"
          ],
          "name": "stdout"
        },
        {
          "output_type": "stream",
          "text": [
            "100%|██████████| 256/256 [01:25<00:00,  3.03it/s]\n",
            "  0%|          | 0/256 [00:00<?, ?it/s]"
          ],
          "name": "stderr"
        },
        {
          "output_type": "stream",
          "text": [
            "Epoch 360\n"
          ],
          "name": "stdout"
        },
        {
          "output_type": "stream",
          "text": [
            "100%|██████████| 256/256 [01:24<00:00,  3.06it/s]\n",
            "Clipping input data to the valid range for imshow with RGB data ([0..1] for floats or [0..255] for integers).\n",
            "Clipping input data to the valid range for imshow with RGB data ([0..1] for floats or [0..255] for integers).\n",
            "Clipping input data to the valid range for imshow with RGB data ([0..1] for floats or [0..255] for integers).\n",
            "Clipping input data to the valid range for imshow with RGB data ([0..1] for floats or [0..255] for integers).\n",
            "Clipping input data to the valid range for imshow with RGB data ([0..1] for floats or [0..255] for integers).\n",
            "Clipping input data to the valid range for imshow with RGB data ([0..1] for floats or [0..255] for integers).\n",
            "Clipping input data to the valid range for imshow with RGB data ([0..1] for floats or [0..255] for integers).\n",
            "Clipping input data to the valid range for imshow with RGB data ([0..1] for floats or [0..255] for integers).\n",
            "Clipping input data to the valid range for imshow with RGB data ([0..1] for floats or [0..255] for integers).\n",
            "Clipping input data to the valid range for imshow with RGB data ([0..1] for floats or [0..255] for integers).\n",
            "Clipping input data to the valid range for imshow with RGB data ([0..1] for floats or [0..255] for integers).\n",
            "Clipping input data to the valid range for imshow with RGB data ([0..1] for floats or [0..255] for integers).\n",
            "Clipping input data to the valid range for imshow with RGB data ([0..1] for floats or [0..255] for integers).\n",
            "Clipping input data to the valid range for imshow with RGB data ([0..1] for floats or [0..255] for integers).\n",
            "Clipping input data to the valid range for imshow with RGB data ([0..1] for floats or [0..255] for integers).\n",
            "Clipping input data to the valid range for imshow with RGB data ([0..1] for floats or [0..255] for integers).\n",
            "Clipping input data to the valid range for imshow with RGB data ([0..1] for floats or [0..255] for integers).\n",
            "Clipping input data to the valid range for imshow with RGB data ([0..1] for floats or [0..255] for integers).\n",
            "Clipping input data to the valid range for imshow with RGB data ([0..1] for floats or [0..255] for integers).\n",
            "Clipping input data to the valid range for imshow with RGB data ([0..1] for floats or [0..255] for integers).\n",
            "Clipping input data to the valid range for imshow with RGB data ([0..1] for floats or [0..255] for integers).\n",
            "Clipping input data to the valid range for imshow with RGB data ([0..1] for floats or [0..255] for integers).\n",
            "Clipping input data to the valid range for imshow with RGB data ([0..1] for floats or [0..255] for integers).\n",
            "Clipping input data to the valid range for imshow with RGB data ([0..1] for floats or [0..255] for integers).\n",
            "Clipping input data to the valid range for imshow with RGB data ([0..1] for floats or [0..255] for integers).\n",
            "  0%|          | 0/256 [00:00<?, ?it/s]"
          ],
          "name": "stderr"
        },
        {
          "output_type": "stream",
          "text": [
            "Epoch 361\n"
          ],
          "name": "stdout"
        },
        {
          "output_type": "stream",
          "text": [
            "100%|██████████| 256/256 [01:26<00:00,  2.98it/s]\n",
            "  0%|          | 0/256 [00:00<?, ?it/s]"
          ],
          "name": "stderr"
        },
        {
          "output_type": "stream",
          "text": [
            "Epoch 362\n"
          ],
          "name": "stdout"
        },
        {
          "output_type": "stream",
          "text": [
            "100%|██████████| 256/256 [01:25<00:00,  3.00it/s]\n",
            "  0%|          | 0/256 [00:00<?, ?it/s]"
          ],
          "name": "stderr"
        },
        {
          "output_type": "stream",
          "text": [
            "Epoch 363\n"
          ],
          "name": "stdout"
        },
        {
          "output_type": "stream",
          "text": [
            "100%|██████████| 256/256 [01:25<00:00,  3.04it/s]\n",
            "  0%|          | 0/256 [00:00<?, ?it/s]"
          ],
          "name": "stderr"
        },
        {
          "output_type": "stream",
          "text": [
            "Epoch 364\n"
          ],
          "name": "stdout"
        },
        {
          "output_type": "stream",
          "text": [
            "100%|██████████| 256/256 [01:25<00:00,  3.03it/s]\n",
            "  0%|          | 0/256 [00:00<?, ?it/s]"
          ],
          "name": "stderr"
        },
        {
          "output_type": "stream",
          "text": [
            "Epoch 365\n"
          ],
          "name": "stdout"
        },
        {
          "output_type": "stream",
          "text": [
            "100%|██████████| 256/256 [01:25<00:00,  3.01it/s]\n",
            "  0%|          | 0/256 [00:00<?, ?it/s]"
          ],
          "name": "stderr"
        },
        {
          "output_type": "stream",
          "text": [
            "Epoch 366\n"
          ],
          "name": "stdout"
        },
        {
          "output_type": "stream",
          "text": [
            "100%|██████████| 256/256 [01:25<00:00,  2.96it/s]\n",
            "  0%|          | 0/256 [00:00<?, ?it/s]"
          ],
          "name": "stderr"
        },
        {
          "output_type": "stream",
          "text": [
            "Epoch 367\n"
          ],
          "name": "stdout"
        },
        {
          "output_type": "stream",
          "text": [
            "100%|██████████| 256/256 [01:25<00:00,  3.02it/s]\n",
            "  0%|          | 0/256 [00:00<?, ?it/s]"
          ],
          "name": "stderr"
        },
        {
          "output_type": "stream",
          "text": [
            "Epoch 368\n"
          ],
          "name": "stdout"
        },
        {
          "output_type": "stream",
          "text": [
            "100%|██████████| 256/256 [01:24<00:00,  3.04it/s]\n",
            "  0%|          | 0/256 [00:00<?, ?it/s]"
          ],
          "name": "stderr"
        },
        {
          "output_type": "stream",
          "text": [
            "Epoch 369\n"
          ],
          "name": "stdout"
        },
        {
          "output_type": "stream",
          "text": [
            "100%|██████████| 256/256 [01:24<00:00,  3.05it/s]\n",
            "  0%|          | 0/256 [00:00<?, ?it/s]"
          ],
          "name": "stderr"
        },
        {
          "output_type": "stream",
          "text": [
            "Epoch 370\n"
          ],
          "name": "stdout"
        },
        {
          "output_type": "stream",
          "text": [
            "100%|██████████| 256/256 [01:24<00:00,  2.98it/s]\n",
            "  0%|          | 0/256 [00:00<?, ?it/s]"
          ],
          "name": "stderr"
        },
        {
          "output_type": "stream",
          "text": [
            "Epoch 371\n"
          ],
          "name": "stdout"
        },
        {
          "output_type": "stream",
          "text": [
            "100%|██████████| 256/256 [01:25<00:00,  3.02it/s]\n",
            "  0%|          | 0/256 [00:00<?, ?it/s]"
          ],
          "name": "stderr"
        },
        {
          "output_type": "stream",
          "text": [
            "Epoch 372\n"
          ],
          "name": "stdout"
        },
        {
          "output_type": "stream",
          "text": [
            "100%|██████████| 256/256 [01:25<00:00,  3.05it/s]\n",
            "  0%|          | 0/256 [00:00<?, ?it/s]"
          ],
          "name": "stderr"
        },
        {
          "output_type": "stream",
          "text": [
            "Epoch 373\n"
          ],
          "name": "stdout"
        },
        {
          "output_type": "stream",
          "text": [
            "100%|██████████| 256/256 [01:25<00:00,  3.05it/s]\n",
            "  0%|          | 0/256 [00:00<?, ?it/s]"
          ],
          "name": "stderr"
        },
        {
          "output_type": "stream",
          "text": [
            "Epoch 374\n"
          ],
          "name": "stdout"
        },
        {
          "output_type": "stream",
          "text": [
            "100%|██████████| 256/256 [01:24<00:00,  3.00it/s]\n",
            "  0%|          | 0/256 [00:00<?, ?it/s]"
          ],
          "name": "stderr"
        },
        {
          "output_type": "stream",
          "text": [
            "Epoch 375\n"
          ],
          "name": "stdout"
        },
        {
          "output_type": "stream",
          "text": [
            "100%|██████████| 256/256 [01:24<00:00,  2.96it/s]\n",
            "  0%|          | 0/256 [00:00<?, ?it/s]"
          ],
          "name": "stderr"
        },
        {
          "output_type": "stream",
          "text": [
            "Epoch 376\n"
          ],
          "name": "stdout"
        },
        {
          "output_type": "stream",
          "text": [
            "100%|██████████| 256/256 [01:24<00:00,  3.02it/s]\n",
            "  0%|          | 0/256 [00:00<?, ?it/s]"
          ],
          "name": "stderr"
        },
        {
          "output_type": "stream",
          "text": [
            "Epoch 377\n"
          ],
          "name": "stdout"
        },
        {
          "output_type": "stream",
          "text": [
            "100%|██████████| 256/256 [01:24<00:00,  3.02it/s]\n",
            "  0%|          | 0/256 [00:00<?, ?it/s]"
          ],
          "name": "stderr"
        },
        {
          "output_type": "stream",
          "text": [
            "Epoch 378\n"
          ],
          "name": "stdout"
        },
        {
          "output_type": "stream",
          "text": [
            "100%|██████████| 256/256 [01:24<00:00,  3.05it/s]\n",
            "  0%|          | 0/256 [00:00<?, ?it/s]"
          ],
          "name": "stderr"
        },
        {
          "output_type": "stream",
          "text": [
            "Epoch 379\n"
          ],
          "name": "stdout"
        },
        {
          "output_type": "stream",
          "text": [
            "100%|██████████| 256/256 [01:24<00:00,  2.98it/s]\n",
            "  0%|          | 0/256 [00:00<?, ?it/s]"
          ],
          "name": "stderr"
        },
        {
          "output_type": "stream",
          "text": [
            "Epoch 380\n"
          ],
          "name": "stdout"
        },
        {
          "output_type": "stream",
          "text": [
            "100%|██████████| 256/256 [01:24<00:00,  3.05it/s]\n",
            "  0%|          | 0/256 [00:00<?, ?it/s]"
          ],
          "name": "stderr"
        },
        {
          "output_type": "stream",
          "text": [
            "Epoch 381\n"
          ],
          "name": "stdout"
        },
        {
          "output_type": "stream",
          "text": [
            "100%|██████████| 256/256 [01:24<00:00,  3.05it/s]\n",
            "  0%|          | 0/256 [00:00<?, ?it/s]"
          ],
          "name": "stderr"
        },
        {
          "output_type": "stream",
          "text": [
            "Epoch 382\n"
          ],
          "name": "stdout"
        },
        {
          "output_type": "stream",
          "text": [
            "100%|██████████| 256/256 [01:25<00:00,  3.03it/s]\n",
            "  0%|          | 0/256 [00:00<?, ?it/s]"
          ],
          "name": "stderr"
        },
        {
          "output_type": "stream",
          "text": [
            "Epoch 383\n"
          ],
          "name": "stdout"
        },
        {
          "output_type": "stream",
          "text": [
            "100%|██████████| 256/256 [01:24<00:00,  3.03it/s]\n",
            "  0%|          | 0/256 [00:00<?, ?it/s]"
          ],
          "name": "stderr"
        },
        {
          "output_type": "stream",
          "text": [
            "Epoch 384\n"
          ],
          "name": "stdout"
        },
        {
          "output_type": "stream",
          "text": [
            "100%|██████████| 256/256 [01:25<00:00,  2.97it/s]\n",
            "  0%|          | 0/256 [00:00<?, ?it/s]"
          ],
          "name": "stderr"
        },
        {
          "output_type": "stream",
          "text": [
            "Epoch 385\n"
          ],
          "name": "stdout"
        },
        {
          "output_type": "stream",
          "text": [
            "100%|██████████| 256/256 [01:25<00:00,  2.93it/s]\n",
            "  0%|          | 0/256 [00:00<?, ?it/s]"
          ],
          "name": "stderr"
        },
        {
          "output_type": "stream",
          "text": [
            "Epoch 386\n"
          ],
          "name": "stdout"
        },
        {
          "output_type": "stream",
          "text": [
            "100%|██████████| 256/256 [01:24<00:00,  3.04it/s]\n",
            "  0%|          | 0/256 [00:00<?, ?it/s]"
          ],
          "name": "stderr"
        },
        {
          "output_type": "stream",
          "text": [
            "Epoch 387\n"
          ],
          "name": "stdout"
        },
        {
          "output_type": "stream",
          "text": [
            "100%|██████████| 256/256 [01:25<00:00,  2.98it/s]\n",
            "  0%|          | 0/256 [00:00<?, ?it/s]"
          ],
          "name": "stderr"
        },
        {
          "output_type": "stream",
          "text": [
            "Epoch 388\n"
          ],
          "name": "stdout"
        },
        {
          "output_type": "stream",
          "text": [
            "100%|██████████| 256/256 [01:25<00:00,  2.96it/s]\n",
            "  0%|          | 0/256 [00:00<?, ?it/s]"
          ],
          "name": "stderr"
        },
        {
          "output_type": "stream",
          "text": [
            "Epoch 389\n"
          ],
          "name": "stdout"
        },
        {
          "output_type": "stream",
          "text": [
            "100%|██████████| 256/256 [01:24<00:00,  3.02it/s]\n",
            "  0%|          | 0/256 [00:00<?, ?it/s]"
          ],
          "name": "stderr"
        },
        {
          "output_type": "stream",
          "text": [
            "Epoch 390\n"
          ],
          "name": "stdout"
        },
        {
          "output_type": "stream",
          "text": [
            "100%|██████████| 256/256 [01:25<00:00,  2.94it/s]\n",
            "  0%|          | 0/256 [00:00<?, ?it/s]"
          ],
          "name": "stderr"
        },
        {
          "output_type": "stream",
          "text": [
            "Epoch 391\n"
          ],
          "name": "stdout"
        },
        {
          "output_type": "stream",
          "text": [
            "100%|██████████| 256/256 [01:25<00:00,  3.04it/s]\n",
            "  0%|          | 0/256 [00:00<?, ?it/s]"
          ],
          "name": "stderr"
        },
        {
          "output_type": "stream",
          "text": [
            "Epoch 392\n"
          ],
          "name": "stdout"
        },
        {
          "output_type": "stream",
          "text": [
            "100%|██████████| 256/256 [01:25<00:00,  3.04it/s]\n",
            "  0%|          | 0/256 [00:00<?, ?it/s]"
          ],
          "name": "stderr"
        },
        {
          "output_type": "stream",
          "text": [
            "Epoch 393\n"
          ],
          "name": "stdout"
        },
        {
          "output_type": "stream",
          "text": [
            "100%|██████████| 256/256 [01:24<00:00,  3.03it/s]\n",
            "  0%|          | 0/256 [00:00<?, ?it/s]"
          ],
          "name": "stderr"
        },
        {
          "output_type": "stream",
          "text": [
            "Epoch 394\n"
          ],
          "name": "stdout"
        },
        {
          "output_type": "stream",
          "text": [
            "100%|██████████| 256/256 [01:24<00:00,  3.02it/s]\n",
            "  0%|          | 0/256 [00:00<?, ?it/s]"
          ],
          "name": "stderr"
        },
        {
          "output_type": "stream",
          "text": [
            "Epoch 395\n"
          ],
          "name": "stdout"
        },
        {
          "output_type": "stream",
          "text": [
            "100%|██████████| 256/256 [01:24<00:00,  2.97it/s]\n",
            "  0%|          | 0/256 [00:00<?, ?it/s]"
          ],
          "name": "stderr"
        },
        {
          "output_type": "stream",
          "text": [
            "Epoch 396\n"
          ],
          "name": "stdout"
        },
        {
          "output_type": "stream",
          "text": [
            "100%|██████████| 256/256 [01:25<00:00,  2.98it/s]\n",
            "  0%|          | 0/256 [00:00<?, ?it/s]"
          ],
          "name": "stderr"
        },
        {
          "output_type": "stream",
          "text": [
            "Epoch 397\n"
          ],
          "name": "stdout"
        },
        {
          "output_type": "stream",
          "text": [
            "100%|██████████| 256/256 [01:25<00:00,  3.03it/s]\n",
            "  0%|          | 0/256 [00:00<?, ?it/s]"
          ],
          "name": "stderr"
        },
        {
          "output_type": "stream",
          "text": [
            "Epoch 398\n"
          ],
          "name": "stdout"
        },
        {
          "output_type": "stream",
          "text": [
            "100%|██████████| 256/256 [01:24<00:00,  3.04it/s]\n",
            "  0%|          | 0/256 [00:00<?, ?it/s]"
          ],
          "name": "stderr"
        },
        {
          "output_type": "stream",
          "text": [
            "Epoch 399\n"
          ],
          "name": "stdout"
        },
        {
          "output_type": "stream",
          "text": [
            "100%|██████████| 256/256 [01:25<00:00,  3.00it/s]\n",
            "  0%|          | 0/256 [00:00<?, ?it/s]"
          ],
          "name": "stderr"
        },
        {
          "output_type": "stream",
          "text": [
            "Epoch 400\n"
          ],
          "name": "stdout"
        },
        {
          "output_type": "stream",
          "text": [
            "100%|██████████| 256/256 [01:24<00:00,  3.04it/s]\n",
            "Clipping input data to the valid range for imshow with RGB data ([0..1] for floats or [0..255] for integers).\n",
            "Clipping input data to the valid range for imshow with RGB data ([0..1] for floats or [0..255] for integers).\n",
            "Clipping input data to the valid range for imshow with RGB data ([0..1] for floats or [0..255] for integers).\n",
            "Clipping input data to the valid range for imshow with RGB data ([0..1] for floats or [0..255] for integers).\n",
            "Clipping input data to the valid range for imshow with RGB data ([0..1] for floats or [0..255] for integers).\n",
            "Clipping input data to the valid range for imshow with RGB data ([0..1] for floats or [0..255] for integers).\n",
            "Clipping input data to the valid range for imshow with RGB data ([0..1] for floats or [0..255] for integers).\n",
            "Clipping input data to the valid range for imshow with RGB data ([0..1] for floats or [0..255] for integers).\n",
            "Clipping input data to the valid range for imshow with RGB data ([0..1] for floats or [0..255] for integers).\n",
            "Clipping input data to the valid range for imshow with RGB data ([0..1] for floats or [0..255] for integers).\n",
            "Clipping input data to the valid range for imshow with RGB data ([0..1] for floats or [0..255] for integers).\n",
            "Clipping input data to the valid range for imshow with RGB data ([0..1] for floats or [0..255] for integers).\n",
            "Clipping input data to the valid range for imshow with RGB data ([0..1] for floats or [0..255] for integers).\n",
            "Clipping input data to the valid range for imshow with RGB data ([0..1] for floats or [0..255] for integers).\n",
            "Clipping input data to the valid range for imshow with RGB data ([0..1] for floats or [0..255] for integers).\n",
            "Clipping input data to the valid range for imshow with RGB data ([0..1] for floats or [0..255] for integers).\n",
            "Clipping input data to the valid range for imshow with RGB data ([0..1] for floats or [0..255] for integers).\n",
            "Clipping input data to the valid range for imshow with RGB data ([0..1] for floats or [0..255] for integers).\n",
            "Clipping input data to the valid range for imshow with RGB data ([0..1] for floats or [0..255] for integers).\n",
            "Clipping input data to the valid range for imshow with RGB data ([0..1] for floats or [0..255] for integers).\n",
            "Clipping input data to the valid range for imshow with RGB data ([0..1] for floats or [0..255] for integers).\n",
            "Clipping input data to the valid range for imshow with RGB data ([0..1] for floats or [0..255] for integers).\n",
            "Clipping input data to the valid range for imshow with RGB data ([0..1] for floats or [0..255] for integers).\n",
            "Clipping input data to the valid range for imshow with RGB data ([0..1] for floats or [0..255] for integers).\n",
            "Clipping input data to the valid range for imshow with RGB data ([0..1] for floats or [0..255] for integers).\n",
            "  0%|          | 0/256 [00:00<?, ?it/s]"
          ],
          "name": "stderr"
        },
        {
          "output_type": "stream",
          "text": [
            "Epoch 401\n"
          ],
          "name": "stdout"
        },
        {
          "output_type": "stream",
          "text": [
            "100%|██████████| 256/256 [01:25<00:00,  3.00it/s]\n",
            "  0%|          | 0/256 [00:00<?, ?it/s]"
          ],
          "name": "stderr"
        },
        {
          "output_type": "stream",
          "text": [
            "Epoch 402\n"
          ],
          "name": "stdout"
        },
        {
          "output_type": "stream",
          "text": [
            "100%|██████████| 256/256 [01:25<00:00,  3.01it/s]\n",
            "  0%|          | 0/256 [00:00<?, ?it/s]"
          ],
          "name": "stderr"
        },
        {
          "output_type": "stream",
          "text": [
            "Epoch 403\n"
          ],
          "name": "stdout"
        },
        {
          "output_type": "stream",
          "text": [
            "100%|██████████| 256/256 [01:25<00:00,  3.00it/s]\n",
            "  0%|          | 0/256 [00:00<?, ?it/s]"
          ],
          "name": "stderr"
        },
        {
          "output_type": "stream",
          "text": [
            "Epoch 404\n"
          ],
          "name": "stdout"
        },
        {
          "output_type": "stream",
          "text": [
            "100%|██████████| 256/256 [01:25<00:00,  2.98it/s]\n",
            "  0%|          | 0/256 [00:00<?, ?it/s]"
          ],
          "name": "stderr"
        },
        {
          "output_type": "stream",
          "text": [
            "Epoch 405\n"
          ],
          "name": "stdout"
        },
        {
          "output_type": "stream",
          "text": [
            "100%|██████████| 256/256 [01:25<00:00,  3.02it/s]\n",
            "  0%|          | 0/256 [00:00<?, ?it/s]"
          ],
          "name": "stderr"
        },
        {
          "output_type": "stream",
          "text": [
            "Epoch 406\n"
          ],
          "name": "stdout"
        },
        {
          "output_type": "stream",
          "text": [
            "100%|██████████| 256/256 [01:25<00:00,  2.96it/s]\n",
            "  0%|          | 0/256 [00:00<?, ?it/s]"
          ],
          "name": "stderr"
        },
        {
          "output_type": "stream",
          "text": [
            "Epoch 407\n"
          ],
          "name": "stdout"
        },
        {
          "output_type": "stream",
          "text": [
            "100%|██████████| 256/256 [01:25<00:00,  2.96it/s]\n",
            "  0%|          | 0/256 [00:00<?, ?it/s]"
          ],
          "name": "stderr"
        },
        {
          "output_type": "stream",
          "text": [
            "Epoch 408\n"
          ],
          "name": "stdout"
        },
        {
          "output_type": "stream",
          "text": [
            "100%|██████████| 256/256 [01:25<00:00,  3.02it/s]\n",
            "  0%|          | 0/256 [00:00<?, ?it/s]"
          ],
          "name": "stderr"
        },
        {
          "output_type": "stream",
          "text": [
            "Epoch 409\n"
          ],
          "name": "stdout"
        },
        {
          "output_type": "stream",
          "text": [
            "100%|██████████| 256/256 [01:25<00:00,  3.04it/s]\n",
            "  0%|          | 0/256 [00:00<?, ?it/s]"
          ],
          "name": "stderr"
        },
        {
          "output_type": "stream",
          "text": [
            "Epoch 410\n"
          ],
          "name": "stdout"
        },
        {
          "output_type": "stream",
          "text": [
            "100%|██████████| 256/256 [01:25<00:00,  2.99it/s]\n",
            "  0%|          | 0/256 [00:00<?, ?it/s]"
          ],
          "name": "stderr"
        },
        {
          "output_type": "stream",
          "text": [
            "Epoch 411\n"
          ],
          "name": "stdout"
        },
        {
          "output_type": "stream",
          "text": [
            "100%|██████████| 256/256 [01:25<00:00,  3.03it/s]\n",
            "  0%|          | 0/256 [00:00<?, ?it/s]"
          ],
          "name": "stderr"
        },
        {
          "output_type": "stream",
          "text": [
            "Epoch 412\n"
          ],
          "name": "stdout"
        },
        {
          "output_type": "stream",
          "text": [
            "100%|██████████| 256/256 [01:25<00:00,  2.97it/s]\n",
            "  0%|          | 0/256 [00:00<?, ?it/s]"
          ],
          "name": "stderr"
        },
        {
          "output_type": "stream",
          "text": [
            "Epoch 413\n"
          ],
          "name": "stdout"
        },
        {
          "output_type": "stream",
          "text": [
            "100%|██████████| 256/256 [01:25<00:00,  3.03it/s]\n",
            "  0%|          | 0/256 [00:00<?, ?it/s]"
          ],
          "name": "stderr"
        },
        {
          "output_type": "stream",
          "text": [
            "Epoch 414\n"
          ],
          "name": "stdout"
        },
        {
          "output_type": "stream",
          "text": [
            "100%|██████████| 256/256 [01:25<00:00,  3.01it/s]\n",
            "  0%|          | 0/256 [00:00<?, ?it/s]"
          ],
          "name": "stderr"
        },
        {
          "output_type": "stream",
          "text": [
            "Epoch 415\n"
          ],
          "name": "stdout"
        },
        {
          "output_type": "stream",
          "text": [
            "100%|██████████| 256/256 [01:25<00:00,  2.95it/s]\n",
            "  0%|          | 0/256 [00:00<?, ?it/s]"
          ],
          "name": "stderr"
        },
        {
          "output_type": "stream",
          "text": [
            "Epoch 416\n"
          ],
          "name": "stdout"
        },
        {
          "output_type": "stream",
          "text": [
            "100%|██████████| 256/256 [01:25<00:00,  3.03it/s]\n",
            "  0%|          | 0/256 [00:00<?, ?it/s]"
          ],
          "name": "stderr"
        },
        {
          "output_type": "stream",
          "text": [
            "Epoch 417\n"
          ],
          "name": "stdout"
        },
        {
          "output_type": "stream",
          "text": [
            "100%|██████████| 256/256 [01:25<00:00,  3.02it/s]\n",
            "  0%|          | 0/256 [00:00<?, ?it/s]"
          ],
          "name": "stderr"
        },
        {
          "output_type": "stream",
          "text": [
            "Epoch 418\n"
          ],
          "name": "stdout"
        },
        {
          "output_type": "stream",
          "text": [
            "100%|██████████| 256/256 [01:24<00:00,  3.01it/s]\n",
            "  0%|          | 0/256 [00:00<?, ?it/s]"
          ],
          "name": "stderr"
        },
        {
          "output_type": "stream",
          "text": [
            "Epoch 419\n"
          ],
          "name": "stdout"
        },
        {
          "output_type": "stream",
          "text": [
            "100%|██████████| 256/256 [01:24<00:00,  3.03it/s]\n",
            "  0%|          | 0/256 [00:00<?, ?it/s]"
          ],
          "name": "stderr"
        },
        {
          "output_type": "stream",
          "text": [
            "Epoch 420\n"
          ],
          "name": "stdout"
        },
        {
          "output_type": "stream",
          "text": [
            "100%|██████████| 256/256 [01:25<00:00,  3.04it/s]\n",
            "  0%|          | 0/256 [00:00<?, ?it/s]"
          ],
          "name": "stderr"
        },
        {
          "output_type": "stream",
          "text": [
            "Epoch 421\n"
          ],
          "name": "stdout"
        },
        {
          "output_type": "stream",
          "text": [
            "100%|██████████| 256/256 [01:25<00:00,  3.00it/s]\n",
            "  0%|          | 0/256 [00:00<?, ?it/s]"
          ],
          "name": "stderr"
        },
        {
          "output_type": "stream",
          "text": [
            "Epoch 422\n"
          ],
          "name": "stdout"
        },
        {
          "output_type": "stream",
          "text": [
            "100%|██████████| 256/256 [01:25<00:00,  2.88it/s]\n",
            "  0%|          | 0/256 [00:00<?, ?it/s]"
          ],
          "name": "stderr"
        },
        {
          "output_type": "stream",
          "text": [
            "Epoch 423\n"
          ],
          "name": "stdout"
        },
        {
          "output_type": "stream",
          "text": [
            "100%|██████████| 256/256 [01:25<00:00,  3.00it/s]\n",
            "  0%|          | 0/256 [00:00<?, ?it/s]"
          ],
          "name": "stderr"
        },
        {
          "output_type": "stream",
          "text": [
            "Epoch 424\n"
          ],
          "name": "stdout"
        },
        {
          "output_type": "stream",
          "text": [
            "100%|██████████| 256/256 [01:25<00:00,  3.03it/s]\n",
            "  0%|          | 0/256 [00:00<?, ?it/s]"
          ],
          "name": "stderr"
        },
        {
          "output_type": "stream",
          "text": [
            "Epoch 425\n"
          ],
          "name": "stdout"
        },
        {
          "output_type": "stream",
          "text": [
            "100%|██████████| 256/256 [01:24<00:00,  3.04it/s]\n",
            "  0%|          | 0/256 [00:00<?, ?it/s]"
          ],
          "name": "stderr"
        },
        {
          "output_type": "stream",
          "text": [
            "Epoch 426\n"
          ],
          "name": "stdout"
        },
        {
          "output_type": "stream",
          "text": [
            "100%|██████████| 256/256 [01:25<00:00,  3.00it/s]\n",
            "  0%|          | 0/256 [00:00<?, ?it/s]"
          ],
          "name": "stderr"
        },
        {
          "output_type": "stream",
          "text": [
            "Epoch 427\n"
          ],
          "name": "stdout"
        },
        {
          "output_type": "stream",
          "text": [
            "100%|██████████| 256/256 [01:25<00:00,  3.02it/s]\n",
            "  0%|          | 0/256 [00:00<?, ?it/s]"
          ],
          "name": "stderr"
        },
        {
          "output_type": "stream",
          "text": [
            "Epoch 428\n"
          ],
          "name": "stdout"
        },
        {
          "output_type": "stream",
          "text": [
            "100%|██████████| 256/256 [01:24<00:00,  3.03it/s]\n",
            "  0%|          | 0/256 [00:00<?, ?it/s]"
          ],
          "name": "stderr"
        },
        {
          "output_type": "stream",
          "text": [
            "Epoch 429\n"
          ],
          "name": "stdout"
        },
        {
          "output_type": "stream",
          "text": [
            "100%|██████████| 256/256 [01:25<00:00,  3.00it/s]\n",
            "  0%|          | 0/256 [00:00<?, ?it/s]"
          ],
          "name": "stderr"
        },
        {
          "output_type": "stream",
          "text": [
            "Epoch 430\n"
          ],
          "name": "stdout"
        },
        {
          "output_type": "stream",
          "text": [
            "100%|██████████| 256/256 [01:25<00:00,  3.00it/s]\n",
            "  0%|          | 0/256 [00:00<?, ?it/s]"
          ],
          "name": "stderr"
        },
        {
          "output_type": "stream",
          "text": [
            "Epoch 431\n"
          ],
          "name": "stdout"
        },
        {
          "output_type": "stream",
          "text": [
            "100%|██████████| 256/256 [01:25<00:00,  3.01it/s]\n",
            "  0%|          | 0/256 [00:00<?, ?it/s]"
          ],
          "name": "stderr"
        },
        {
          "output_type": "stream",
          "text": [
            "Epoch 432\n"
          ],
          "name": "stdout"
        },
        {
          "output_type": "stream",
          "text": [
            "100%|██████████| 256/256 [01:25<00:00,  2.97it/s]\n",
            "  0%|          | 0/256 [00:00<?, ?it/s]"
          ],
          "name": "stderr"
        },
        {
          "output_type": "stream",
          "text": [
            "Epoch 433\n"
          ],
          "name": "stdout"
        },
        {
          "output_type": "stream",
          "text": [
            "100%|██████████| 256/256 [01:25<00:00,  3.01it/s]\n",
            "  0%|          | 0/256 [00:00<?, ?it/s]"
          ],
          "name": "stderr"
        },
        {
          "output_type": "stream",
          "text": [
            "Epoch 434\n"
          ],
          "name": "stdout"
        },
        {
          "output_type": "stream",
          "text": [
            "100%|██████████| 256/256 [01:25<00:00,  3.02it/s]\n",
            "  0%|          | 0/256 [00:00<?, ?it/s]"
          ],
          "name": "stderr"
        },
        {
          "output_type": "stream",
          "text": [
            "Epoch 435\n"
          ],
          "name": "stdout"
        },
        {
          "output_type": "stream",
          "text": [
            "100%|██████████| 256/256 [01:24<00:00,  3.01it/s]\n",
            "  0%|          | 0/256 [00:00<?, ?it/s]"
          ],
          "name": "stderr"
        },
        {
          "output_type": "stream",
          "text": [
            "Epoch 436\n"
          ],
          "name": "stdout"
        },
        {
          "output_type": "stream",
          "text": [
            "100%|██████████| 256/256 [01:25<00:00,  3.05it/s]\n",
            "  0%|          | 0/256 [00:00<?, ?it/s]"
          ],
          "name": "stderr"
        },
        {
          "output_type": "stream",
          "text": [
            "Epoch 437\n"
          ],
          "name": "stdout"
        },
        {
          "output_type": "stream",
          "text": [
            "100%|██████████| 256/256 [01:25<00:00,  3.03it/s]\n",
            "  0%|          | 0/256 [00:00<?, ?it/s]"
          ],
          "name": "stderr"
        },
        {
          "output_type": "stream",
          "text": [
            "Epoch 438\n"
          ],
          "name": "stdout"
        },
        {
          "output_type": "stream",
          "text": [
            "100%|██████████| 256/256 [01:24<00:00,  3.02it/s]\n",
            "  0%|          | 0/256 [00:00<?, ?it/s]"
          ],
          "name": "stderr"
        },
        {
          "output_type": "stream",
          "text": [
            "Epoch 439\n"
          ],
          "name": "stdout"
        },
        {
          "output_type": "stream",
          "text": [
            "100%|██████████| 256/256 [01:25<00:00,  3.02it/s]\n",
            "  0%|          | 0/256 [00:00<?, ?it/s]"
          ],
          "name": "stderr"
        },
        {
          "output_type": "stream",
          "text": [
            "Epoch 440\n"
          ],
          "name": "stdout"
        },
        {
          "output_type": "stream",
          "text": [
            "100%|██████████| 256/256 [01:25<00:00,  2.97it/s]\n",
            "Clipping input data to the valid range for imshow with RGB data ([0..1] for floats or [0..255] for integers).\n",
            "Clipping input data to the valid range for imshow with RGB data ([0..1] for floats or [0..255] for integers).\n",
            "Clipping input data to the valid range for imshow with RGB data ([0..1] for floats or [0..255] for integers).\n",
            "Clipping input data to the valid range for imshow with RGB data ([0..1] for floats or [0..255] for integers).\n",
            "Clipping input data to the valid range for imshow with RGB data ([0..1] for floats or [0..255] for integers).\n",
            "Clipping input data to the valid range for imshow with RGB data ([0..1] for floats or [0..255] for integers).\n",
            "Clipping input data to the valid range for imshow with RGB data ([0..1] for floats or [0..255] for integers).\n",
            "Clipping input data to the valid range for imshow with RGB data ([0..1] for floats or [0..255] for integers).\n",
            "Clipping input data to the valid range for imshow with RGB data ([0..1] for floats or [0..255] for integers).\n",
            "Clipping input data to the valid range for imshow with RGB data ([0..1] for floats or [0..255] for integers).\n",
            "Clipping input data to the valid range for imshow with RGB data ([0..1] for floats or [0..255] for integers).\n",
            "Clipping input data to the valid range for imshow with RGB data ([0..1] for floats or [0..255] for integers).\n",
            "Clipping input data to the valid range for imshow with RGB data ([0..1] for floats or [0..255] for integers).\n",
            "Clipping input data to the valid range for imshow with RGB data ([0..1] for floats or [0..255] for integers).\n",
            "Clipping input data to the valid range for imshow with RGB data ([0..1] for floats or [0..255] for integers).\n",
            "Clipping input data to the valid range for imshow with RGB data ([0..1] for floats or [0..255] for integers).\n",
            "Clipping input data to the valid range for imshow with RGB data ([0..1] for floats or [0..255] for integers).\n",
            "Clipping input data to the valid range for imshow with RGB data ([0..1] for floats or [0..255] for integers).\n",
            "Clipping input data to the valid range for imshow with RGB data ([0..1] for floats or [0..255] for integers).\n",
            "Clipping input data to the valid range for imshow with RGB data ([0..1] for floats or [0..255] for integers).\n",
            "Clipping input data to the valid range for imshow with RGB data ([0..1] for floats or [0..255] for integers).\n",
            "Clipping input data to the valid range for imshow with RGB data ([0..1] for floats or [0..255] for integers).\n",
            "Clipping input data to the valid range for imshow with RGB data ([0..1] for floats or [0..255] for integers).\n",
            "Clipping input data to the valid range for imshow with RGB data ([0..1] for floats or [0..255] for integers).\n",
            "Clipping input data to the valid range for imshow with RGB data ([0..1] for floats or [0..255] for integers).\n",
            "  0%|          | 0/256 [00:00<?, ?it/s]"
          ],
          "name": "stderr"
        },
        {
          "output_type": "stream",
          "text": [
            "Epoch 441\n"
          ],
          "name": "stdout"
        },
        {
          "output_type": "stream",
          "text": [
            "100%|██████████| 256/256 [01:25<00:00,  3.02it/s]\n",
            "  0%|          | 0/256 [00:00<?, ?it/s]"
          ],
          "name": "stderr"
        },
        {
          "output_type": "stream",
          "text": [
            "Epoch 442\n"
          ],
          "name": "stdout"
        },
        {
          "output_type": "stream",
          "text": [
            "100%|██████████| 256/256 [01:25<00:00,  3.00it/s]\n",
            "  0%|          | 0/256 [00:00<?, ?it/s]"
          ],
          "name": "stderr"
        },
        {
          "output_type": "stream",
          "text": [
            "Epoch 443\n"
          ],
          "name": "stdout"
        },
        {
          "output_type": "stream",
          "text": [
            "100%|██████████| 256/256 [01:25<00:00,  3.01it/s]\n",
            "  0%|          | 0/256 [00:00<?, ?it/s]"
          ],
          "name": "stderr"
        },
        {
          "output_type": "stream",
          "text": [
            "Epoch 444\n"
          ],
          "name": "stdout"
        },
        {
          "output_type": "stream",
          "text": [
            "100%|██████████| 256/256 [01:25<00:00,  3.00it/s]\n",
            "  0%|          | 0/256 [00:00<?, ?it/s]"
          ],
          "name": "stderr"
        },
        {
          "output_type": "stream",
          "text": [
            "Epoch 445\n"
          ],
          "name": "stdout"
        },
        {
          "output_type": "stream",
          "text": [
            "100%|██████████| 256/256 [01:25<00:00,  3.00it/s]\n",
            "  0%|          | 0/256 [00:00<?, ?it/s]"
          ],
          "name": "stderr"
        },
        {
          "output_type": "stream",
          "text": [
            "Epoch 446\n"
          ],
          "name": "stdout"
        },
        {
          "output_type": "stream",
          "text": [
            "100%|██████████| 256/256 [01:25<00:00,  2.94it/s]\n",
            "  0%|          | 0/256 [00:00<?, ?it/s]"
          ],
          "name": "stderr"
        },
        {
          "output_type": "stream",
          "text": [
            "Epoch 447\n"
          ],
          "name": "stdout"
        },
        {
          "output_type": "stream",
          "text": [
            "100%|██████████| 256/256 [01:24<00:00,  3.02it/s]\n",
            "  0%|          | 0/256 [00:00<?, ?it/s]"
          ],
          "name": "stderr"
        },
        {
          "output_type": "stream",
          "text": [
            "Epoch 448\n"
          ],
          "name": "stdout"
        },
        {
          "output_type": "stream",
          "text": [
            "100%|██████████| 256/256 [01:25<00:00,  2.98it/s]\n",
            "  0%|          | 0/256 [00:00<?, ?it/s]"
          ],
          "name": "stderr"
        },
        {
          "output_type": "stream",
          "text": [
            "Epoch 449\n"
          ],
          "name": "stdout"
        },
        {
          "output_type": "stream",
          "text": [
            "100%|██████████| 256/256 [01:25<00:00,  3.03it/s]\n",
            "  0%|          | 0/256 [00:00<?, ?it/s]"
          ],
          "name": "stderr"
        },
        {
          "output_type": "stream",
          "text": [
            "Epoch 450\n"
          ],
          "name": "stdout"
        },
        {
          "output_type": "stream",
          "text": [
            "100%|██████████| 256/256 [01:24<00:00,  2.98it/s]\n",
            "  0%|          | 0/256 [00:00<?, ?it/s]"
          ],
          "name": "stderr"
        },
        {
          "output_type": "stream",
          "text": [
            "Epoch 451\n"
          ],
          "name": "stdout"
        },
        {
          "output_type": "stream",
          "text": [
            "100%|██████████| 256/256 [01:24<00:00,  3.02it/s]\n",
            "  0%|          | 0/256 [00:00<?, ?it/s]"
          ],
          "name": "stderr"
        },
        {
          "output_type": "stream",
          "text": [
            "Epoch 452\n"
          ],
          "name": "stdout"
        },
        {
          "output_type": "stream",
          "text": [
            "100%|██████████| 256/256 [01:25<00:00,  3.05it/s]\n",
            "  0%|          | 0/256 [00:00<?, ?it/s]"
          ],
          "name": "stderr"
        },
        {
          "output_type": "stream",
          "text": [
            "Epoch 453\n"
          ],
          "name": "stdout"
        },
        {
          "output_type": "stream",
          "text": [
            "100%|██████████| 256/256 [01:25<00:00,  2.98it/s]\n",
            "  0%|          | 0/256 [00:00<?, ?it/s]"
          ],
          "name": "stderr"
        },
        {
          "output_type": "stream",
          "text": [
            "Epoch 454\n"
          ],
          "name": "stdout"
        },
        {
          "output_type": "stream",
          "text": [
            "100%|██████████| 256/256 [01:24<00:00,  3.03it/s]\n",
            "  0%|          | 0/256 [00:00<?, ?it/s]"
          ],
          "name": "stderr"
        },
        {
          "output_type": "stream",
          "text": [
            "Epoch 455\n"
          ],
          "name": "stdout"
        },
        {
          "output_type": "stream",
          "text": [
            "100%|██████████| 256/256 [01:24<00:00,  3.02it/s]\n",
            "  0%|          | 0/256 [00:00<?, ?it/s]"
          ],
          "name": "stderr"
        },
        {
          "output_type": "stream",
          "text": [
            "Epoch 456\n"
          ],
          "name": "stdout"
        },
        {
          "output_type": "stream",
          "text": [
            "100%|██████████| 256/256 [01:24<00:00,  3.01it/s]\n",
            "  0%|          | 0/256 [00:00<?, ?it/s]"
          ],
          "name": "stderr"
        },
        {
          "output_type": "stream",
          "text": [
            "Epoch 457\n"
          ],
          "name": "stdout"
        },
        {
          "output_type": "stream",
          "text": [
            "100%|██████████| 256/256 [01:24<00:00,  2.97it/s]\n",
            "  0%|          | 0/256 [00:00<?, ?it/s]"
          ],
          "name": "stderr"
        },
        {
          "output_type": "stream",
          "text": [
            "Epoch 458\n"
          ],
          "name": "stdout"
        },
        {
          "output_type": "stream",
          "text": [
            "100%|██████████| 256/256 [01:24<00:00,  3.00it/s]\n",
            "  0%|          | 0/256 [00:00<?, ?it/s]"
          ],
          "name": "stderr"
        },
        {
          "output_type": "stream",
          "text": [
            "Epoch 459\n"
          ],
          "name": "stdout"
        },
        {
          "output_type": "stream",
          "text": [
            "100%|██████████| 256/256 [01:24<00:00,  3.05it/s]\n",
            "  0%|          | 0/256 [00:00<?, ?it/s]"
          ],
          "name": "stderr"
        },
        {
          "output_type": "stream",
          "text": [
            "Epoch 460\n"
          ],
          "name": "stdout"
        },
        {
          "output_type": "stream",
          "text": [
            "100%|██████████| 256/256 [01:24<00:00,  3.01it/s]\n",
            "  0%|          | 0/256 [00:00<?, ?it/s]"
          ],
          "name": "stderr"
        },
        {
          "output_type": "stream",
          "text": [
            "Epoch 461\n"
          ],
          "name": "stdout"
        },
        {
          "output_type": "stream",
          "text": [
            "100%|██████████| 256/256 [01:25<00:00,  3.02it/s]\n",
            "  0%|          | 0/256 [00:00<?, ?it/s]"
          ],
          "name": "stderr"
        },
        {
          "output_type": "stream",
          "text": [
            "Epoch 462\n"
          ],
          "name": "stdout"
        },
        {
          "output_type": "stream",
          "text": [
            "100%|██████████| 256/256 [01:24<00:00,  3.04it/s]\n",
            "  0%|          | 0/256 [00:00<?, ?it/s]"
          ],
          "name": "stderr"
        },
        {
          "output_type": "stream",
          "text": [
            "Epoch 463\n"
          ],
          "name": "stdout"
        },
        {
          "output_type": "stream",
          "text": [
            "100%|██████████| 256/256 [01:25<00:00,  2.87it/s]\n",
            "  0%|          | 0/256 [00:00<?, ?it/s]"
          ],
          "name": "stderr"
        },
        {
          "output_type": "stream",
          "text": [
            "Epoch 464\n"
          ],
          "name": "stdout"
        },
        {
          "output_type": "stream",
          "text": [
            "100%|██████████| 256/256 [01:25<00:00,  3.01it/s]\n",
            "  0%|          | 0/256 [00:00<?, ?it/s]"
          ],
          "name": "stderr"
        },
        {
          "output_type": "stream",
          "text": [
            "Epoch 465\n"
          ],
          "name": "stdout"
        },
        {
          "output_type": "stream",
          "text": [
            "100%|██████████| 256/256 [01:24<00:00,  3.05it/s]\n",
            "  0%|          | 0/256 [00:00<?, ?it/s]"
          ],
          "name": "stderr"
        },
        {
          "output_type": "stream",
          "text": [
            "Epoch 466\n"
          ],
          "name": "stdout"
        },
        {
          "output_type": "stream",
          "text": [
            "100%|██████████| 256/256 [01:24<00:00,  3.03it/s]\n",
            "  0%|          | 0/256 [00:00<?, ?it/s]"
          ],
          "name": "stderr"
        },
        {
          "output_type": "stream",
          "text": [
            "Epoch 467\n"
          ],
          "name": "stdout"
        },
        {
          "output_type": "stream",
          "text": [
            "100%|██████████| 256/256 [01:25<00:00,  3.04it/s]\n",
            "  0%|          | 0/256 [00:00<?, ?it/s]"
          ],
          "name": "stderr"
        },
        {
          "output_type": "stream",
          "text": [
            "Epoch 468\n"
          ],
          "name": "stdout"
        },
        {
          "output_type": "stream",
          "text": [
            "100%|██████████| 256/256 [01:24<00:00,  3.04it/s]\n",
            "  0%|          | 0/256 [00:00<?, ?it/s]"
          ],
          "name": "stderr"
        },
        {
          "output_type": "stream",
          "text": [
            "Epoch 469\n"
          ],
          "name": "stdout"
        },
        {
          "output_type": "stream",
          "text": [
            "100%|██████████| 256/256 [01:24<00:00,  3.04it/s]\n",
            "  0%|          | 0/256 [00:00<?, ?it/s]"
          ],
          "name": "stderr"
        },
        {
          "output_type": "stream",
          "text": [
            "Epoch 470\n"
          ],
          "name": "stdout"
        },
        {
          "output_type": "stream",
          "text": [
            "100%|██████████| 256/256 [01:24<00:00,  2.95it/s]\n",
            "  0%|          | 0/256 [00:00<?, ?it/s]"
          ],
          "name": "stderr"
        },
        {
          "output_type": "stream",
          "text": [
            "Epoch 471\n"
          ],
          "name": "stdout"
        },
        {
          "output_type": "stream",
          "text": [
            "100%|██████████| 256/256 [01:24<00:00,  3.05it/s]\n",
            "  0%|          | 0/256 [00:00<?, ?it/s]"
          ],
          "name": "stderr"
        },
        {
          "output_type": "stream",
          "text": [
            "Epoch 472\n"
          ],
          "name": "stdout"
        },
        {
          "output_type": "stream",
          "text": [
            "100%|██████████| 256/256 [01:24<00:00,  2.97it/s]\n",
            "  0%|          | 0/256 [00:00<?, ?it/s]"
          ],
          "name": "stderr"
        },
        {
          "output_type": "stream",
          "text": [
            "Epoch 473\n"
          ],
          "name": "stdout"
        },
        {
          "output_type": "stream",
          "text": [
            "100%|██████████| 256/256 [01:24<00:00,  2.93it/s]\n",
            "  0%|          | 0/256 [00:00<?, ?it/s]"
          ],
          "name": "stderr"
        },
        {
          "output_type": "stream",
          "text": [
            "Epoch 474\n"
          ],
          "name": "stdout"
        },
        {
          "output_type": "stream",
          "text": [
            "100%|██████████| 256/256 [01:24<00:00,  3.00it/s]\n",
            "  0%|          | 0/256 [00:00<?, ?it/s]"
          ],
          "name": "stderr"
        },
        {
          "output_type": "stream",
          "text": [
            "Epoch 475\n"
          ],
          "name": "stdout"
        },
        {
          "output_type": "stream",
          "text": [
            "100%|██████████| 256/256 [01:25<00:00,  3.02it/s]\n",
            "  0%|          | 0/256 [00:00<?, ?it/s]"
          ],
          "name": "stderr"
        },
        {
          "output_type": "stream",
          "text": [
            "Epoch 476\n"
          ],
          "name": "stdout"
        },
        {
          "output_type": "stream",
          "text": [
            "100%|██████████| 256/256 [01:24<00:00,  3.02it/s]\n",
            "  0%|          | 0/256 [00:00<?, ?it/s]"
          ],
          "name": "stderr"
        },
        {
          "output_type": "stream",
          "text": [
            "Epoch 477\n"
          ],
          "name": "stdout"
        },
        {
          "output_type": "stream",
          "text": [
            "100%|██████████| 256/256 [01:24<00:00,  2.98it/s]\n",
            "  0%|          | 0/256 [00:00<?, ?it/s]"
          ],
          "name": "stderr"
        },
        {
          "output_type": "stream",
          "text": [
            "Epoch 478\n"
          ],
          "name": "stdout"
        },
        {
          "output_type": "stream",
          "text": [
            "100%|██████████| 256/256 [01:24<00:00,  3.05it/s]\n",
            "  0%|          | 0/256 [00:00<?, ?it/s]"
          ],
          "name": "stderr"
        },
        {
          "output_type": "stream",
          "text": [
            "Epoch 479\n"
          ],
          "name": "stdout"
        },
        {
          "output_type": "stream",
          "text": [
            "100%|██████████| 256/256 [01:24<00:00,  3.04it/s]\n",
            "  0%|          | 0/256 [00:00<?, ?it/s]"
          ],
          "name": "stderr"
        },
        {
          "output_type": "stream",
          "text": [
            "Epoch 480\n"
          ],
          "name": "stdout"
        },
        {
          "output_type": "stream",
          "text": [
            "100%|██████████| 256/256 [01:24<00:00,  2.97it/s]\n",
            "Clipping input data to the valid range for imshow with RGB data ([0..1] for floats or [0..255] for integers).\n",
            "Clipping input data to the valid range for imshow with RGB data ([0..1] for floats or [0..255] for integers).\n",
            "Clipping input data to the valid range for imshow with RGB data ([0..1] for floats or [0..255] for integers).\n",
            "Clipping input data to the valid range for imshow with RGB data ([0..1] for floats or [0..255] for integers).\n",
            "Clipping input data to the valid range for imshow with RGB data ([0..1] for floats or [0..255] for integers).\n",
            "Clipping input data to the valid range for imshow with RGB data ([0..1] for floats or [0..255] for integers).\n",
            "Clipping input data to the valid range for imshow with RGB data ([0..1] for floats or [0..255] for integers).\n",
            "Clipping input data to the valid range for imshow with RGB data ([0..1] for floats or [0..255] for integers).\n",
            "Clipping input data to the valid range for imshow with RGB data ([0..1] for floats or [0..255] for integers).\n",
            "Clipping input data to the valid range for imshow with RGB data ([0..1] for floats or [0..255] for integers).\n",
            "Clipping input data to the valid range for imshow with RGB data ([0..1] for floats or [0..255] for integers).\n",
            "Clipping input data to the valid range for imshow with RGB data ([0..1] for floats or [0..255] for integers).\n",
            "Clipping input data to the valid range for imshow with RGB data ([0..1] for floats or [0..255] for integers).\n",
            "Clipping input data to the valid range for imshow with RGB data ([0..1] for floats or [0..255] for integers).\n",
            "Clipping input data to the valid range for imshow with RGB data ([0..1] for floats or [0..255] for integers).\n",
            "Clipping input data to the valid range for imshow with RGB data ([0..1] for floats or [0..255] for integers).\n",
            "Clipping input data to the valid range for imshow with RGB data ([0..1] for floats or [0..255] for integers).\n",
            "Clipping input data to the valid range for imshow with RGB data ([0..1] for floats or [0..255] for integers).\n",
            "Clipping input data to the valid range for imshow with RGB data ([0..1] for floats or [0..255] for integers).\n",
            "Clipping input data to the valid range for imshow with RGB data ([0..1] for floats or [0..255] for integers).\n",
            "Clipping input data to the valid range for imshow with RGB data ([0..1] for floats or [0..255] for integers).\n",
            "Clipping input data to the valid range for imshow with RGB data ([0..1] for floats or [0..255] for integers).\n",
            "Clipping input data to the valid range for imshow with RGB data ([0..1] for floats or [0..255] for integers).\n",
            "Clipping input data to the valid range for imshow with RGB data ([0..1] for floats or [0..255] for integers).\n",
            "Clipping input data to the valid range for imshow with RGB data ([0..1] for floats or [0..255] for integers).\n",
            "  0%|          | 0/256 [00:00<?, ?it/s]"
          ],
          "name": "stderr"
        },
        {
          "output_type": "stream",
          "text": [
            "Epoch 481\n"
          ],
          "name": "stdout"
        },
        {
          "output_type": "stream",
          "text": [
            "100%|██████████| 256/256 [01:25<00:00,  3.00it/s]\n",
            "  0%|          | 0/256 [00:00<?, ?it/s]"
          ],
          "name": "stderr"
        },
        {
          "output_type": "stream",
          "text": [
            "Epoch 482\n"
          ],
          "name": "stdout"
        },
        {
          "output_type": "stream",
          "text": [
            "100%|██████████| 256/256 [01:25<00:00,  3.02it/s]\n",
            "  0%|          | 0/256 [00:00<?, ?it/s]"
          ],
          "name": "stderr"
        },
        {
          "output_type": "stream",
          "text": [
            "Epoch 483\n"
          ],
          "name": "stdout"
        },
        {
          "output_type": "stream",
          "text": [
            "100%|██████████| 256/256 [01:25<00:00,  3.00it/s]\n",
            "  0%|          | 0/256 [00:00<?, ?it/s]"
          ],
          "name": "stderr"
        },
        {
          "output_type": "stream",
          "text": [
            "Epoch 484\n"
          ],
          "name": "stdout"
        },
        {
          "output_type": "stream",
          "text": [
            "100%|██████████| 256/256 [01:25<00:00,  3.00it/s]\n",
            "  0%|          | 0/256 [00:00<?, ?it/s]"
          ],
          "name": "stderr"
        },
        {
          "output_type": "stream",
          "text": [
            "Epoch 485\n"
          ],
          "name": "stdout"
        },
        {
          "output_type": "stream",
          "text": [
            "100%|██████████| 256/256 [01:25<00:00,  3.02it/s]\n",
            "  0%|          | 0/256 [00:00<?, ?it/s]"
          ],
          "name": "stderr"
        },
        {
          "output_type": "stream",
          "text": [
            "Epoch 486\n"
          ],
          "name": "stdout"
        },
        {
          "output_type": "stream",
          "text": [
            "100%|██████████| 256/256 [01:25<00:00,  3.02it/s]\n",
            "  0%|          | 0/256 [00:00<?, ?it/s]"
          ],
          "name": "stderr"
        },
        {
          "output_type": "stream",
          "text": [
            "Epoch 487\n"
          ],
          "name": "stdout"
        },
        {
          "output_type": "stream",
          "text": [
            "100%|██████████| 256/256 [01:24<00:00,  3.03it/s]\n",
            "  0%|          | 0/256 [00:00<?, ?it/s]"
          ],
          "name": "stderr"
        },
        {
          "output_type": "stream",
          "text": [
            "Epoch 488\n"
          ],
          "name": "stdout"
        },
        {
          "output_type": "stream",
          "text": [
            "100%|██████████| 256/256 [01:25<00:00,  3.01it/s]\n",
            "  0%|          | 0/256 [00:00<?, ?it/s]"
          ],
          "name": "stderr"
        },
        {
          "output_type": "stream",
          "text": [
            "Epoch 489\n"
          ],
          "name": "stdout"
        },
        {
          "output_type": "stream",
          "text": [
            "100%|██████████| 256/256 [01:24<00:00,  2.99it/s]\n",
            "  0%|          | 0/256 [00:00<?, ?it/s]"
          ],
          "name": "stderr"
        },
        {
          "output_type": "stream",
          "text": [
            "Epoch 490\n"
          ],
          "name": "stdout"
        },
        {
          "output_type": "stream",
          "text": [
            "100%|██████████| 256/256 [01:25<00:00,  2.99it/s]\n",
            "  0%|          | 0/256 [00:00<?, ?it/s]"
          ],
          "name": "stderr"
        },
        {
          "output_type": "stream",
          "text": [
            "Epoch 491\n"
          ],
          "name": "stdout"
        },
        {
          "output_type": "stream",
          "text": [
            "100%|██████████| 256/256 [01:24<00:00,  3.01it/s]\n",
            "  0%|          | 0/256 [00:00<?, ?it/s]"
          ],
          "name": "stderr"
        },
        {
          "output_type": "stream",
          "text": [
            "Epoch 492\n"
          ],
          "name": "stdout"
        },
        {
          "output_type": "stream",
          "text": [
            "100%|██████████| 256/256 [01:25<00:00,  3.01it/s]\n",
            "  0%|          | 0/256 [00:00<?, ?it/s]"
          ],
          "name": "stderr"
        },
        {
          "output_type": "stream",
          "text": [
            "Epoch 493\n"
          ],
          "name": "stdout"
        },
        {
          "output_type": "stream",
          "text": [
            "100%|██████████| 256/256 [01:25<00:00,  3.05it/s]\n",
            "  0%|          | 0/256 [00:00<?, ?it/s]"
          ],
          "name": "stderr"
        },
        {
          "output_type": "stream",
          "text": [
            "Epoch 494\n"
          ],
          "name": "stdout"
        },
        {
          "output_type": "stream",
          "text": [
            "100%|██████████| 256/256 [01:25<00:00,  3.04it/s]\n",
            "  0%|          | 0/256 [00:00<?, ?it/s]"
          ],
          "name": "stderr"
        },
        {
          "output_type": "stream",
          "text": [
            "Epoch 495\n"
          ],
          "name": "stdout"
        },
        {
          "output_type": "stream",
          "text": [
            "100%|██████████| 256/256 [01:24<00:00,  3.06it/s]\n",
            "  0%|          | 0/256 [00:00<?, ?it/s]"
          ],
          "name": "stderr"
        },
        {
          "output_type": "stream",
          "text": [
            "Epoch 496\n"
          ],
          "name": "stdout"
        },
        {
          "output_type": "stream",
          "text": [
            "100%|██████████| 256/256 [01:24<00:00,  3.01it/s]\n",
            "  0%|          | 0/256 [00:00<?, ?it/s]"
          ],
          "name": "stderr"
        },
        {
          "output_type": "stream",
          "text": [
            "Epoch 497\n"
          ],
          "name": "stdout"
        },
        {
          "output_type": "stream",
          "text": [
            "100%|██████████| 256/256 [01:24<00:00,  3.02it/s]\n",
            "  0%|          | 0/256 [00:00<?, ?it/s]"
          ],
          "name": "stderr"
        },
        {
          "output_type": "stream",
          "text": [
            "Epoch 498\n"
          ],
          "name": "stdout"
        },
        {
          "output_type": "stream",
          "text": [
            "100%|██████████| 256/256 [01:25<00:00,  3.02it/s]\n",
            "  0%|          | 0/256 [00:00<?, ?it/s]"
          ],
          "name": "stderr"
        },
        {
          "output_type": "stream",
          "text": [
            "Epoch 499\n"
          ],
          "name": "stdout"
        },
        {
          "output_type": "stream",
          "text": [
            "100%|██████████| 256/256 [01:25<00:00,  3.01it/s]\n",
            "  0%|          | 0/256 [00:00<?, ?it/s]"
          ],
          "name": "stderr"
        },
        {
          "output_type": "stream",
          "text": [
            "Epoch 500\n"
          ],
          "name": "stdout"
        },
        {
          "output_type": "stream",
          "text": [
            "100%|██████████| 256/256 [01:25<00:00,  3.04it/s]\n",
            "  0%|          | 0/256 [00:00<?, ?it/s]"
          ],
          "name": "stderr"
        },
        {
          "output_type": "stream",
          "text": [
            "Epoch 501\n"
          ],
          "name": "stdout"
        },
        {
          "output_type": "stream",
          "text": [
            "100%|██████████| 256/256 [01:25<00:00,  3.05it/s]\n",
            "  0%|          | 0/256 [00:00<?, ?it/s]"
          ],
          "name": "stderr"
        },
        {
          "output_type": "stream",
          "text": [
            "Epoch 502\n"
          ],
          "name": "stdout"
        },
        {
          "output_type": "stream",
          "text": [
            "100%|██████████| 256/256 [01:24<00:00,  3.00it/s]\n",
            "  0%|          | 0/256 [00:00<?, ?it/s]"
          ],
          "name": "stderr"
        },
        {
          "output_type": "stream",
          "text": [
            "Epoch 503\n"
          ],
          "name": "stdout"
        },
        {
          "output_type": "stream",
          "text": [
            "100%|██████████| 256/256 [01:24<00:00,  3.02it/s]\n",
            "  0%|          | 0/256 [00:00<?, ?it/s]"
          ],
          "name": "stderr"
        },
        {
          "output_type": "stream",
          "text": [
            "Epoch 504\n"
          ],
          "name": "stdout"
        },
        {
          "output_type": "stream",
          "text": [
            "100%|██████████| 256/256 [01:24<00:00,  2.99it/s]\n",
            "  0%|          | 0/256 [00:00<?, ?it/s]"
          ],
          "name": "stderr"
        },
        {
          "output_type": "stream",
          "text": [
            "Epoch 505\n"
          ],
          "name": "stdout"
        },
        {
          "output_type": "stream",
          "text": [
            "100%|██████████| 256/256 [01:24<00:00,  3.03it/s]\n",
            "  0%|          | 0/256 [00:00<?, ?it/s]"
          ],
          "name": "stderr"
        },
        {
          "output_type": "stream",
          "text": [
            "Epoch 506\n"
          ],
          "name": "stdout"
        },
        {
          "output_type": "stream",
          "text": [
            "100%|██████████| 256/256 [01:24<00:00,  3.05it/s]\n",
            "  0%|          | 0/256 [00:00<?, ?it/s]"
          ],
          "name": "stderr"
        },
        {
          "output_type": "stream",
          "text": [
            "Epoch 507\n"
          ],
          "name": "stdout"
        },
        {
          "output_type": "stream",
          "text": [
            "100%|██████████| 256/256 [01:25<00:00,  3.00it/s]\n",
            "  0%|          | 0/256 [00:00<?, ?it/s]"
          ],
          "name": "stderr"
        },
        {
          "output_type": "stream",
          "text": [
            "Epoch 508\n"
          ],
          "name": "stdout"
        },
        {
          "output_type": "stream",
          "text": [
            " 69%|██████▉   | 177/256 [00:58<00:25,  3.05it/s]"
          ],
          "name": "stderr"
        }
      ]
    },
    {
      "cell_type": "code",
      "metadata": {
        "id": "IHGR-cDqj2qA",
        "colab_type": "code",
        "outputId": "ecf0dc5b-9d83-4131-f490-4393ed2c71ee",
        "colab": {
          "base_uri": "https://localhost:8080/",
          "height": 71
        }
      },
      "source": [
        "from keras.models import load_model\n",
        "\n",
        "# load model\n",
        "model = load_model('model1.hdf5')\n"
      ],
      "execution_count": 0,
      "outputs": [
        {
          "output_type": "stream",
          "text": [
            "/usr/local/lib/python3.6/dist-packages/keras/engine/saving.py:350: UserWarning: Error in loading the saved optimizer state. As a result, your model is starting with a freshly initialized optimizer.\n",
            "  warnings.warn('Error in loading the saved optimizer '\n"
          ],
          "name": "stderr"
        }
      ]
    },
    {
      "cell_type": "markdown",
      "metadata": {
        "id": "0Ct8djXNp4yJ",
        "colab_type": "text"
      },
      "source": [
        "[Keras-GAN](https://github.com/eriklindernoren/Keras-GAN)\n",
        "\n",
        "[srgan](https://github.com/eriklindernoren/Keras-GAN/tree/master/srgan)"
      ]
    },
    {
      "cell_type": "code",
      "metadata": {
        "id": "DglT1d-Mk67U",
        "colab_type": "code",
        "outputId": "e7dd8208-6ee7-442e-e253-c94b6a446bdb",
        "colab": {
          "base_uri": "https://localhost:8080/",
          "height": 71
        }
      },
      "source": [
        "!pip install scipy==1.1.0\n",
        "import scipy\n",
        "from glob import glob\n",
        "import numpy as np\n",
        "import cv2\n",
        "import matplotlib.pyplot as plt\n",
        "\n",
        "class DataLoader():\n",
        "    def __init__(self, dataset_name, img_res=(128, 128)):\n",
        "        self.dataset_name = dataset_name\n",
        "        self.img_res = img_res\n",
        "\n",
        "    def load_data(self, batch_size=1, is_testing=False):\n",
        "        data_type = \"train\" if not is_testing else \"test\"\n",
        "        \n",
        "        path = glob('./GAN_Dataset/*jpg')\n",
        "\n",
        "        batch_images = np.random.choice(path, size=batch_size)\n",
        "\n",
        "        imgs_hr = []\n",
        "        imgs_lr = []\n",
        "        for img_path in batch_images:\n",
        "            img = self.imread(img_path)\n",
        "\n",
        "            h, w = self.img_res\n",
        "            low_h, low_w = int(h / 4), int(w / 4)\n",
        "\n",
        "            img_hr = scipy.misc.imresize(img, self.img_res)\n",
        "            img_lr = scipy.misc.imresize(img, (low_h, low_w))\n",
        "\n",
        "            # If training => do random flip\n",
        "            if not is_testing and np.random.random() < 0.5:\n",
        "                img_hr = np.fliplr(img_hr)\n",
        "                img_lr = np.fliplr(img_lr)\n",
        "\n",
        "            imgs_hr.append(img_hr)\n",
        "            imgs_lr.append(img_lr)\n",
        "\n",
        "        imgs_hr = np.array(imgs_hr) / 127.5 - 1.\n",
        "        imgs_lr = np.array(imgs_lr) / 127.5 - 1.\n",
        "\n",
        "        return imgs_hr, imgs_lr\n",
        "\n",
        "\n",
        "    def imread(self, path):\n",
        "        return scipy.misc.imread(path).astype(np.float)"
      ],
      "execution_count": 0,
      "outputs": [
        {
          "output_type": "stream",
          "text": [
            "Requirement already satisfied: scipy==1.1.0 in /usr/local/lib/python3.6/dist-packages (1.1.0)\n",
            "Requirement already satisfied: numpy>=1.8.2 in /usr/local/lib/python3.6/dist-packages (from scipy==1.1.0) (1.17.4)\n"
          ],
          "name": "stdout"
        }
      ]
    },
    {
      "cell_type": "code",
      "metadata": {
        "id": "LAcdeOrzmqRI",
        "colab_type": "code",
        "colab": {}
      },
      "source": [
        "DataLoader = DataLoader(dataset_name=None)"
      ],
      "execution_count": 0,
      "outputs": []
    },
    {
      "cell_type": "code",
      "metadata": {
        "id": "2mutPjVYnBwr",
        "colab_type": "code",
        "colab": {}
      },
      "source": [
        "# data = DataLoader.load_data(128)"
      ],
      "execution_count": 0,
      "outputs": []
    },
    {
      "cell_type": "code",
      "metadata": {
        "id": "K5m733gppo3G",
        "colab_type": "code",
        "outputId": "5c8d396a-9f86-413d-e3ca-9d06dde784f1",
        "colab": {
          "base_uri": "https://localhost:8080/",
          "height": 1000
        }
      },
      "source": [
        "from __future__ import print_function, division\n",
        "import scipy\n",
        "\n",
        "from keras.datasets import mnist\n",
        "# from keras_contrib.layers.normalization.instancenormalization import InstanceNormalization\n",
        "from keras.layers import Input, Dense, Reshape, Flatten, Dropout, Concatenate\n",
        "from keras.layers import BatchNormalization, Activation, ZeroPadding2D, Add\n",
        "from keras.layers.advanced_activations import PReLU, LeakyReLU\n",
        "from keras.layers.convolutional import UpSampling2D, Conv2D\n",
        "from keras.applications import VGG19\n",
        "from keras.models import Sequential, Model\n",
        "from keras.optimizers import Adam\n",
        "import datetime\n",
        "import matplotlib.pyplot as plt\n",
        "import sys\n",
        "# from data_loader import DataLoader\n",
        "import numpy as np\n",
        "import os\n",
        "\n",
        "import keras.backend as K\n",
        "\n",
        "class SRGAN():\n",
        "    def __init__(self):\n",
        "        # Input shape\n",
        "        self.channels = 3\n",
        "        self.lr_height = 64                 # Low resolution height\n",
        "        self.lr_width = 64                  # Low resolution width\n",
        "        self.lr_shape = (self.lr_height, self.lr_width, self.channels)\n",
        "        self.hr_height = self.lr_height*4   # High resolution height\n",
        "        self.hr_width = self.lr_width*4     # High resolution width\n",
        "        self.hr_shape = (self.hr_height, self.hr_width, self.channels)\n",
        "\n",
        "        # Number of residual blocks in the generator\n",
        "        self.n_residual_blocks = 16\n",
        "\n",
        "        optimizer = Adam(0.0002, 0.5)\n",
        "\n",
        "        # We use a pre-trained VGG19 model to extract image features from the high resolution\n",
        "        # and the generated high resolution images and minimize the mse between them\n",
        "        self.vgg = self.build_vgg()\n",
        "        self.vgg.trainable = False\n",
        "        self.vgg.compile(loss='mse',\n",
        "            optimizer=optimizer,\n",
        "            metrics=['accuracy'])\n",
        "\n",
        "        # Configure data loader\n",
        "        self.dataset_name = 'img_align_celeba'\n",
        "        self.data_loader = DataLoader(dataset_name=self.dataset_name,\n",
        "                                      img_res=(self.hr_height, self.hr_width))\n",
        "\n",
        "        # Calculate output shape of D (PatchGAN)\n",
        "        patch = int(self.hr_height / 2**4)\n",
        "        self.disc_patch = (patch, patch, 1)\n",
        "\n",
        "        # Number of filters in the first layer of G and D\n",
        "        self.gf = 64\n",
        "        self.df = 64\n",
        "\n",
        "        # Build and compile the discriminator\n",
        "        self.discriminator = self.build_discriminator()\n",
        "        self.discriminator.compile(loss='mse',\n",
        "            optimizer=optimizer,\n",
        "            metrics=['accuracy'])\n",
        "\n",
        "        # Build the generator\n",
        "        self.generator = self.build_generator()\n",
        "\n",
        "        # High res. and low res. images\n",
        "        img_hr = Input(shape=self.hr_shape)\n",
        "        img_lr = Input(shape=self.lr_shape)\n",
        "\n",
        "        # Generate high res. version from low res.\n",
        "        fake_hr = self.generator(img_lr)\n",
        "\n",
        "        # Extract image features of the generated img\n",
        "        fake_features = self.vgg(fake_hr)\n",
        "\n",
        "        # For the combined model we will only train the generator\n",
        "        self.discriminator.trainable = False\n",
        "\n",
        "        # Discriminator determines validity of generated high res. images\n",
        "        validity = self.discriminator(fake_hr)\n",
        "\n",
        "        self.combined = Model([img_lr, img_hr], [validity, fake_features])\n",
        "        self.combined.compile(loss=['binary_crossentropy', 'mse'],\n",
        "                              loss_weights=[1e-3, 1],\n",
        "                              optimizer=optimizer)\n",
        "\n",
        "\n",
        "    def build_vgg(self):\n",
        "        \"\"\"\n",
        "        Builds a pre-trained VGG19 model that outputs image features extracted at the\n",
        "        third block of the model\n",
        "        \"\"\"\n",
        "        vgg = VGG19(weights=\"imagenet\")\n",
        "        # Set outputs to outputs of last conv. layer in block 3\n",
        "        # See architecture at: https://github.com/keras-team/keras/blob/master/keras/applications/vgg19.py\n",
        "        vgg.outputs = [vgg.layers[9].output]\n",
        "\n",
        "        img = Input(shape=self.hr_shape)\n",
        "\n",
        "        # Extract image features\n",
        "        img_features = vgg(img)\n",
        "\n",
        "        return Model(img, img_features)\n",
        "\n",
        "    def build_generator(self):\n",
        "\n",
        "        def residual_block(layer_input, filters):\n",
        "            \"\"\"Residual block described in paper\"\"\"\n",
        "            d = Conv2D(filters, kernel_size=3, strides=1, padding='same')(layer_input)\n",
        "            d = Activation('relu')(d)\n",
        "            d = BatchNormalization(momentum=0.8)(d)\n",
        "            d = Conv2D(filters, kernel_size=3, strides=1, padding='same')(d)\n",
        "            d = BatchNormalization(momentum=0.8)(d)\n",
        "            d = Add()([d, layer_input])\n",
        "            return d\n",
        "\n",
        "        def deconv2d(layer_input):\n",
        "            \"\"\"Layers used during upsampling\"\"\"\n",
        "            u = UpSampling2D(size=2)(layer_input)\n",
        "            u = Conv2D(256, kernel_size=3, strides=1, padding='same')(u)\n",
        "            u = Activation('relu')(u)\n",
        "            return u\n",
        "\n",
        "        # Low resolution image input\n",
        "        img_lr = Input(shape=self.lr_shape)\n",
        "\n",
        "        # Pre-residual block\n",
        "        c1 = Conv2D(64, kernel_size=9, strides=1, padding='same')(img_lr)\n",
        "        c1 = Activation('relu')(c1)\n",
        "\n",
        "        # Propogate through residual blocks\n",
        "        r = residual_block(c1, self.gf)\n",
        "        for _ in range(self.n_residual_blocks - 1):\n",
        "            r = residual_block(r, self.gf)\n",
        "\n",
        "        # Post-residual block\n",
        "        c2 = Conv2D(64, kernel_size=3, strides=1, padding='same')(r)\n",
        "        c2 = BatchNormalization(momentum=0.8)(c2)\n",
        "        c2 = Add()([c2, c1])\n",
        "\n",
        "        # Upsampling\n",
        "        u1 = deconv2d(c2)\n",
        "        u2 = deconv2d(u1)\n",
        "\n",
        "        # Generate high resolution output\n",
        "        gen_hr = Conv2D(self.channels, kernel_size=9, strides=1, padding='same', activation='tanh')(u2)\n",
        "\n",
        "        return Model(img_lr, gen_hr)\n",
        "\n",
        "    def build_discriminator(self):\n",
        "\n",
        "        def d_block(layer_input, filters, strides=1, bn=True):\n",
        "            \"\"\"Discriminator layer\"\"\"\n",
        "            d = Conv2D(filters, kernel_size=3, strides=strides, padding='same')(layer_input)\n",
        "            d = LeakyReLU(alpha=0.2)(d)\n",
        "            if bn:\n",
        "                d = BatchNormalization(momentum=0.8)(d)\n",
        "            return d\n",
        "\n",
        "        # Input img\n",
        "        d0 = Input(shape=self.hr_shape)\n",
        "\n",
        "        d1 = d_block(d0, self.df, bn=False)\n",
        "        d2 = d_block(d1, self.df, strides=2)\n",
        "        d3 = d_block(d2, self.df*2)\n",
        "        d4 = d_block(d3, self.df*2, strides=2)\n",
        "        d5 = d_block(d4, self.df*4)\n",
        "        d6 = d_block(d5, self.df*4, strides=2)\n",
        "        d7 = d_block(d6, self.df*8)\n",
        "        d8 = d_block(d7, self.df*8, strides=2)\n",
        "\n",
        "        d9 = Dense(self.df*16)(d8)\n",
        "        d10 = LeakyReLU(alpha=0.2)(d9)\n",
        "        validity = Dense(1, activation='sigmoid')(d10)\n",
        "\n",
        "        return Model(d0, validity)\n",
        "\n",
        "    def train(self, epochs, batch_size=1, sample_interval=50):\n",
        "\n",
        "        start_time = datetime.datetime.now()\n",
        "\n",
        "        for epoch in range(epochs):\n",
        "\n",
        "            # ----------------------\n",
        "            #  Train Discriminator\n",
        "            # ----------------------\n",
        "\n",
        "            # Sample images and their conditioning counterparts\n",
        "            imgs_hr, imgs_lr = self.data_loader.load_data(batch_size)\n",
        "\n",
        "            # From low res. image generate high res. version\n",
        "            fake_hr = self.generator.predict(imgs_lr)\n",
        "\n",
        "            valid = np.ones((batch_size,) + self.disc_patch)\n",
        "            fake = np.zeros((batch_size,) + self.disc_patch)\n",
        "\n",
        "            # Train the discriminators (original images = real / generated = Fake)\n",
        "            d_loss_real = self.discriminator.train_on_batch(imgs_hr, valid)\n",
        "            d_loss_fake = self.discriminator.train_on_batch(fake_hr, fake)\n",
        "            d_loss = 0.5 * np.add(d_loss_real, d_loss_fake)\n",
        "\n",
        "            # ------------------\n",
        "            #  Train Generator\n",
        "            # ------------------\n",
        "\n",
        "            # Sample images and their conditioning counterparts\n",
        "            imgs_hr, imgs_lr = self.data_loader.load_data(batch_size)\n",
        "\n",
        "            # The generators want the discriminators to label the generated images as real\n",
        "            valid = np.ones((batch_size,) + self.disc_patch)\n",
        "\n",
        "            # Extract ground truth image features using pre-trained VGG19 model\n",
        "            image_features = self.vgg.predict(imgs_hr)\n",
        "\n",
        "            # Train the generators\n",
        "            g_loss = self.combined.train_on_batch([imgs_lr, imgs_hr], [valid, image_features])\n",
        "\n",
        "            elapsed_time = datetime.datetime.now() - start_time\n",
        "            # Plot the progress\n",
        "            print (\"%d time: %s\" % (epoch, elapsed_time))\n",
        "\n",
        "            # If at save interval => save generated image samples\n",
        "            if epoch % sample_interval == 0:\n",
        "                self.sample_images(epoch)\n",
        "\n",
        "    def sample_images(self, epoch):\n",
        "        os.makedirs('images/%s' % self.dataset_name, exist_ok=True)\n",
        "        r, c = 2, 2\n",
        "\n",
        "        imgs_hr, imgs_lr = self.data_loader.load_data(batch_size=2, is_testing=True)\n",
        "        fake_hr = self.generator.predict(imgs_lr)\n",
        "\n",
        "        # Rescale images 0 - 1\n",
        "        imgs_lr = 0.5 * imgs_lr + 0.5\n",
        "        fake_hr = 0.5 * fake_hr + 0.5\n",
        "        imgs_hr = 0.5 * imgs_hr + 0.5\n",
        "\n",
        "        # Save generated images and the high resolution originals\n",
        "        titles = ['Generated', 'Original']\n",
        "        fig, axs = plt.subplots(r, c)\n",
        "        cnt = 0\n",
        "        for row in range(r):\n",
        "            for col, image in enumerate([fake_hr, imgs_hr]):\n",
        "                axs[row, col].imshow(image[row])\n",
        "                axs[row, col].set_title(titles[col])\n",
        "                axs[row, col].axis('off')\n",
        "            cnt += 1\n",
        "        fig.savefig(\"images/%s/%d.png\" % (self.dataset_name, epoch))\n",
        "        plt.close()\n",
        "\n",
        "        # Save low resolution images for comparison\n",
        "        for i in range(r):\n",
        "            fig = plt.figure()\n",
        "            plt.imshow(imgs_lr[i])\n",
        "            fig.savefig('images/%s/%d_lowres%d.png' % (self.dataset_name, epoch, i))\n",
        "            plt.close()\n",
        "\n",
        "if __name__ == '__main__':\n",
        "    gan = SRGAN()\n",
        "    DataLoader = DataLoader(dataset_name=None)\n",
        "    gan.train(epochs=30000, batch_size=1, sample_interval=50)"
      ],
      "execution_count": 0,
      "outputs": [
        {
          "output_type": "stream",
          "text": [
            "0 time: 0:00:25.870468\n"
          ],
          "name": "stdout"
        },
        {
          "output_type": "stream",
          "text": [
            "/usr/local/lib/python3.6/dist-packages/ipykernel_launcher.py:46: DeprecationWarning: `imread` is deprecated!\n",
            "`imread` is deprecated in SciPy 1.0.0, and will be removed in 1.2.0.\n",
            "Use ``imageio.imread`` instead.\n",
            "/usr/local/lib/python3.6/dist-packages/ipykernel_launcher.py:28: DeprecationWarning: `imresize` is deprecated!\n",
            "`imresize` is deprecated in SciPy 1.0.0, and will be removed in 1.2.0.\n",
            "Use ``skimage.transform.resize`` instead.\n",
            "/usr/local/lib/python3.6/dist-packages/ipykernel_launcher.py:29: DeprecationWarning: `imresize` is deprecated!\n",
            "`imresize` is deprecated in SciPy 1.0.0, and will be removed in 1.2.0.\n",
            "Use ``skimage.transform.resize`` instead.\n",
            "/usr/local/lib/python3.6/dist-packages/keras/engine/training.py:493: UserWarning: Discrepancy between trainable weights and collected trainable weights, did you set `model.trainable` without calling `model.compile` after ?\n",
            "  'Discrepancy between trainable weights and collected trainable'\n"
          ],
          "name": "stderr"
        },
        {
          "output_type": "stream",
          "text": [
            "1 time: 0:00:28.579381\n",
            "2 time: 0:00:29.091413\n",
            "3 time: 0:00:29.599662\n",
            "4 time: 0:00:30.114391\n",
            "5 time: 0:00:30.630191\n",
            "6 time: 0:00:31.142913\n",
            "7 time: 0:00:31.657866\n",
            "8 time: 0:00:32.169716\n",
            "9 time: 0:00:32.683782\n",
            "10 time: 0:00:33.189869\n",
            "11 time: 0:00:33.698971\n",
            "12 time: 0:00:34.212240\n",
            "13 time: 0:00:34.724013\n",
            "14 time: 0:00:35.233978\n",
            "15 time: 0:00:35.749967\n",
            "16 time: 0:00:36.258510\n",
            "17 time: 0:00:36.771668\n",
            "18 time: 0:00:37.278718\n",
            "19 time: 0:00:37.789332\n",
            "20 time: 0:00:38.294545\n",
            "21 time: 0:00:38.807033\n",
            "22 time: 0:00:39.315180\n",
            "23 time: 0:00:39.829803\n",
            "24 time: 0:00:40.338804\n",
            "25 time: 0:00:40.854283\n",
            "26 time: 0:00:41.364833\n",
            "27 time: 0:00:41.886524\n",
            "28 time: 0:00:42.395653\n",
            "29 time: 0:00:42.917926\n",
            "30 time: 0:00:43.428959\n",
            "31 time: 0:00:43.953135\n",
            "32 time: 0:00:44.468950\n",
            "33 time: 0:00:45.007996\n",
            "34 time: 0:00:45.520384\n",
            "35 time: 0:00:46.038233\n",
            "36 time: 0:00:46.553701\n",
            "37 time: 0:00:47.075213\n",
            "38 time: 0:00:47.595867\n",
            "39 time: 0:00:48.108353\n",
            "40 time: 0:00:48.616344\n",
            "41 time: 0:00:49.135388\n",
            "42 time: 0:00:49.645199\n",
            "43 time: 0:00:50.166242\n",
            "44 time: 0:00:50.679870\n",
            "45 time: 0:00:51.200070\n",
            "46 time: 0:00:51.714484\n",
            "47 time: 0:00:52.234839\n",
            "48 time: 0:00:52.753600\n",
            "49 time: 0:00:53.271727\n",
            "50 time: 0:00:53.785391\n",
            "51 time: 0:00:54.834281\n",
            "52 time: 0:00:55.352564\n",
            "53 time: 0:00:55.862789\n",
            "54 time: 0:00:56.376850\n",
            "55 time: 0:00:56.889811\n",
            "56 time: 0:00:57.403006\n",
            "57 time: 0:00:57.924274\n",
            "58 time: 0:00:58.446741\n",
            "59 time: 0:00:58.964494\n",
            "60 time: 0:00:59.477527\n",
            "61 time: 0:00:59.987589\n",
            "62 time: 0:01:00.496695\n",
            "63 time: 0:01:01.017247\n",
            "64 time: 0:01:01.536370\n",
            "65 time: 0:01:02.060014\n",
            "66 time: 0:01:02.579423\n",
            "67 time: 0:01:03.091693\n",
            "68 time: 0:01:03.609192\n",
            "69 time: 0:01:04.129677\n",
            "70 time: 0:01:04.650831\n",
            "71 time: 0:01:05.176243\n",
            "72 time: 0:01:05.690217\n",
            "73 time: 0:01:06.203180\n",
            "74 time: 0:01:06.717897\n",
            "75 time: 0:01:07.226743\n",
            "76 time: 0:01:07.740996\n",
            "77 time: 0:01:08.253999\n",
            "78 time: 0:01:08.771936\n",
            "79 time: 0:01:09.291595\n",
            "80 time: 0:01:09.806572\n",
            "81 time: 0:01:10.315497\n",
            "82 time: 0:01:10.828415\n",
            "83 time: 0:01:11.334869\n",
            "84 time: 0:01:11.841568\n",
            "85 time: 0:01:12.345845\n",
            "86 time: 0:01:12.863958\n",
            "87 time: 0:01:13.377586\n",
            "88 time: 0:01:13.890883\n",
            "89 time: 0:01:14.398611\n",
            "90 time: 0:01:14.913235\n",
            "91 time: 0:01:15.425359\n",
            "92 time: 0:01:15.938017\n",
            "93 time: 0:01:16.445656\n",
            "94 time: 0:01:16.965065\n",
            "95 time: 0:01:17.480097\n",
            "96 time: 0:01:17.998175\n",
            "97 time: 0:01:18.518980\n",
            "98 time: 0:01:19.042288\n",
            "99 time: 0:01:19.565553\n",
            "100 time: 0:01:20.079304\n",
            "101 time: 0:01:21.122000\n",
            "102 time: 0:01:21.631115\n",
            "103 time: 0:01:22.140898\n",
            "104 time: 0:01:22.651049\n",
            "105 time: 0:01:23.159511\n",
            "106 time: 0:01:23.671163\n",
            "107 time: 0:01:24.185589\n",
            "108 time: 0:01:24.704800\n",
            "109 time: 0:01:25.212765\n",
            "110 time: 0:01:25.722531\n",
            "111 time: 0:01:26.232682\n",
            "112 time: 0:01:26.742398\n",
            "113 time: 0:01:27.256767\n",
            "114 time: 0:01:27.774419\n",
            "115 time: 0:01:28.285324\n",
            "116 time: 0:01:28.794324\n",
            "117 time: 0:01:29.298385\n",
            "118 time: 0:01:29.811908\n",
            "119 time: 0:01:30.317699\n",
            "120 time: 0:01:30.824205\n",
            "121 time: 0:01:31.342597\n",
            "122 time: 0:01:31.850392\n",
            "123 time: 0:01:32.366320\n",
            "124 time: 0:01:32.876700\n",
            "125 time: 0:01:33.396188\n",
            "126 time: 0:01:33.908206\n",
            "127 time: 0:01:34.427279\n",
            "128 time: 0:01:34.935890\n",
            "129 time: 0:01:35.455312\n",
            "130 time: 0:01:35.963855\n",
            "131 time: 0:01:36.493034\n",
            "132 time: 0:01:37.009538\n",
            "133 time: 0:01:37.533312\n",
            "134 time: 0:01:38.045868\n",
            "135 time: 0:01:38.566126\n",
            "136 time: 0:01:39.078930\n",
            "137 time: 0:01:39.598743\n",
            "138 time: 0:01:40.111435\n",
            "139 time: 0:01:40.633269\n",
            "140 time: 0:01:41.144076\n",
            "141 time: 0:01:41.655066\n",
            "142 time: 0:01:42.164295\n",
            "143 time: 0:01:42.680006\n",
            "144 time: 0:01:43.193830\n",
            "145 time: 0:01:43.713977\n",
            "146 time: 0:01:44.224709\n",
            "147 time: 0:01:44.746266\n",
            "148 time: 0:01:45.259749\n",
            "149 time: 0:01:45.783367\n",
            "150 time: 0:01:46.291696\n",
            "151 time: 0:01:47.364764\n",
            "152 time: 0:01:47.883031\n",
            "153 time: 0:01:48.398216\n",
            "154 time: 0:01:48.914083\n",
            "155 time: 0:01:49.421353\n",
            "156 time: 0:01:49.942451\n",
            "157 time: 0:01:50.456009\n",
            "158 time: 0:01:50.968177\n",
            "159 time: 0:01:51.482756\n",
            "160 time: 0:01:52.001487\n",
            "161 time: 0:01:52.508481\n",
            "162 time: 0:01:53.019845\n",
            "163 time: 0:01:53.530989\n",
            "164 time: 0:01:54.045899\n",
            "165 time: 0:01:54.556555\n",
            "166 time: 0:01:55.069681\n",
            "167 time: 0:01:55.587249\n",
            "168 time: 0:01:56.102047\n",
            "169 time: 0:01:56.614500\n",
            "170 time: 0:01:57.128215\n",
            "171 time: 0:01:57.637351\n",
            "172 time: 0:01:58.145881\n",
            "173 time: 0:01:58.650243\n",
            "174 time: 0:01:59.167010\n",
            "175 time: 0:01:59.675606\n",
            "176 time: 0:02:00.187973\n",
            "177 time: 0:02:00.705223\n",
            "178 time: 0:02:01.225355\n",
            "179 time: 0:02:01.736785\n",
            "180 time: 0:02:02.253826\n",
            "181 time: 0:02:02.769584\n",
            "182 time: 0:02:03.287179\n",
            "183 time: 0:02:03.800760\n",
            "184 time: 0:02:04.321717\n",
            "185 time: 0:02:04.833955\n",
            "186 time: 0:02:05.358227\n",
            "187 time: 0:02:05.868083\n",
            "188 time: 0:02:06.395931\n",
            "189 time: 0:02:06.909947\n",
            "190 time: 0:02:07.433320\n",
            "191 time: 0:02:07.946974\n",
            "192 time: 0:02:08.468818\n",
            "193 time: 0:02:08.983425\n",
            "194 time: 0:02:09.499072\n",
            "195 time: 0:02:10.010988\n",
            "196 time: 0:02:10.538320\n",
            "197 time: 0:02:11.054310\n",
            "198 time: 0:02:11.570218\n",
            "199 time: 0:02:12.079427\n",
            "200 time: 0:02:12.591184\n",
            "201 time: 0:02:13.648131\n",
            "202 time: 0:02:14.163218\n",
            "203 time: 0:02:14.674356\n",
            "204 time: 0:02:15.189369\n",
            "205 time: 0:02:15.702079\n",
            "206 time: 0:02:16.217450\n",
            "207 time: 0:02:16.728962\n",
            "208 time: 0:02:17.241966\n",
            "209 time: 0:02:17.755942\n",
            "210 time: 0:02:18.270166\n",
            "211 time: 0:02:18.786830\n",
            "212 time: 0:02:19.310113\n",
            "213 time: 0:02:19.831743\n",
            "214 time: 0:02:20.361160\n",
            "215 time: 0:02:20.877292\n",
            "216 time: 0:02:21.400145\n",
            "217 time: 0:02:21.925841\n",
            "218 time: 0:02:22.438654\n",
            "219 time: 0:02:22.953854\n",
            "220 time: 0:02:23.465842\n",
            "221 time: 0:02:23.987540\n",
            "222 time: 0:02:24.500985\n",
            "223 time: 0:02:25.031415\n",
            "224 time: 0:02:25.541083\n",
            "225 time: 0:02:26.056793\n",
            "226 time: 0:02:26.568099\n",
            "227 time: 0:02:27.083890\n",
            "228 time: 0:02:27.609021\n",
            "229 time: 0:02:28.119249\n",
            "230 time: 0:02:28.631091\n",
            "231 time: 0:02:29.147807\n",
            "232 time: 0:02:29.661949\n",
            "233 time: 0:02:30.172870\n",
            "234 time: 0:02:30.683699\n",
            "235 time: 0:02:31.199539\n",
            "236 time: 0:02:31.713930\n",
            "237 time: 0:02:32.227529\n",
            "238 time: 0:02:32.739905\n",
            "239 time: 0:02:33.264109\n",
            "240 time: 0:02:33.788820\n",
            "241 time: 0:02:34.306016\n",
            "242 time: 0:02:34.820325\n",
            "243 time: 0:02:35.346175\n",
            "244 time: 0:02:35.862940\n",
            "245 time: 0:02:36.384344\n",
            "246 time: 0:02:36.897533\n",
            "247 time: 0:02:37.410706\n",
            "248 time: 0:02:37.922749\n",
            "249 time: 0:02:38.437911\n",
            "250 time: 0:02:38.958952\n",
            "251 time: 0:02:40.006424\n",
            "252 time: 0:02:40.518999\n",
            "253 time: 0:02:41.029148\n",
            "254 time: 0:02:41.560280\n",
            "255 time: 0:02:42.080137\n",
            "256 time: 0:02:42.596189\n",
            "257 time: 0:02:43.113424\n",
            "258 time: 0:02:43.630822\n",
            "259 time: 0:02:44.142120\n",
            "260 time: 0:02:44.665404\n",
            "261 time: 0:02:45.182494\n",
            "262 time: 0:02:45.700981\n",
            "263 time: 0:02:46.222820\n",
            "264 time: 0:02:46.741352\n",
            "265 time: 0:02:47.249787\n",
            "266 time: 0:02:47.769065\n",
            "267 time: 0:02:48.285958\n",
            "268 time: 0:02:48.799162\n",
            "269 time: 0:02:49.307720\n",
            "270 time: 0:02:49.825280\n",
            "271 time: 0:02:50.338200\n",
            "272 time: 0:02:50.858728\n",
            "273 time: 0:02:51.370823\n",
            "274 time: 0:02:51.894531\n",
            "275 time: 0:02:52.419728\n",
            "276 time: 0:02:52.931020\n",
            "277 time: 0:02:53.443544\n",
            "278 time: 0:02:53.960914\n",
            "279 time: 0:02:54.471448\n",
            "280 time: 0:02:54.981683\n",
            "281 time: 0:02:55.493909\n",
            "282 time: 0:02:56.015870\n",
            "283 time: 0:02:56.530336\n",
            "284 time: 0:02:57.041984\n",
            "285 time: 0:02:57.551835\n",
            "286 time: 0:02:58.075444\n",
            "287 time: 0:02:58.587348\n",
            "288 time: 0:02:59.095678\n",
            "289 time: 0:02:59.605497\n",
            "290 time: 0:03:00.125116\n",
            "291 time: 0:03:00.637906\n",
            "292 time: 0:03:01.161823\n",
            "293 time: 0:03:01.675741\n",
            "294 time: 0:03:02.191888\n",
            "295 time: 0:03:02.699773\n",
            "296 time: 0:03:03.217470\n",
            "297 time: 0:03:03.724471\n",
            "298 time: 0:03:04.246713\n",
            "299 time: 0:03:04.762650\n",
            "300 time: 0:03:05.273045\n",
            "301 time: 0:03:06.331080\n",
            "302 time: 0:03:06.842063\n",
            "303 time: 0:03:07.355346\n",
            "304 time: 0:03:07.868223\n",
            "305 time: 0:03:08.383888\n",
            "306 time: 0:03:08.894971\n",
            "307 time: 0:03:09.411155\n",
            "308 time: 0:03:09.927394\n",
            "309 time: 0:03:10.440767\n",
            "310 time: 0:03:10.950991\n",
            "311 time: 0:03:11.468342\n",
            "312 time: 0:03:11.983748\n",
            "313 time: 0:03:12.499850\n",
            "314 time: 0:03:13.009754\n",
            "315 time: 0:03:13.533416\n",
            "316 time: 0:03:14.046047\n",
            "317 time: 0:03:14.557739\n",
            "318 time: 0:03:15.071957\n",
            "319 time: 0:03:15.590829\n",
            "320 time: 0:03:16.104736\n",
            "321 time: 0:03:16.619315\n",
            "322 time: 0:03:17.133813\n",
            "323 time: 0:03:17.647161\n",
            "324 time: 0:03:18.158187\n",
            "325 time: 0:03:18.685083\n",
            "326 time: 0:03:19.191878\n",
            "327 time: 0:03:19.703026\n",
            "328 time: 0:03:20.217825\n",
            "329 time: 0:03:20.738999\n",
            "330 time: 0:03:21.268885\n",
            "331 time: 0:03:21.775211\n",
            "332 time: 0:03:22.291869\n",
            "333 time: 0:03:22.809038\n",
            "334 time: 0:03:23.318398\n",
            "335 time: 0:03:23.849188\n",
            "336 time: 0:03:24.364080\n",
            "337 time: 0:03:24.884360\n",
            "338 time: 0:03:25.397778\n",
            "339 time: 0:03:25.911027\n",
            "340 time: 0:03:26.421083\n",
            "341 time: 0:03:26.940223\n",
            "342 time: 0:03:27.454112\n",
            "343 time: 0:03:27.973870\n",
            "344 time: 0:03:28.493438\n",
            "345 time: 0:03:29.009470\n",
            "346 time: 0:03:29.527562\n",
            "347 time: 0:03:30.039731\n",
            "348 time: 0:03:30.557999\n",
            "349 time: 0:03:31.076510\n",
            "350 time: 0:03:31.595540\n",
            "351 time: 0:03:32.638504\n",
            "352 time: 0:03:33.148266\n",
            "353 time: 0:03:33.663521\n",
            "354 time: 0:03:34.182834\n",
            "355 time: 0:03:34.696003\n",
            "356 time: 0:03:35.215378\n",
            "357 time: 0:03:35.727568\n",
            "358 time: 0:03:36.238548\n",
            "359 time: 0:03:36.755717\n",
            "360 time: 0:03:37.267171\n",
            "361 time: 0:03:37.777759\n",
            "362 time: 0:03:38.285933\n",
            "363 time: 0:03:38.804538\n",
            "364 time: 0:03:39.324971\n",
            "365 time: 0:03:39.839303\n",
            "366 time: 0:03:40.355924\n",
            "367 time: 0:03:40.869457\n",
            "368 time: 0:03:41.379776\n",
            "369 time: 0:03:41.895053\n",
            "370 time: 0:03:42.406120\n",
            "371 time: 0:03:42.934956\n",
            "372 time: 0:03:43.462244\n",
            "373 time: 0:03:43.981543\n",
            "374 time: 0:03:44.491666\n",
            "375 time: 0:03:45.003848\n",
            "376 time: 0:03:45.525748\n",
            "377 time: 0:03:46.044482\n",
            "378 time: 0:03:46.553297\n",
            "379 time: 0:03:47.066981\n",
            "380 time: 0:03:47.586538\n",
            "381 time: 0:03:48.100012\n",
            "382 time: 0:03:48.606399\n",
            "383 time: 0:03:49.117576\n",
            "384 time: 0:03:49.632541\n",
            "385 time: 0:03:50.144084\n",
            "386 time: 0:03:50.659971\n",
            "387 time: 0:03:51.176929\n",
            "388 time: 0:03:51.687815\n",
            "389 time: 0:03:52.197249\n",
            "390 time: 0:03:52.712641\n",
            "391 time: 0:03:53.224439\n",
            "392 time: 0:03:53.735214\n",
            "393 time: 0:03:54.245380\n",
            "394 time: 0:03:54.754844\n",
            "395 time: 0:03:55.270277\n",
            "396 time: 0:03:55.792847\n",
            "397 time: 0:03:56.313374\n",
            "398 time: 0:03:56.828762\n",
            "399 time: 0:03:57.341867\n",
            "400 time: 0:03:57.859474\n",
            "401 time: 0:03:58.916795\n",
            "402 time: 0:03:59.428016\n",
            "403 time: 0:03:59.938693\n",
            "404 time: 0:04:00.451034\n",
            "405 time: 0:04:00.965498\n",
            "406 time: 0:04:01.475969\n",
            "407 time: 0:04:01.991886\n",
            "408 time: 0:04:02.506322\n",
            "409 time: 0:04:03.020445\n",
            "410 time: 0:04:03.533084\n",
            "411 time: 0:04:04.044646\n",
            "412 time: 0:04:04.565533\n",
            "413 time: 0:04:05.075608\n",
            "414 time: 0:04:05.591958\n",
            "415 time: 0:04:06.102327\n",
            "416 time: 0:04:06.615722\n",
            "417 time: 0:04:07.128341\n",
            "418 time: 0:04:07.641150\n",
            "419 time: 0:04:08.155537\n",
            "420 time: 0:04:08.669413\n",
            "421 time: 0:04:09.184586\n",
            "422 time: 0:04:09.697016\n",
            "423 time: 0:04:10.207519\n",
            "424 time: 0:04:10.721071\n",
            "425 time: 0:04:11.235219\n",
            "426 time: 0:04:11.752425\n",
            "427 time: 0:04:12.264900\n",
            "428 time: 0:04:12.777556\n",
            "429 time: 0:04:13.294973\n",
            "430 time: 0:04:13.809567\n",
            "431 time: 0:04:14.320292\n",
            "432 time: 0:04:14.830883\n",
            "433 time: 0:04:15.340487\n",
            "434 time: 0:04:15.861690\n",
            "435 time: 0:04:16.379430\n",
            "436 time: 0:04:16.895682\n",
            "437 time: 0:04:17.407803\n",
            "438 time: 0:04:17.921162\n",
            "439 time: 0:04:18.425802\n",
            "440 time: 0:04:18.939747\n",
            "441 time: 0:04:19.449088\n",
            "442 time: 0:04:19.973982\n",
            "443 time: 0:04:20.489215\n",
            "444 time: 0:04:21.006126\n",
            "445 time: 0:04:21.527605\n",
            "446 time: 0:04:22.045009\n",
            "447 time: 0:04:22.551980\n",
            "448 time: 0:04:23.062550\n",
            "449 time: 0:04:23.569916\n",
            "450 time: 0:04:24.085174\n",
            "451 time: 0:04:25.125012\n",
            "452 time: 0:04:25.636861\n",
            "453 time: 0:04:26.148061\n",
            "454 time: 0:04:26.657988\n",
            "455 time: 0:04:27.169820\n",
            "456 time: 0:04:27.682609\n",
            "457 time: 0:04:28.194277\n",
            "458 time: 0:04:28.704163\n",
            "459 time: 0:04:29.220743\n",
            "460 time: 0:04:29.738314\n",
            "461 time: 0:04:30.251208\n",
            "462 time: 0:04:30.763057\n",
            "463 time: 0:04:31.274560\n",
            "464 time: 0:04:31.787011\n",
            "465 time: 0:04:32.294391\n",
            "466 time: 0:04:32.802906\n",
            "467 time: 0:04:33.313751\n",
            "468 time: 0:04:33.836661\n",
            "469 time: 0:04:34.352828\n",
            "470 time: 0:04:34.868421\n",
            "471 time: 0:04:35.380040\n",
            "472 time: 0:04:35.891591\n",
            "473 time: 0:04:36.398247\n",
            "474 time: 0:04:36.907738\n",
            "475 time: 0:04:37.418043\n",
            "476 time: 0:04:37.932877\n",
            "477 time: 0:04:38.440052\n",
            "478 time: 0:04:38.962844\n",
            "479 time: 0:04:39.475827\n",
            "480 time: 0:04:39.992992\n",
            "481 time: 0:04:40.501883\n",
            "482 time: 0:04:41.019275\n",
            "483 time: 0:04:41.530329\n",
            "484 time: 0:04:42.042030\n",
            "485 time: 0:04:42.558904\n",
            "486 time: 0:04:43.084557\n",
            "487 time: 0:04:43.607579\n",
            "488 time: 0:04:44.121345\n",
            "489 time: 0:04:44.634662\n",
            "490 time: 0:04:45.142785\n",
            "491 time: 0:04:45.654110\n",
            "492 time: 0:04:46.161101\n",
            "493 time: 0:04:46.676831\n",
            "494 time: 0:04:47.195752\n",
            "495 time: 0:04:47.719147\n",
            "496 time: 0:04:48.234388\n",
            "497 time: 0:04:48.748593\n",
            "498 time: 0:04:49.261418\n",
            "499 time: 0:04:49.779251\n",
            "500 time: 0:04:50.305093\n",
            "501 time: 0:04:51.370581\n",
            "502 time: 0:04:51.892041\n",
            "503 time: 0:04:52.407719\n",
            "504 time: 0:04:52.921736\n",
            "505 time: 0:04:53.435479\n",
            "506 time: 0:04:53.953316\n",
            "507 time: 0:04:54.470684\n",
            "508 time: 0:04:54.982173\n",
            "509 time: 0:04:55.491994\n",
            "510 time: 0:04:56.012387\n",
            "511 time: 0:04:56.526156\n",
            "512 time: 0:04:57.039353\n",
            "513 time: 0:04:57.551642\n",
            "514 time: 0:04:58.067317\n",
            "515 time: 0:04:58.587094\n",
            "516 time: 0:04:59.109687\n",
            "517 time: 0:04:59.621554\n",
            "518 time: 0:05:00.134536\n",
            "519 time: 0:05:00.656840\n",
            "520 time: 0:05:01.169208\n",
            "521 time: 0:05:01.682666\n",
            "522 time: 0:05:02.194541\n",
            "523 time: 0:05:02.706086\n",
            "524 time: 0:05:03.216742\n",
            "525 time: 0:05:03.728955\n",
            "526 time: 0:05:04.246325\n",
            "527 time: 0:05:04.760503\n",
            "528 time: 0:05:05.278992\n",
            "529 time: 0:05:05.796596\n",
            "530 time: 0:05:06.320797\n",
            "531 time: 0:05:06.834513\n",
            "532 time: 0:05:07.345565\n",
            "533 time: 0:05:07.865312\n",
            "534 time: 0:05:08.376739\n",
            "535 time: 0:05:08.893792\n",
            "536 time: 0:05:09.411977\n",
            "537 time: 0:05:09.924880\n",
            "538 time: 0:05:10.437523\n",
            "539 time: 0:05:10.947104\n",
            "540 time: 0:05:11.457718\n",
            "541 time: 0:05:11.969758\n",
            "542 time: 0:05:12.479097\n",
            "543 time: 0:05:12.996775\n",
            "544 time: 0:05:13.518506\n",
            "545 time: 0:05:14.036121\n",
            "546 time: 0:05:14.547079\n",
            "547 time: 0:05:15.056288\n",
            "548 time: 0:05:15.568856\n",
            "549 time: 0:05:16.084629\n",
            "550 time: 0:05:16.600898\n",
            "551 time: 0:05:17.986150\n",
            "552 time: 0:05:18.494546\n",
            "553 time: 0:05:19.009345\n",
            "554 time: 0:05:19.524066\n",
            "555 time: 0:05:20.033263\n",
            "556 time: 0:05:20.557413\n",
            "557 time: 0:05:21.076939\n",
            "558 time: 0:05:21.594980\n",
            "559 time: 0:05:22.103898\n",
            "560 time: 0:05:22.613841\n",
            "561 time: 0:05:23.130439\n",
            "562 time: 0:05:23.643894\n",
            "563 time: 0:05:24.161859\n",
            "564 time: 0:05:24.677903\n",
            "565 time: 0:05:25.187836\n",
            "566 time: 0:05:25.698188\n",
            "567 time: 0:05:26.209250\n",
            "568 time: 0:05:26.719134\n",
            "569 time: 0:05:27.228117\n",
            "570 time: 0:05:27.738549\n",
            "571 time: 0:05:28.246143\n",
            "572 time: 0:05:28.757436\n",
            "573 time: 0:05:29.277309\n",
            "574 time: 0:05:29.793227\n",
            "575 time: 0:05:30.310266\n",
            "576 time: 0:05:30.829547\n",
            "577 time: 0:05:31.336976\n",
            "578 time: 0:05:31.845464\n",
            "579 time: 0:05:32.355940\n",
            "580 time: 0:05:32.868063\n",
            "581 time: 0:05:33.387878\n",
            "582 time: 0:05:33.908486\n",
            "583 time: 0:05:34.423457\n",
            "584 time: 0:05:34.939850\n",
            "585 time: 0:05:35.452094\n",
            "586 time: 0:05:35.959861\n",
            "587 time: 0:05:36.469749\n",
            "588 time: 0:05:36.985192\n",
            "589 time: 0:05:37.500265\n",
            "590 time: 0:05:38.027712\n",
            "591 time: 0:05:38.541451\n",
            "592 time: 0:05:39.054389\n",
            "593 time: 0:05:39.566179\n",
            "594 time: 0:05:40.081610\n",
            "595 time: 0:05:40.588802\n",
            "596 time: 0:05:41.101000\n",
            "597 time: 0:05:41.617788\n",
            "598 time: 0:05:42.142155\n",
            "599 time: 0:05:42.656394\n",
            "600 time: 0:05:43.168850\n",
            "601 time: 0:05:44.234645\n",
            "602 time: 0:05:44.759979\n",
            "603 time: 0:05:45.271861\n",
            "604 time: 0:05:45.782159\n",
            "605 time: 0:05:46.296919\n",
            "606 time: 0:05:46.807773\n",
            "607 time: 0:05:47.317005\n",
            "608 time: 0:05:47.828472\n",
            "609 time: 0:05:48.342458\n",
            "610 time: 0:05:48.869968\n",
            "611 time: 0:05:49.383188\n",
            "612 time: 0:05:49.898747\n",
            "613 time: 0:05:50.410611\n",
            "614 time: 0:05:50.933074\n",
            "615 time: 0:05:51.441904\n",
            "616 time: 0:05:51.954952\n",
            "617 time: 0:05:52.484159\n",
            "618 time: 0:05:53.000937\n",
            "619 time: 0:05:53.509498\n",
            "620 time: 0:05:54.028197\n",
            "621 time: 0:05:54.541214\n",
            "622 time: 0:05:55.051203\n",
            "623 time: 0:05:55.563296\n",
            "624 time: 0:05:56.075058\n",
            "625 time: 0:05:56.592829\n",
            "626 time: 0:05:57.107915\n",
            "627 time: 0:05:57.622020\n",
            "628 time: 0:05:58.134766\n",
            "629 time: 0:05:58.647459\n",
            "630 time: 0:05:59.161878\n",
            "631 time: 0:05:59.676367\n",
            "632 time: 0:06:00.187939\n",
            "633 time: 0:06:00.706274\n",
            "634 time: 0:06:01.222255\n",
            "635 time: 0:06:01.728495\n",
            "636 time: 0:06:02.245289\n",
            "637 time: 0:06:02.754906\n",
            "638 time: 0:06:03.266134\n",
            "639 time: 0:06:03.783988\n",
            "640 time: 0:06:04.292658\n",
            "641 time: 0:06:04.806994\n",
            "642 time: 0:06:05.328563\n",
            "643 time: 0:06:05.847437\n",
            "644 time: 0:06:06.361283\n",
            "645 time: 0:06:06.874955\n",
            "646 time: 0:06:07.387065\n",
            "647 time: 0:06:07.898534\n",
            "648 time: 0:06:08.412661\n",
            "649 time: 0:06:08.930090\n",
            "650 time: 0:06:09.454531\n",
            "651 time: 0:06:10.508019\n",
            "652 time: 0:06:11.021711\n",
            "653 time: 0:06:11.540438\n",
            "654 time: 0:06:12.060983\n",
            "655 time: 0:06:12.576411\n",
            "656 time: 0:06:13.094840\n",
            "657 time: 0:06:13.609362\n",
            "658 time: 0:06:14.120186\n",
            "659 time: 0:06:14.637800\n",
            "660 time: 0:06:15.161783\n",
            "661 time: 0:06:15.685696\n",
            "662 time: 0:06:16.222457\n",
            "663 time: 0:06:16.735524\n",
            "664 time: 0:06:17.246866\n",
            "665 time: 0:06:17.763456\n",
            "666 time: 0:06:18.279184\n",
            "667 time: 0:06:18.798774\n",
            "668 time: 0:06:19.314148\n",
            "669 time: 0:06:19.837773\n",
            "670 time: 0:06:20.351876\n",
            "671 time: 0:06:20.863575\n",
            "672 time: 0:06:21.377590\n",
            "673 time: 0:06:21.892773\n",
            "674 time: 0:06:22.409847\n",
            "675 time: 0:06:22.924364\n",
            "676 time: 0:06:23.442038\n",
            "677 time: 0:06:23.957307\n",
            "678 time: 0:06:24.472422\n",
            "679 time: 0:06:24.984130\n",
            "680 time: 0:06:25.502674\n",
            "681 time: 0:06:26.021089\n",
            "682 time: 0:06:26.541948\n",
            "683 time: 0:06:27.057399\n",
            "684 time: 0:06:27.571715\n",
            "685 time: 0:06:28.090319\n",
            "686 time: 0:06:28.600164\n",
            "687 time: 0:06:29.108273\n",
            "688 time: 0:06:29.623313\n",
            "689 time: 0:06:30.138218\n",
            "690 time: 0:06:30.652159\n",
            "691 time: 0:06:31.162413\n",
            "692 time: 0:06:31.672168\n",
            "693 time: 0:06:32.186969\n",
            "694 time: 0:06:32.698036\n",
            "695 time: 0:06:33.208753\n",
            "696 time: 0:06:33.722878\n",
            "697 time: 0:06:34.236180\n",
            "698 time: 0:06:34.749774\n",
            "699 time: 0:06:35.262237\n",
            "700 time: 0:06:35.792112\n",
            "701 time: 0:06:36.854336\n",
            "702 time: 0:06:37.379294\n",
            "703 time: 0:06:37.911643\n",
            "704 time: 0:06:38.426253\n",
            "705 time: 0:06:38.940601\n",
            "706 time: 0:06:39.456831\n",
            "707 time: 0:06:39.982554\n",
            "708 time: 0:06:40.500493\n",
            "709 time: 0:06:41.023006\n",
            "710 time: 0:06:41.534909\n",
            "711 time: 0:06:42.047879\n",
            "712 time: 0:06:42.557322\n",
            "713 time: 0:06:43.088498\n",
            "714 time: 0:06:43.604051\n",
            "715 time: 0:06:44.115167\n",
            "716 time: 0:06:44.630383\n",
            "717 time: 0:06:45.144492\n",
            "718 time: 0:06:45.653254\n",
            "719 time: 0:06:46.160391\n",
            "720 time: 0:06:46.678701\n",
            "721 time: 0:06:47.195849\n",
            "722 time: 0:06:47.710023\n",
            "723 time: 0:06:48.233175\n",
            "724 time: 0:06:48.754373\n",
            "725 time: 0:06:49.268299\n",
            "726 time: 0:06:49.780843\n",
            "727 time: 0:06:50.287353\n",
            "728 time: 0:06:50.805576\n",
            "729 time: 0:06:51.320691\n",
            "730 time: 0:06:51.832289\n",
            "731 time: 0:06:52.348804\n",
            "732 time: 0:06:52.870033\n",
            "733 time: 0:06:53.392784\n",
            "734 time: 0:06:53.903544\n",
            "735 time: 0:06:54.418955\n",
            "736 time: 0:06:54.941493\n",
            "737 time: 0:06:55.459738\n",
            "738 time: 0:06:55.977663\n",
            "739 time: 0:06:56.496945\n",
            "740 time: 0:06:57.006317\n",
            "741 time: 0:06:57.516835\n",
            "742 time: 0:06:58.032219\n",
            "743 time: 0:06:58.540916\n",
            "744 time: 0:06:59.055910\n",
            "745 time: 0:06:59.564525\n",
            "746 time: 0:07:00.086199\n",
            "747 time: 0:07:00.602105\n",
            "748 time: 0:07:01.114724\n",
            "749 time: 0:07:01.623144\n",
            "750 time: 0:07:02.131979\n",
            "751 time: 0:07:03.167576\n",
            "752 time: 0:07:03.684096\n",
            "753 time: 0:07:04.197704\n",
            "754 time: 0:07:04.705768\n",
            "755 time: 0:07:05.220373\n",
            "756 time: 0:07:05.733126\n",
            "757 time: 0:07:06.243168\n",
            "758 time: 0:07:06.755864\n",
            "759 time: 0:07:07.269809\n",
            "760 time: 0:07:07.784495\n",
            "761 time: 0:07:08.302875\n",
            "762 time: 0:07:08.821183\n",
            "763 time: 0:07:09.333468\n",
            "764 time: 0:07:09.849244\n",
            "765 time: 0:07:10.362790\n",
            "766 time: 0:07:10.878430\n",
            "767 time: 0:07:11.390967\n",
            "768 time: 0:07:11.912295\n",
            "769 time: 0:07:12.429491\n",
            "770 time: 0:07:12.951921\n",
            "771 time: 0:07:13.467754\n",
            "772 time: 0:07:13.980890\n",
            "773 time: 0:07:14.492692\n",
            "774 time: 0:07:15.013161\n",
            "775 time: 0:07:15.530874\n",
            "776 time: 0:07:16.045013\n",
            "777 time: 0:07:16.568075\n",
            "778 time: 0:07:17.085023\n",
            "779 time: 0:07:17.599418\n",
            "780 time: 0:07:18.108128\n",
            "781 time: 0:07:18.620705\n",
            "782 time: 0:07:19.136114\n",
            "783 time: 0:07:19.648981\n",
            "784 time: 0:07:20.162556\n",
            "785 time: 0:07:20.678767\n",
            "786 time: 0:07:21.190067\n",
            "787 time: 0:07:21.709741\n",
            "788 time: 0:07:22.223826\n",
            "789 time: 0:07:22.740321\n",
            "790 time: 0:07:23.255954\n",
            "791 time: 0:07:23.774374\n",
            "792 time: 0:07:24.298107\n",
            "793 time: 0:07:24.816287\n",
            "794 time: 0:07:25.340268\n",
            "795 time: 0:07:25.856597\n",
            "796 time: 0:07:26.374206\n",
            "797 time: 0:07:26.898461\n",
            "798 time: 0:07:27.417811\n",
            "799 time: 0:07:27.932003\n",
            "800 time: 0:07:28.450333\n",
            "801 time: 0:07:29.515071\n",
            "802 time: 0:07:30.035534\n",
            "803 time: 0:07:30.551077\n",
            "804 time: 0:07:31.064775\n",
            "805 time: 0:07:31.583049\n",
            "806 time: 0:07:32.104463\n",
            "807 time: 0:07:32.616415\n",
            "808 time: 0:07:33.131654\n",
            "809 time: 0:07:33.645558\n",
            "810 time: 0:07:34.159459\n",
            "811 time: 0:07:34.674156\n",
            "812 time: 0:07:35.188236\n",
            "813 time: 0:07:35.702383\n",
            "814 time: 0:07:36.219029\n",
            "815 time: 0:07:36.732525\n",
            "816 time: 0:07:37.252727\n",
            "817 time: 0:07:37.769843\n",
            "818 time: 0:07:38.284788\n",
            "819 time: 0:07:38.793245\n",
            "820 time: 0:07:39.313791\n",
            "821 time: 0:07:39.836946\n",
            "822 time: 0:07:40.360356\n",
            "823 time: 0:07:40.881204\n",
            "824 time: 0:07:41.396995\n",
            "825 time: 0:07:41.912728\n",
            "826 time: 0:07:42.426561\n",
            "827 time: 0:07:42.949040\n",
            "828 time: 0:07:43.470509\n",
            "829 time: 0:07:43.987725\n",
            "830 time: 0:07:44.501685\n",
            "831 time: 0:07:45.012478\n",
            "832 time: 0:07:45.528186\n",
            "833 time: 0:07:46.050745\n",
            "834 time: 0:07:46.564429\n",
            "835 time: 0:07:47.082340\n",
            "836 time: 0:07:47.599103\n",
            "837 time: 0:07:48.113344\n",
            "838 time: 0:07:48.623355\n",
            "839 time: 0:07:49.133453\n",
            "840 time: 0:07:49.646064\n",
            "841 time: 0:07:50.171655\n",
            "842 time: 0:07:50.694364\n",
            "843 time: 0:07:51.207436\n",
            "844 time: 0:07:51.718680\n",
            "845 time: 0:07:52.238755\n",
            "846 time: 0:07:52.750240\n",
            "847 time: 0:07:53.267419\n",
            "848 time: 0:07:53.785358\n",
            "849 time: 0:07:54.304059\n",
            "850 time: 0:07:54.818147\n",
            "851 time: 0:07:55.854864\n",
            "852 time: 0:07:56.370952\n",
            "853 time: 0:07:56.890168\n",
            "854 time: 0:07:57.402129\n",
            "855 time: 0:07:57.923313\n",
            "856 time: 0:07:58.442566\n",
            "857 time: 0:07:58.952904\n",
            "858 time: 0:07:59.461392\n",
            "859 time: 0:07:59.973555\n",
            "860 time: 0:08:00.483753\n",
            "861 time: 0:08:01.004348\n",
            "862 time: 0:08:01.516323\n",
            "863 time: 0:08:02.025839\n",
            "864 time: 0:08:02.538473\n",
            "865 time: 0:08:03.049156\n",
            "866 time: 0:08:03.559916\n",
            "867 time: 0:08:04.068430\n",
            "868 time: 0:08:04.588540\n",
            "869 time: 0:08:05.099444\n",
            "870 time: 0:08:05.609347\n",
            "871 time: 0:08:06.122569\n",
            "872 time: 0:08:06.639470\n",
            "873 time: 0:08:07.167520\n",
            "874 time: 0:08:07.677369\n",
            "875 time: 0:08:08.187781\n",
            "876 time: 0:08:08.699540\n",
            "877 time: 0:08:09.215111\n",
            "878 time: 0:08:09.726741\n",
            "879 time: 0:08:10.239489\n",
            "880 time: 0:08:10.755004\n",
            "881 time: 0:08:11.271512\n",
            "882 time: 0:08:11.781398\n",
            "883 time: 0:08:12.293929\n",
            "884 time: 0:08:12.807312\n",
            "885 time: 0:08:13.323452\n",
            "886 time: 0:08:13.835220\n",
            "887 time: 0:08:14.346749\n",
            "888 time: 0:08:14.859827\n",
            "889 time: 0:08:15.379440\n",
            "890 time: 0:08:15.898647\n",
            "891 time: 0:08:16.413783\n",
            "892 time: 0:08:16.930712\n",
            "893 time: 0:08:17.444266\n",
            "894 time: 0:08:17.954582\n",
            "895 time: 0:08:18.464414\n",
            "896 time: 0:08:18.982154\n",
            "897 time: 0:08:19.501557\n",
            "898 time: 0:08:20.014362\n",
            "899 time: 0:08:20.524518\n",
            "900 time: 0:08:21.039613\n",
            "901 time: 0:08:22.075376\n",
            "902 time: 0:08:22.589790\n",
            "903 time: 0:08:23.099411\n",
            "904 time: 0:08:23.619761\n",
            "905 time: 0:08:24.138315\n",
            "906 time: 0:08:24.652542\n",
            "907 time: 0:08:25.162751\n",
            "908 time: 0:08:25.676868\n",
            "909 time: 0:08:26.191166\n",
            "910 time: 0:08:26.698813\n",
            "911 time: 0:08:27.212268\n",
            "912 time: 0:08:27.741236\n",
            "913 time: 0:08:28.257517\n",
            "914 time: 0:08:28.773834\n",
            "915 time: 0:08:29.285721\n",
            "916 time: 0:08:29.799527\n",
            "917 time: 0:08:30.310366\n",
            "918 time: 0:08:30.821101\n",
            "919 time: 0:08:31.332876\n",
            "920 time: 0:08:31.843080\n",
            "921 time: 0:08:32.359738\n",
            "922 time: 0:08:32.873860\n",
            "923 time: 0:08:33.386723\n",
            "924 time: 0:08:33.902684\n",
            "925 time: 0:08:34.413885\n",
            "926 time: 0:08:34.925327\n",
            "927 time: 0:08:35.431975\n",
            "928 time: 0:08:35.948923\n",
            "929 time: 0:08:36.460060\n",
            "930 time: 0:08:36.972300\n",
            "931 time: 0:08:37.484835\n",
            "932 time: 0:08:38.003572\n",
            "933 time: 0:08:38.514096\n",
            "934 time: 0:08:39.023029\n",
            "935 time: 0:08:39.532313\n",
            "936 time: 0:08:40.041699\n",
            "937 time: 0:08:40.552875\n",
            "938 time: 0:08:41.070007\n",
            "939 time: 0:08:41.585038\n",
            "940 time: 0:08:42.100471\n",
            "941 time: 0:08:42.612101\n",
            "942 time: 0:08:43.124920\n",
            "943 time: 0:08:43.639529\n",
            "944 time: 0:08:44.155230\n",
            "945 time: 0:08:44.667529\n",
            "946 time: 0:08:45.180028\n",
            "947 time: 0:08:45.691884\n",
            "948 time: 0:08:46.204901\n",
            "949 time: 0:08:46.718710\n",
            "950 time: 0:08:47.247142\n",
            "951 time: 0:08:48.283491\n",
            "952 time: 0:08:48.798584\n",
            "953 time: 0:08:49.315305\n",
            "954 time: 0:08:49.830359\n",
            "955 time: 0:08:50.352801\n",
            "956 time: 0:08:50.864992\n",
            "957 time: 0:08:51.377198\n",
            "958 time: 0:08:51.891973\n",
            "959 time: 0:08:52.404107\n",
            "960 time: 0:08:52.917568\n",
            "961 time: 0:08:53.429905\n",
            "962 time: 0:08:53.950605\n",
            "963 time: 0:08:54.473005\n",
            "964 time: 0:08:54.986647\n",
            "965 time: 0:08:55.495320\n",
            "966 time: 0:08:56.008398\n",
            "967 time: 0:08:56.515957\n",
            "968 time: 0:08:57.026786\n",
            "969 time: 0:08:57.540164\n",
            "970 time: 0:08:58.069712\n",
            "971 time: 0:08:58.593912\n",
            "972 time: 0:08:59.105516\n",
            "973 time: 0:08:59.618499\n",
            "974 time: 0:09:00.132937\n",
            "975 time: 0:09:00.645165\n",
            "976 time: 0:09:01.158200\n",
            "977 time: 0:09:01.678729\n",
            "978 time: 0:09:02.197445\n",
            "979 time: 0:09:02.726043\n",
            "980 time: 0:09:03.239897\n",
            "981 time: 0:09:03.763895\n",
            "982 time: 0:09:04.276927\n",
            "983 time: 0:09:04.806783\n",
            "984 time: 0:09:05.318843\n",
            "985 time: 0:09:05.839140\n",
            "986 time: 0:09:06.351190\n",
            "987 time: 0:09:06.872791\n",
            "988 time: 0:09:07.386183\n",
            "989 time: 0:09:07.914284\n",
            "990 time: 0:09:08.430025\n",
            "991 time: 0:09:08.958632\n",
            "992 time: 0:09:09.471315\n",
            "993 time: 0:09:09.985456\n",
            "994 time: 0:09:10.499193\n",
            "995 time: 0:09:11.012567\n",
            "996 time: 0:09:11.524283\n",
            "997 time: 0:09:12.050669\n",
            "998 time: 0:09:12.564392\n",
            "999 time: 0:09:13.083410\n",
            "1000 time: 0:09:13.593924\n",
            "1001 time: 0:09:14.627342\n",
            "1002 time: 0:09:15.151737\n",
            "1003 time: 0:09:15.667132\n",
            "1004 time: 0:09:16.183080\n",
            "1005 time: 0:09:16.696791\n",
            "1006 time: 0:09:17.207313\n",
            "1007 time: 0:09:17.719703\n",
            "1008 time: 0:09:18.232087\n",
            "1009 time: 0:09:18.745596\n",
            "1010 time: 0:09:19.258751\n",
            "1011 time: 0:09:19.779922\n",
            "1012 time: 0:09:20.292696\n",
            "1013 time: 0:09:20.811939\n",
            "1014 time: 0:09:21.323850\n",
            "1015 time: 0:09:21.830652\n",
            "1016 time: 0:09:22.344856\n",
            "1017 time: 0:09:22.864982\n",
            "1018 time: 0:09:23.377137\n",
            "1019 time: 0:09:23.888812\n",
            "1020 time: 0:09:24.403882\n",
            "1021 time: 0:09:24.921301\n",
            "1022 time: 0:09:25.436718\n",
            "1023 time: 0:09:25.955390\n",
            "1024 time: 0:09:26.472281\n",
            "1025 time: 0:09:26.998278\n",
            "1026 time: 0:09:27.512850\n",
            "1027 time: 0:09:28.029565\n",
            "1028 time: 0:09:28.546479\n",
            "1029 time: 0:09:29.059466\n",
            "1030 time: 0:09:29.578837\n",
            "1031 time: 0:09:30.092551\n",
            "1032 time: 0:09:30.612448\n",
            "1033 time: 0:09:31.131979\n",
            "1034 time: 0:09:31.645934\n",
            "1035 time: 0:09:32.157850\n",
            "1036 time: 0:09:32.669145\n",
            "1037 time: 0:09:33.178763\n",
            "1038 time: 0:09:33.691205\n",
            "1039 time: 0:09:34.207722\n",
            "1040 time: 0:09:34.728110\n",
            "1041 time: 0:09:35.239868\n",
            "1042 time: 0:09:35.761907\n",
            "1043 time: 0:09:36.277833\n",
            "1044 time: 0:09:36.789488\n",
            "1045 time: 0:09:37.300449\n",
            "1046 time: 0:09:37.820379\n",
            "1047 time: 0:09:38.330385\n",
            "1048 time: 0:09:38.853528\n",
            "1049 time: 0:09:39.373307\n",
            "1050 time: 0:09:39.892380\n",
            "1051 time: 0:09:40.932165\n",
            "1052 time: 0:09:41.449720\n",
            "1053 time: 0:09:41.971183\n",
            "1054 time: 0:09:42.489034\n",
            "1055 time: 0:09:43.018147\n",
            "1056 time: 0:09:43.527562\n",
            "1057 time: 0:09:44.044758\n",
            "1058 time: 0:09:44.558998\n",
            "1059 time: 0:09:45.081723\n",
            "1060 time: 0:09:45.595888\n",
            "1061 time: 0:09:46.113766\n",
            "1062 time: 0:09:46.626284\n",
            "1063 time: 0:09:47.137292\n",
            "1064 time: 0:09:47.643486\n",
            "1065 time: 0:09:48.162656\n",
            "1066 time: 0:09:48.675879\n",
            "1067 time: 0:09:49.189436\n",
            "1068 time: 0:09:49.704254\n",
            "1069 time: 0:09:50.242779\n",
            "1070 time: 0:09:50.756607\n",
            "1071 time: 0:09:51.263767\n",
            "1072 time: 0:09:51.773809\n",
            "1073 time: 0:09:52.290870\n",
            "1074 time: 0:09:52.805913\n",
            "1075 time: 0:09:53.327896\n",
            "1076 time: 0:09:53.840151\n",
            "1077 time: 0:09:54.354918\n",
            "1078 time: 0:09:54.865099\n",
            "1079 time: 0:09:55.374384\n",
            "1080 time: 0:09:55.887610\n",
            "1081 time: 0:09:56.401145\n",
            "1082 time: 0:09:56.919985\n",
            "1083 time: 0:09:57.434193\n",
            "1084 time: 0:09:57.951726\n",
            "1085 time: 0:09:58.466869\n",
            "1086 time: 0:09:58.976274\n",
            "1087 time: 0:09:59.481725\n",
            "1088 time: 0:09:59.996147\n",
            "1089 time: 0:10:00.517607\n",
            "1090 time: 0:10:01.042169\n",
            "1091 time: 0:10:01.556088\n",
            "1092 time: 0:10:02.068240\n",
            "1093 time: 0:10:02.585521\n",
            "1094 time: 0:10:03.099840\n",
            "1095 time: 0:10:03.606816\n",
            "1096 time: 0:10:04.121111\n",
            "1097 time: 0:10:04.637111\n",
            "1098 time: 0:10:05.153106\n",
            "1099 time: 0:10:05.671701\n",
            "1100 time: 0:10:06.184934\n",
            "1101 time: 0:10:07.227392\n",
            "1102 time: 0:10:07.737678\n",
            "1103 time: 0:10:08.257456\n",
            "1104 time: 0:10:08.779567\n",
            "1105 time: 0:10:09.306235\n",
            "1106 time: 0:10:09.838969\n",
            "1107 time: 0:10:10.350810\n",
            "1108 time: 0:10:10.872264\n",
            "1109 time: 0:10:11.394290\n",
            "1110 time: 0:10:11.913731\n",
            "1111 time: 0:10:12.427175\n",
            "1112 time: 0:10:12.942204\n",
            "1113 time: 0:10:13.452233\n",
            "1114 time: 0:10:13.967118\n",
            "1115 time: 0:10:14.489884\n",
            "1116 time: 0:10:15.016890\n",
            "1117 time: 0:10:15.534360\n",
            "1118 time: 0:10:16.047210\n",
            "1119 time: 0:10:16.557840\n",
            "1120 time: 0:10:17.069931\n",
            "1121 time: 0:10:17.596283\n",
            "1122 time: 0:10:18.117411\n",
            "1123 time: 0:10:18.634562\n",
            "1124 time: 0:10:19.153011\n",
            "1125 time: 0:10:19.666212\n",
            "1126 time: 0:10:20.182368\n",
            "1127 time: 0:10:20.703053\n",
            "1128 time: 0:10:21.221123\n",
            "1129 time: 0:10:21.735473\n",
            "1130 time: 0:10:22.256455\n",
            "1131 time: 0:10:22.777217\n",
            "1132 time: 0:10:23.291036\n",
            "1133 time: 0:10:23.804595\n",
            "1134 time: 0:10:24.316499\n",
            "1135 time: 0:10:24.836067\n",
            "1136 time: 0:10:25.360790\n",
            "1137 time: 0:10:25.874903\n",
            "1138 time: 0:10:26.389031\n",
            "1139 time: 0:10:26.906874\n",
            "1140 time: 0:10:27.415859\n",
            "1141 time: 0:10:27.926348\n",
            "1142 time: 0:10:28.436921\n",
            "1143 time: 0:10:28.954816\n",
            "1144 time: 0:10:29.472378\n",
            "1145 time: 0:10:29.995036\n",
            "1146 time: 0:10:30.507808\n",
            "1147 time: 0:10:31.021000\n",
            "1148 time: 0:10:31.529418\n",
            "1149 time: 0:10:32.052740\n",
            "1150 time: 0:10:32.574297\n",
            "1151 time: 0:10:33.638025\n",
            "1152 time: 0:10:34.147861\n",
            "1153 time: 0:10:34.665697\n",
            "1154 time: 0:10:35.193423\n",
            "1155 time: 0:10:35.711215\n",
            "1156 time: 0:10:36.224908\n",
            "1157 time: 0:10:36.745428\n",
            "1158 time: 0:10:37.258269\n",
            "1159 time: 0:10:37.774092\n",
            "1160 time: 0:10:38.290540\n",
            "1161 time: 0:10:38.821366\n",
            "1162 time: 0:10:39.356592\n",
            "1163 time: 0:10:39.867433\n",
            "1164 time: 0:10:40.389459\n",
            "1165 time: 0:10:40.918572\n",
            "1166 time: 0:10:41.435335\n",
            "1167 time: 0:10:41.953232\n",
            "1168 time: 0:10:42.481827\n",
            "1169 time: 0:10:43.002045\n",
            "1170 time: 0:10:43.524233\n",
            "1171 time: 0:10:44.037032\n",
            "1172 time: 0:10:44.561270\n",
            "1173 time: 0:10:45.084390\n",
            "1174 time: 0:10:45.599827\n",
            "1175 time: 0:10:46.109125\n",
            "1176 time: 0:10:46.634264\n",
            "1177 time: 0:10:47.154720\n",
            "1178 time: 0:10:47.667869\n",
            "1179 time: 0:10:48.179817\n",
            "1180 time: 0:10:48.696604\n",
            "1181 time: 0:10:49.206422\n",
            "1182 time: 0:10:49.726267\n",
            "1183 time: 0:10:50.238347\n",
            "1184 time: 0:10:50.760935\n",
            "1185 time: 0:10:51.271299\n",
            "1186 time: 0:10:51.782108\n",
            "1187 time: 0:10:52.292284\n",
            "1188 time: 0:10:52.805185\n",
            "1189 time: 0:10:53.308928\n",
            "1190 time: 0:10:53.832168\n",
            "1191 time: 0:10:54.343553\n",
            "1192 time: 0:10:54.870224\n",
            "1193 time: 0:10:55.382879\n",
            "1194 time: 0:10:55.901854\n",
            "1195 time: 0:10:56.412277\n",
            "1196 time: 0:10:56.939859\n",
            "1197 time: 0:10:57.449797\n",
            "1198 time: 0:10:57.973123\n",
            "1199 time: 0:10:58.493300\n",
            "1200 time: 0:10:59.019816\n",
            "1201 time: 0:11:00.051828\n",
            "1202 time: 0:11:00.562781\n",
            "1203 time: 0:11:01.087052\n",
            "1204 time: 0:11:01.603116\n",
            "1205 time: 0:11:02.120502\n",
            "1206 time: 0:11:02.639108\n",
            "1207 time: 0:11:03.153241\n",
            "1208 time: 0:11:03.664348\n",
            "1209 time: 0:11:04.179462\n",
            "1210 time: 0:11:04.700749\n",
            "1211 time: 0:11:05.220813\n",
            "1212 time: 0:11:05.734438\n",
            "1213 time: 0:11:06.250022\n",
            "1214 time: 0:11:06.767457\n",
            "1215 time: 0:11:07.276803\n",
            "1216 time: 0:11:07.787771\n",
            "1217 time: 0:11:08.302981\n",
            "1218 time: 0:11:08.822973\n",
            "1219 time: 0:11:09.340002\n",
            "1220 time: 0:11:09.866754\n",
            "1221 time: 0:11:10.377759\n",
            "1222 time: 0:11:10.888164\n",
            "1223 time: 0:11:11.396555\n",
            "1224 time: 0:11:11.919900\n",
            "1225 time: 0:11:12.432913\n",
            "1226 time: 0:11:12.942998\n",
            "1227 time: 0:11:13.456746\n",
            "1228 time: 0:11:13.969863\n",
            "1229 time: 0:11:14.476931\n",
            "1230 time: 0:11:14.989784\n",
            "1231 time: 0:11:15.497524\n",
            "1232 time: 0:11:16.006561\n",
            "1233 time: 0:11:16.526444\n",
            "1234 time: 0:11:17.042326\n",
            "1235 time: 0:11:17.554824\n",
            "1236 time: 0:11:18.066109\n",
            "1237 time: 0:11:18.578097\n",
            "1238 time: 0:11:19.090696\n",
            "1239 time: 0:11:19.604724\n",
            "1240 time: 0:11:20.119005\n",
            "1241 time: 0:11:20.632660\n",
            "1242 time: 0:11:21.148459\n",
            "1243 time: 0:11:21.668654\n",
            "1244 time: 0:11:22.193583\n",
            "1245 time: 0:11:22.714953\n",
            "1246 time: 0:11:23.226938\n",
            "1247 time: 0:11:23.741883\n",
            "1248 time: 0:11:24.253039\n",
            "1249 time: 0:11:24.767420\n",
            "1250 time: 0:11:25.280085\n",
            "1251 time: 0:11:26.332115\n",
            "1252 time: 0:11:26.857496\n",
            "1253 time: 0:11:27.368511\n",
            "1254 time: 0:11:27.879498\n",
            "1255 time: 0:11:28.389906\n",
            "1256 time: 0:11:28.916460\n",
            "1257 time: 0:11:29.423156\n",
            "1258 time: 0:11:29.935704\n",
            "1259 time: 0:11:30.448869\n",
            "1260 time: 0:11:30.965223\n",
            "1261 time: 0:11:31.477867\n",
            "1262 time: 0:11:31.989488\n",
            "1263 time: 0:11:32.510730\n",
            "1264 time: 0:11:33.025095\n",
            "1265 time: 0:11:33.538590\n",
            "1266 time: 0:11:34.064097\n",
            "1267 time: 0:11:34.579723\n",
            "1268 time: 0:11:35.099608\n",
            "1269 time: 0:11:35.610574\n",
            "1270 time: 0:11:36.132712\n",
            "1271 time: 0:11:36.647424\n",
            "1272 time: 0:11:37.162896\n",
            "1273 time: 0:11:37.680935\n",
            "1274 time: 0:11:38.199501\n",
            "1275 time: 0:11:38.714751\n",
            "1276 time: 0:11:39.225932\n",
            "1277 time: 0:11:39.734830\n",
            "1278 time: 0:11:40.261015\n",
            "1279 time: 0:11:40.775266\n",
            "1280 time: 0:11:41.287139\n",
            "1281 time: 0:11:41.800965\n",
            "1282 time: 0:11:42.314365\n",
            "1283 time: 0:11:42.823829\n",
            "1284 time: 0:11:43.345241\n",
            "1285 time: 0:11:43.858012\n",
            "1286 time: 0:11:44.377483\n",
            "1287 time: 0:11:44.894787\n",
            "1288 time: 0:11:45.410814\n",
            "1289 time: 0:11:45.922007\n",
            "1290 time: 0:11:46.435048\n",
            "1291 time: 0:11:46.947426\n",
            "1292 time: 0:11:47.457368\n",
            "1293 time: 0:11:47.966439\n",
            "1294 time: 0:11:48.481290\n",
            "1295 time: 0:11:48.992573\n",
            "1296 time: 0:11:49.509220\n",
            "1297 time: 0:11:50.023700\n",
            "1298 time: 0:11:50.542997\n",
            "1299 time: 0:11:51.051190\n",
            "1300 time: 0:11:51.562010\n",
            "1301 time: 0:11:52.607922\n",
            "1302 time: 0:11:53.119843\n",
            "1303 time: 0:11:53.642106\n",
            "1304 time: 0:11:54.157934\n",
            "1305 time: 0:11:54.671029\n",
            "1306 time: 0:11:55.185749\n",
            "1307 time: 0:11:55.700442\n",
            "1308 time: 0:11:56.209703\n",
            "1309 time: 0:11:56.722264\n",
            "1310 time: 0:11:57.249965\n",
            "1311 time: 0:11:57.765963\n",
            "1312 time: 0:11:58.277323\n",
            "1313 time: 0:11:58.788930\n",
            "1314 time: 0:11:59.299044\n",
            "1315 time: 0:11:59.820500\n",
            "1316 time: 0:12:00.330299\n",
            "1317 time: 0:12:00.843255\n",
            "1318 time: 0:12:01.349284\n",
            "1319 time: 0:12:01.860108\n",
            "1320 time: 0:12:02.369410\n",
            "1321 time: 0:12:02.882399\n",
            "1322 time: 0:12:03.399049\n",
            "1323 time: 0:12:03.910413\n",
            "1324 time: 0:12:04.424672\n",
            "1325 time: 0:12:04.931287\n",
            "1326 time: 0:12:05.442290\n",
            "1327 time: 0:12:05.956414\n",
            "1328 time: 0:12:06.476919\n",
            "1329 time: 0:12:06.994939\n",
            "1330 time: 0:12:07.510952\n",
            "1331 time: 0:12:08.029952\n",
            "1332 time: 0:12:08.539607\n",
            "1333 time: 0:12:09.052257\n",
            "1334 time: 0:12:09.564877\n",
            "1335 time: 0:12:10.082243\n",
            "1336 time: 0:12:10.594906\n",
            "1337 time: 0:12:11.110838\n",
            "1338 time: 0:12:11.626903\n",
            "1339 time: 0:12:12.141575\n",
            "1340 time: 0:12:12.655566\n",
            "1341 time: 0:12:13.169768\n",
            "1342 time: 0:12:13.686716\n",
            "1343 time: 0:12:14.216844\n",
            "1344 time: 0:12:14.737403\n",
            "1345 time: 0:12:15.251789\n",
            "1346 time: 0:12:15.765642\n",
            "1347 time: 0:12:16.279710\n",
            "1348 time: 0:12:16.799476\n",
            "1349 time: 0:12:17.317224\n",
            "1350 time: 0:12:17.835205\n",
            "1351 time: 0:12:18.869277\n",
            "1352 time: 0:12:19.377704\n",
            "1353 time: 0:12:19.890770\n",
            "1354 time: 0:12:20.408060\n",
            "1355 time: 0:12:20.930909\n",
            "1356 time: 0:12:21.454149\n",
            "1357 time: 0:12:21.977791\n",
            "1358 time: 0:12:22.505108\n",
            "1359 time: 0:12:23.017771\n",
            "1360 time: 0:12:23.536419\n",
            "1361 time: 0:12:24.057027\n",
            "1362 time: 0:12:24.578779\n",
            "1363 time: 0:12:25.090654\n",
            "1364 time: 0:12:25.607861\n",
            "1365 time: 0:12:26.113798\n",
            "1366 time: 0:12:26.629160\n",
            "1367 time: 0:12:27.140267\n",
            "1368 time: 0:12:27.664783\n",
            "1369 time: 0:12:28.183745\n",
            "1370 time: 0:12:28.696479\n",
            "1371 time: 0:12:29.207425\n",
            "1372 time: 0:12:29.720443\n",
            "1373 time: 0:12:30.226181\n",
            "1374 time: 0:12:30.746428\n",
            "1375 time: 0:12:31.254876\n",
            "1376 time: 0:12:31.772236\n",
            "1377 time: 0:12:32.292661\n",
            "1378 time: 0:12:32.808526\n",
            "1379 time: 0:12:33.322164\n",
            "1380 time: 0:12:33.832719\n",
            "1381 time: 0:12:34.348040\n",
            "1382 time: 0:12:34.868685\n",
            "1383 time: 0:12:35.379181\n",
            "1384 time: 0:12:35.899318\n",
            "1385 time: 0:12:36.410492\n",
            "1386 time: 0:12:36.934034\n",
            "1387 time: 0:12:37.444088\n",
            "1388 time: 0:12:37.953942\n",
            "1389 time: 0:12:38.463725\n",
            "1390 time: 0:12:38.978506\n",
            "1391 time: 0:12:39.488850\n",
            "1392 time: 0:12:40.018087\n",
            "1393 time: 0:12:40.531014\n",
            "1394 time: 0:12:41.044922\n",
            "1395 time: 0:12:41.557416\n",
            "1396 time: 0:12:42.066758\n",
            "1397 time: 0:12:42.580275\n",
            "1398 time: 0:12:43.107368\n",
            "1399 time: 0:12:43.620387\n",
            "1400 time: 0:12:44.140598\n",
            "1401 time: 0:12:45.629921\n",
            "1402 time: 0:12:46.149722\n",
            "1403 time: 0:12:46.664922\n",
            "1404 time: 0:12:47.184478\n",
            "1405 time: 0:12:47.701861\n",
            "1406 time: 0:12:48.219074\n",
            "1407 time: 0:12:48.739823\n",
            "1408 time: 0:12:49.261962\n",
            "1409 time: 0:12:49.776934\n",
            "1410 time: 0:12:50.297090\n",
            "1411 time: 0:12:50.810750\n",
            "1412 time: 0:12:51.329794\n",
            "1413 time: 0:12:51.842731\n",
            "1414 time: 0:12:52.360790\n",
            "1415 time: 0:12:52.883157\n",
            "1416 time: 0:12:53.393936\n",
            "1417 time: 0:12:53.910871\n",
            "1418 time: 0:12:54.425466\n",
            "1419 time: 0:12:54.937371\n",
            "1420 time: 0:12:55.447910\n",
            "1421 time: 0:12:55.978401\n",
            "1422 time: 0:12:56.502782\n",
            "1423 time: 0:12:57.014420\n",
            "1424 time: 0:12:57.529955\n",
            "1425 time: 0:12:58.050187\n",
            "1426 time: 0:12:58.565116\n",
            "1427 time: 0:12:59.074762\n",
            "1428 time: 0:12:59.588479\n",
            "1429 time: 0:13:00.110757\n",
            "1430 time: 0:13:00.629479\n",
            "1431 time: 0:13:01.151724\n",
            "1432 time: 0:13:01.664543\n",
            "1433 time: 0:13:02.182952\n",
            "1434 time: 0:13:02.702199\n",
            "1435 time: 0:13:03.230902\n",
            "1436 time: 0:13:03.743723\n",
            "1437 time: 0:13:04.257865\n",
            "1438 time: 0:13:04.778980\n",
            "1439 time: 0:13:05.287816\n",
            "1440 time: 0:13:05.801104\n",
            "1441 time: 0:13:06.317891\n",
            "1442 time: 0:13:06.835756\n",
            "1443 time: 0:13:07.348075\n",
            "1444 time: 0:13:07.862804\n",
            "1445 time: 0:13:08.376722\n",
            "1446 time: 0:13:08.888222\n",
            "1447 time: 0:13:09.406051\n",
            "1448 time: 0:13:09.919752\n",
            "1449 time: 0:13:10.433814\n",
            "1450 time: 0:13:10.948988\n",
            "1451 time: 0:13:11.998352\n",
            "1452 time: 0:13:12.508421\n",
            "1453 time: 0:13:13.022072\n",
            "1454 time: 0:13:13.533018\n",
            "1455 time: 0:13:14.050192\n",
            "1456 time: 0:13:14.564321\n",
            "1457 time: 0:13:15.077718\n",
            "1458 time: 0:13:15.588349\n",
            "1459 time: 0:13:16.098795\n",
            "1460 time: 0:13:16.610250\n",
            "1461 time: 0:13:17.122611\n",
            "1462 time: 0:13:17.634717\n",
            "1463 time: 0:13:18.149289\n",
            "1464 time: 0:13:18.670069\n",
            "1465 time: 0:13:19.189027\n",
            "1466 time: 0:13:19.706192\n",
            "1467 time: 0:13:20.217649\n",
            "1468 time: 0:13:20.725134\n",
            "1469 time: 0:13:21.234924\n",
            "1470 time: 0:13:21.745711\n",
            "1471 time: 0:13:22.251192\n",
            "1472 time: 0:13:22.760823\n",
            "1473 time: 0:13:23.271886\n",
            "1474 time: 0:13:23.785860\n",
            "1475 time: 0:13:24.299998\n",
            "1476 time: 0:13:24.827398\n",
            "1477 time: 0:13:25.348295\n",
            "1478 time: 0:13:25.859897\n",
            "1479 time: 0:13:26.368335\n",
            "1480 time: 0:13:26.887992\n",
            "1481 time: 0:13:27.400947\n",
            "1482 time: 0:13:27.921939\n",
            "1483 time: 0:13:28.433898\n",
            "1484 time: 0:13:28.950740\n",
            "1485 time: 0:13:29.465925\n",
            "1486 time: 0:13:29.976487\n",
            "1487 time: 0:13:30.488266\n",
            "1488 time: 0:13:31.011417\n",
            "1489 time: 0:13:31.529863\n",
            "1490 time: 0:13:32.056060\n",
            "1491 time: 0:13:32.565138\n",
            "1492 time: 0:13:33.085932\n",
            "1493 time: 0:13:33.602297\n"
          ],
          "name": "stdout"
        },
        {
          "output_type": "error",
          "ename": "KeyboardInterrupt",
          "evalue": "ignored",
          "traceback": [
            "\u001b[0;31m---------------------------------------------------------------------------\u001b[0m",
            "\u001b[0;31mKeyboardInterrupt\u001b[0m                         Traceback (most recent call last)",
            "\u001b[0;32m<ipython-input-38-357936697dea>\u001b[0m in \u001b[0;36m<module>\u001b[0;34m()\u001b[0m\n\u001b[1;32m    261\u001b[0m     \u001b[0mgan\u001b[0m \u001b[0;34m=\u001b[0m \u001b[0mSRGAN\u001b[0m\u001b[0;34m(\u001b[0m\u001b[0;34m)\u001b[0m\u001b[0;34m\u001b[0m\u001b[0;34m\u001b[0m\u001b[0m\n\u001b[1;32m    262\u001b[0m     \u001b[0mDataLoader\u001b[0m \u001b[0;34m=\u001b[0m \u001b[0mDataLoader\u001b[0m\u001b[0;34m(\u001b[0m\u001b[0mdataset_name\u001b[0m\u001b[0;34m=\u001b[0m\u001b[0;32mNone\u001b[0m\u001b[0;34m)\u001b[0m\u001b[0;34m\u001b[0m\u001b[0;34m\u001b[0m\u001b[0m\n\u001b[0;32m--> 263\u001b[0;31m     \u001b[0mgan\u001b[0m\u001b[0;34m.\u001b[0m\u001b[0mtrain\u001b[0m\u001b[0;34m(\u001b[0m\u001b[0mepochs\u001b[0m\u001b[0;34m=\u001b[0m\u001b[0;36m30000\u001b[0m\u001b[0;34m,\u001b[0m \u001b[0mbatch_size\u001b[0m\u001b[0;34m=\u001b[0m\u001b[0;36m1\u001b[0m\u001b[0;34m,\u001b[0m \u001b[0msample_interval\u001b[0m\u001b[0;34m=\u001b[0m\u001b[0;36m50\u001b[0m\u001b[0;34m)\u001b[0m\u001b[0;34m\u001b[0m\u001b[0;34m\u001b[0m\u001b[0m\n\u001b[0m",
            "\u001b[0;32m<ipython-input-38-357936697dea>\u001b[0m in \u001b[0;36mtrain\u001b[0;34m(self, epochs, batch_size, sample_interval)\u001b[0m\n\u001b[1;32m    216\u001b[0m \u001b[0;34m\u001b[0m\u001b[0m\n\u001b[1;32m    217\u001b[0m             \u001b[0;31m# Train the generators\u001b[0m\u001b[0;34m\u001b[0m\u001b[0;34m\u001b[0m\u001b[0;34m\u001b[0m\u001b[0m\n\u001b[0;32m--> 218\u001b[0;31m             \u001b[0mg_loss\u001b[0m \u001b[0;34m=\u001b[0m \u001b[0mself\u001b[0m\u001b[0;34m.\u001b[0m\u001b[0mcombined\u001b[0m\u001b[0;34m.\u001b[0m\u001b[0mtrain_on_batch\u001b[0m\u001b[0;34m(\u001b[0m\u001b[0;34m[\u001b[0m\u001b[0mimgs_lr\u001b[0m\u001b[0;34m,\u001b[0m \u001b[0mimgs_hr\u001b[0m\u001b[0;34m]\u001b[0m\u001b[0;34m,\u001b[0m \u001b[0;34m[\u001b[0m\u001b[0mvalid\u001b[0m\u001b[0;34m,\u001b[0m \u001b[0mimage_features\u001b[0m\u001b[0;34m]\u001b[0m\u001b[0;34m)\u001b[0m\u001b[0;34m\u001b[0m\u001b[0;34m\u001b[0m\u001b[0m\n\u001b[0m\u001b[1;32m    219\u001b[0m \u001b[0;34m\u001b[0m\u001b[0m\n\u001b[1;32m    220\u001b[0m             \u001b[0melapsed_time\u001b[0m \u001b[0;34m=\u001b[0m \u001b[0mdatetime\u001b[0m\u001b[0;34m.\u001b[0m\u001b[0mdatetime\u001b[0m\u001b[0;34m.\u001b[0m\u001b[0mnow\u001b[0m\u001b[0;34m(\u001b[0m\u001b[0;34m)\u001b[0m \u001b[0;34m-\u001b[0m \u001b[0mstart_time\u001b[0m\u001b[0;34m\u001b[0m\u001b[0;34m\u001b[0m\u001b[0m\n",
            "\u001b[0;32m/usr/local/lib/python3.6/dist-packages/keras/engine/training.py\u001b[0m in \u001b[0;36mtrain_on_batch\u001b[0;34m(self, x, y, sample_weight, class_weight)\u001b[0m\n\u001b[1;32m   1447\u001b[0m             \u001b[0mins\u001b[0m \u001b[0;34m=\u001b[0m \u001b[0mx\u001b[0m \u001b[0;34m+\u001b[0m \u001b[0my\u001b[0m \u001b[0;34m+\u001b[0m \u001b[0msample_weights\u001b[0m\u001b[0;34m\u001b[0m\u001b[0;34m\u001b[0m\u001b[0m\n\u001b[1;32m   1448\u001b[0m         \u001b[0mself\u001b[0m\u001b[0;34m.\u001b[0m\u001b[0m_make_train_function\u001b[0m\u001b[0;34m(\u001b[0m\u001b[0;34m)\u001b[0m\u001b[0;34m\u001b[0m\u001b[0;34m\u001b[0m\u001b[0m\n\u001b[0;32m-> 1449\u001b[0;31m         \u001b[0moutputs\u001b[0m \u001b[0;34m=\u001b[0m \u001b[0mself\u001b[0m\u001b[0;34m.\u001b[0m\u001b[0mtrain_function\u001b[0m\u001b[0;34m(\u001b[0m\u001b[0mins\u001b[0m\u001b[0;34m)\u001b[0m\u001b[0;34m\u001b[0m\u001b[0;34m\u001b[0m\u001b[0m\n\u001b[0m\u001b[1;32m   1450\u001b[0m         \u001b[0;32mreturn\u001b[0m \u001b[0munpack_singleton\u001b[0m\u001b[0;34m(\u001b[0m\u001b[0moutputs\u001b[0m\u001b[0;34m)\u001b[0m\u001b[0;34m\u001b[0m\u001b[0;34m\u001b[0m\u001b[0m\n\u001b[1;32m   1451\u001b[0m \u001b[0;34m\u001b[0m\u001b[0m\n",
            "\u001b[0;32m/usr/local/lib/python3.6/dist-packages/keras/backend/tensorflow_backend.py\u001b[0m in \u001b[0;36m__call__\u001b[0;34m(self, inputs)\u001b[0m\n\u001b[1;32m   2977\u001b[0m                     \u001b[0;32mreturn\u001b[0m \u001b[0mself\u001b[0m\u001b[0;34m.\u001b[0m\u001b[0m_legacy_call\u001b[0m\u001b[0;34m(\u001b[0m\u001b[0minputs\u001b[0m\u001b[0;34m)\u001b[0m\u001b[0;34m\u001b[0m\u001b[0;34m\u001b[0m\u001b[0m\n\u001b[1;32m   2978\u001b[0m \u001b[0;34m\u001b[0m\u001b[0m\n\u001b[0;32m-> 2979\u001b[0;31m             \u001b[0;32mreturn\u001b[0m \u001b[0mself\u001b[0m\u001b[0;34m.\u001b[0m\u001b[0m_call\u001b[0m\u001b[0;34m(\u001b[0m\u001b[0minputs\u001b[0m\u001b[0;34m)\u001b[0m\u001b[0;34m\u001b[0m\u001b[0;34m\u001b[0m\u001b[0m\n\u001b[0m\u001b[1;32m   2980\u001b[0m         \u001b[0;32melse\u001b[0m\u001b[0;34m:\u001b[0m\u001b[0;34m\u001b[0m\u001b[0;34m\u001b[0m\u001b[0m\n\u001b[1;32m   2981\u001b[0m             \u001b[0;32mif\u001b[0m \u001b[0mpy_any\u001b[0m\u001b[0;34m(\u001b[0m\u001b[0mis_tensor\u001b[0m\u001b[0;34m(\u001b[0m\u001b[0mx\u001b[0m\u001b[0;34m)\u001b[0m \u001b[0;32mfor\u001b[0m \u001b[0mx\u001b[0m \u001b[0;32min\u001b[0m \u001b[0minputs\u001b[0m\u001b[0;34m)\u001b[0m\u001b[0;34m:\u001b[0m\u001b[0;34m\u001b[0m\u001b[0;34m\u001b[0m\u001b[0m\n",
            "\u001b[0;32m/usr/local/lib/python3.6/dist-packages/keras/backend/tensorflow_backend.py\u001b[0m in \u001b[0;36m_call\u001b[0;34m(self, inputs)\u001b[0m\n\u001b[1;32m   2935\u001b[0m             \u001b[0mfetched\u001b[0m \u001b[0;34m=\u001b[0m \u001b[0mself\u001b[0m\u001b[0;34m.\u001b[0m\u001b[0m_callable_fn\u001b[0m\u001b[0;34m(\u001b[0m\u001b[0;34m*\u001b[0m\u001b[0marray_vals\u001b[0m\u001b[0;34m,\u001b[0m \u001b[0mrun_metadata\u001b[0m\u001b[0;34m=\u001b[0m\u001b[0mself\u001b[0m\u001b[0;34m.\u001b[0m\u001b[0mrun_metadata\u001b[0m\u001b[0;34m)\u001b[0m\u001b[0;34m\u001b[0m\u001b[0;34m\u001b[0m\u001b[0m\n\u001b[1;32m   2936\u001b[0m         \u001b[0;32melse\u001b[0m\u001b[0;34m:\u001b[0m\u001b[0;34m\u001b[0m\u001b[0;34m\u001b[0m\u001b[0m\n\u001b[0;32m-> 2937\u001b[0;31m             \u001b[0mfetched\u001b[0m \u001b[0;34m=\u001b[0m \u001b[0mself\u001b[0m\u001b[0;34m.\u001b[0m\u001b[0m_callable_fn\u001b[0m\u001b[0;34m(\u001b[0m\u001b[0;34m*\u001b[0m\u001b[0marray_vals\u001b[0m\u001b[0;34m)\u001b[0m\u001b[0;34m\u001b[0m\u001b[0;34m\u001b[0m\u001b[0m\n\u001b[0m\u001b[1;32m   2938\u001b[0m         \u001b[0;32mreturn\u001b[0m \u001b[0mfetched\u001b[0m\u001b[0;34m[\u001b[0m\u001b[0;34m:\u001b[0m\u001b[0mlen\u001b[0m\u001b[0;34m(\u001b[0m\u001b[0mself\u001b[0m\u001b[0;34m.\u001b[0m\u001b[0moutputs\u001b[0m\u001b[0;34m)\u001b[0m\u001b[0;34m]\u001b[0m\u001b[0;34m\u001b[0m\u001b[0;34m\u001b[0m\u001b[0m\n\u001b[1;32m   2939\u001b[0m \u001b[0;34m\u001b[0m\u001b[0m\n",
            "\u001b[0;32m/usr/local/lib/python3.6/dist-packages/tensorflow_core/python/client/session.py\u001b[0m in \u001b[0;36m__call__\u001b[0;34m(self, *args, **kwargs)\u001b[0m\n\u001b[1;32m   1470\u001b[0m         ret = tf_session.TF_SessionRunCallable(self._session._session,\n\u001b[1;32m   1471\u001b[0m                                                \u001b[0mself\u001b[0m\u001b[0;34m.\u001b[0m\u001b[0m_handle\u001b[0m\u001b[0;34m,\u001b[0m \u001b[0margs\u001b[0m\u001b[0;34m,\u001b[0m\u001b[0;34m\u001b[0m\u001b[0;34m\u001b[0m\u001b[0m\n\u001b[0;32m-> 1472\u001b[0;31m                                                run_metadata_ptr)\n\u001b[0m\u001b[1;32m   1473\u001b[0m         \u001b[0;32mif\u001b[0m \u001b[0mrun_metadata\u001b[0m\u001b[0;34m:\u001b[0m\u001b[0;34m\u001b[0m\u001b[0;34m\u001b[0m\u001b[0m\n\u001b[1;32m   1474\u001b[0m           \u001b[0mproto_data\u001b[0m \u001b[0;34m=\u001b[0m \u001b[0mtf_session\u001b[0m\u001b[0;34m.\u001b[0m\u001b[0mTF_GetBuffer\u001b[0m\u001b[0;34m(\u001b[0m\u001b[0mrun_metadata_ptr\u001b[0m\u001b[0;34m)\u001b[0m\u001b[0;34m\u001b[0m\u001b[0;34m\u001b[0m\u001b[0m\n",
            "\u001b[0;31mKeyboardInterrupt\u001b[0m: "
          ]
        }
      ]
    },
    {
      "cell_type": "code",
      "metadata": {
        "id": "2UYiq6CDrBvC",
        "colab_type": "code",
        "colab": {}
      },
      "source": [
        ""
      ],
      "execution_count": 0,
      "outputs": []
    }
  ]
}